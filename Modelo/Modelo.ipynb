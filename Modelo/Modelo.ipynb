{
 "cells": [
  {
   "cell_type": "markdown",
   "id": "cbfbb59b",
   "metadata": {},
   "source": [
    "# Proyecto final: Modelización"
   ]
  },
  {
   "cell_type": "markdown",
   "id": "6069bc67",
   "metadata": {},
   "source": [
    "## Objetivo"
   ]
  },
  {
   "cell_type": "markdown",
   "id": "b16fed7a",
   "metadata": {},
   "source": [
    "Debemos construir un modelo de clasificación que prediga la probabilidad de que un paciente haya sufrido algún tipo de enfermedad cardíaca. Se ha de tener en cuenta que decirle a un asegurado que tiene una enfermedad cardíaca cuando realmente no la ha tenido supone un riesgo de pérdida de clientes y, en consecuencia, de ingresos mucho mayor que el hecho de no asignarle una enfermedad cardíaca a alguien que si la ha tenido. La aseguradora considera crucial que esta característica se vea reflejada en el modelo construido."
   ]
  },
  {
   "cell_type": "markdown",
   "id": "d4388a7c",
   "metadata": {},
   "source": [
    "## 1. Librerías y datos"
   ]
  },
  {
   "cell_type": "markdown",
   "id": "29eaed0f",
   "metadata": {},
   "source": [
    "### 1.1 Instalación de librerías e importación"
   ]
  },
  {
   "cell_type": "code",
   "execution_count": 10,
   "id": "d90e8c9a",
   "metadata": {},
   "outputs": [
    {
     "name": "stdout",
     "output_type": "stream",
     "text": [
      "Collecting xgboost\n",
      "  Downloading xgboost-1.7.1-py3-none-macosx_10_15_x86_64.macosx_11_0_x86_64.macosx_12_0_x86_64.whl (1.8 MB)\n",
      "\u001b[K     |████████████████████████████████| 1.8 MB 2.1 MB/s eta 0:00:01\n",
      "\u001b[?25hRequirement already satisfied: numpy in /Users/lauramanzanos/opt/anaconda3/lib/python3.8/site-packages (from xgboost) (1.20.1)\n",
      "Requirement already satisfied: scipy in /Users/lauramanzanos/opt/anaconda3/lib/python3.8/site-packages (from xgboost) (1.6.2)\n",
      "Installing collected packages: xgboost\n",
      "Successfully installed xgboost-1.7.1\n",
      "Note: you may need to restart the kernel to use updated packages.\n"
     ]
    }
   ],
   "source": [
    "pip install xgboost"
   ]
  },
  {
   "cell_type": "code",
   "execution_count": 13,
   "id": "8b4112fd",
   "metadata": {},
   "outputs": [
    {
     "name": "stdout",
     "output_type": "stream",
     "text": [
      "Collecting bayesian-optimization\n",
      "  Downloading bayesian_optimization-1.3.1-py3-none-any.whl (16 kB)\n",
      "Requirement already satisfied: numpy>=1.9.0 in /Users/lauramanzanos/opt/anaconda3/lib/python3.8/site-packages (from bayesian-optimization) (1.20.1)\n",
      "Requirement already satisfied: scikit-learn>=0.18.0 in /Users/lauramanzanos/opt/anaconda3/lib/python3.8/site-packages (from bayesian-optimization) (0.24.1)\n",
      "Requirement already satisfied: scipy>=1.0.0 in /Users/lauramanzanos/opt/anaconda3/lib/python3.8/site-packages (from bayesian-optimization) (1.6.2)\n",
      "Requirement already satisfied: threadpoolctl>=2.0.0 in /Users/lauramanzanos/opt/anaconda3/lib/python3.8/site-packages (from scikit-learn>=0.18.0->bayesian-optimization) (2.1.0)\n",
      "Requirement already satisfied: joblib>=0.11 in /Users/lauramanzanos/opt/anaconda3/lib/python3.8/site-packages (from scikit-learn>=0.18.0->bayesian-optimization) (1.0.1)\n",
      "Installing collected packages: bayesian-optimization\n",
      "Successfully installed bayesian-optimization-1.3.1\n",
      "Note: you may need to restart the kernel to use updated packages.\n"
     ]
    }
   ],
   "source": [
    "pip install bayesian-optimization"
   ]
  },
  {
   "cell_type": "code",
   "execution_count": 21,
   "id": "db728a72",
   "metadata": {},
   "outputs": [
    {
     "name": "stdout",
     "output_type": "stream",
     "text": [
      "Requirement already satisfied: imbalanced-learn in /Users/alfonsoserrano-suner/opt/anaconda3/lib/python3.9/site-packages (0.9.1)\n",
      "Requirement already satisfied: scipy>=1.3.2 in /Users/alfonsoserrano-suner/opt/anaconda3/lib/python3.9/site-packages (from imbalanced-learn) (1.7.3)\n",
      "Requirement already satisfied: scikit-learn>=1.1.0 in /Users/alfonsoserrano-suner/opt/anaconda3/lib/python3.9/site-packages (from imbalanced-learn) (1.1.3)\n",
      "Requirement already satisfied: threadpoolctl>=2.0.0 in /Users/alfonsoserrano-suner/opt/anaconda3/lib/python3.9/site-packages (from imbalanced-learn) (2.2.0)\n",
      "Requirement already satisfied: numpy>=1.17.3 in /Users/alfonsoserrano-suner/opt/anaconda3/lib/python3.9/site-packages (from imbalanced-learn) (1.22.4)\n",
      "Requirement already satisfied: joblib>=1.0.0 in /Users/alfonsoserrano-suner/opt/anaconda3/lib/python3.9/site-packages (from imbalanced-learn) (1.1.1)\n",
      "Note: you may need to restart the kernel to use updated packages.\n"
     ]
    }
   ],
   "source": [
    "pip install imbalanced-learn\n"
   ]
  },
  {
   "cell_type": "code",
   "execution_count": 23,
   "id": "1ba260f7",
   "metadata": {},
   "outputs": [
    {
     "name": "stdout",
     "output_type": "stream",
     "text": [
      "Collecting threadpoolctl==3.1.0\n",
      "  Downloading threadpoolctl-3.1.0-py3-none-any.whl (14 kB)\n",
      "Installing collected packages: threadpoolctl\n",
      "  Attempting uninstall: threadpoolctl\n",
      "    Found existing installation: threadpoolctl 2.2.0\n",
      "    Uninstalling threadpoolctl-2.2.0:\n",
      "      Successfully uninstalled threadpoolctl-2.2.0\n",
      "Successfully installed threadpoolctl-3.1.0\n",
      "Note: you may need to restart the kernel to use updated packages.\n"
     ]
    }
   ],
   "source": [
    "pip install threadpoolctl==3.1.0"
   ]
  },
  {
   "cell_type": "code",
   "execution_count": 65,
   "id": "85941a41",
   "metadata": {},
   "outputs": [],
   "source": [
    "# Librerías\n",
    "\n",
    "import pandas as pd\n",
    "import numpy as np\n",
    "from matplotlib import pyplot as plt\n",
    "\n",
    "from sklearn import datasets\n",
    "from sklearn.model_selection import train_test_split\n",
    "from sklearn.preprocessing import StandardScaler\n",
    "\n",
    "from sklearn.decomposition import PCA\n",
    "from sklearn.linear_model import LogisticRegression\n",
    "from sklearn.ensemble import RandomForestClassifier\n",
    "from sklearn.cluster import KMeans\n",
    "\n",
    "from sklearn.metrics import accuracy_score\n",
    "from sklearn.metrics import confusion_matrix\n",
    "from sklearn.metrics import classification_report\n",
    "from sklearn.metrics import precision_score, recall_score, f1_score, accuracy_score\n",
    "\n",
    "import plotly.express as px\n",
    "import plotly.graph_objects as go\n",
    "import plotly.figure_factory as ff\n",
    "from plotly.subplots import make_subplots\n",
    "\n",
    "from itertools import compress\n",
    "\n",
    "import xgboost as xgb\n",
    "from bayes_opt import BayesianOptimization"
   ]
  },
  {
   "cell_type": "markdown",
   "id": "f3918a36",
   "metadata": {},
   "source": [
    "### 1.2 Lectura de los datos"
   ]
  },
  {
   "cell_type": "code",
   "execution_count": 2,
   "id": "da95b5cd",
   "metadata": {},
   "outputs": [],
   "source": [
    "df = pd.read_csv(\"../Datos/heart_2020_cleaned.csv\")"
   ]
  },
  {
   "cell_type": "code",
   "execution_count": 3,
   "id": "b74d1010",
   "metadata": {},
   "outputs": [
    {
     "data": {
      "text/html": [
       "<div>\n",
       "<style scoped>\n",
       "    .dataframe tbody tr th:only-of-type {\n",
       "        vertical-align: middle;\n",
       "    }\n",
       "\n",
       "    .dataframe tbody tr th {\n",
       "        vertical-align: top;\n",
       "    }\n",
       "\n",
       "    .dataframe thead th {\n",
       "        text-align: right;\n",
       "    }\n",
       "</style>\n",
       "<table border=\"1\" class=\"dataframe\">\n",
       "  <thead>\n",
       "    <tr style=\"text-align: right;\">\n",
       "      <th></th>\n",
       "      <th>HeartDisease</th>\n",
       "      <th>BMI</th>\n",
       "      <th>Smoking</th>\n",
       "      <th>AlcoholDrinking</th>\n",
       "      <th>Stroke</th>\n",
       "      <th>PhysicalHealth</th>\n",
       "      <th>MentalHealth</th>\n",
       "      <th>DiffWalking</th>\n",
       "      <th>Sex</th>\n",
       "      <th>AgeCategory</th>\n",
       "      <th>Race</th>\n",
       "      <th>Diabetic</th>\n",
       "      <th>PhysicalActivity</th>\n",
       "      <th>GenHealth</th>\n",
       "      <th>SleepTime</th>\n",
       "      <th>Asthma</th>\n",
       "      <th>KidneyDisease</th>\n",
       "      <th>SkinCancer</th>\n",
       "    </tr>\n",
       "  </thead>\n",
       "  <tbody>\n",
       "    <tr>\n",
       "      <th>0</th>\n",
       "      <td>No</td>\n",
       "      <td>16.60</td>\n",
       "      <td>Yes</td>\n",
       "      <td>No</td>\n",
       "      <td>No</td>\n",
       "      <td>3.0</td>\n",
       "      <td>30.0</td>\n",
       "      <td>No</td>\n",
       "      <td>Female</td>\n",
       "      <td>55-59</td>\n",
       "      <td>White</td>\n",
       "      <td>Yes</td>\n",
       "      <td>Yes</td>\n",
       "      <td>Very good</td>\n",
       "      <td>5.0</td>\n",
       "      <td>Yes</td>\n",
       "      <td>No</td>\n",
       "      <td>Yes</td>\n",
       "    </tr>\n",
       "    <tr>\n",
       "      <th>1</th>\n",
       "      <td>No</td>\n",
       "      <td>20.34</td>\n",
       "      <td>No</td>\n",
       "      <td>No</td>\n",
       "      <td>Yes</td>\n",
       "      <td>0.0</td>\n",
       "      <td>0.0</td>\n",
       "      <td>No</td>\n",
       "      <td>Female</td>\n",
       "      <td>80 or older</td>\n",
       "      <td>White</td>\n",
       "      <td>No</td>\n",
       "      <td>Yes</td>\n",
       "      <td>Very good</td>\n",
       "      <td>7.0</td>\n",
       "      <td>No</td>\n",
       "      <td>No</td>\n",
       "      <td>No</td>\n",
       "    </tr>\n",
       "    <tr>\n",
       "      <th>2</th>\n",
       "      <td>No</td>\n",
       "      <td>26.58</td>\n",
       "      <td>Yes</td>\n",
       "      <td>No</td>\n",
       "      <td>No</td>\n",
       "      <td>20.0</td>\n",
       "      <td>30.0</td>\n",
       "      <td>No</td>\n",
       "      <td>Male</td>\n",
       "      <td>65-69</td>\n",
       "      <td>White</td>\n",
       "      <td>Yes</td>\n",
       "      <td>Yes</td>\n",
       "      <td>Fair</td>\n",
       "      <td>8.0</td>\n",
       "      <td>Yes</td>\n",
       "      <td>No</td>\n",
       "      <td>No</td>\n",
       "    </tr>\n",
       "    <tr>\n",
       "      <th>3</th>\n",
       "      <td>No</td>\n",
       "      <td>24.21</td>\n",
       "      <td>No</td>\n",
       "      <td>No</td>\n",
       "      <td>No</td>\n",
       "      <td>0.0</td>\n",
       "      <td>0.0</td>\n",
       "      <td>No</td>\n",
       "      <td>Female</td>\n",
       "      <td>75-79</td>\n",
       "      <td>White</td>\n",
       "      <td>No</td>\n",
       "      <td>No</td>\n",
       "      <td>Good</td>\n",
       "      <td>6.0</td>\n",
       "      <td>No</td>\n",
       "      <td>No</td>\n",
       "      <td>Yes</td>\n",
       "    </tr>\n",
       "    <tr>\n",
       "      <th>4</th>\n",
       "      <td>No</td>\n",
       "      <td>23.71</td>\n",
       "      <td>No</td>\n",
       "      <td>No</td>\n",
       "      <td>No</td>\n",
       "      <td>28.0</td>\n",
       "      <td>0.0</td>\n",
       "      <td>Yes</td>\n",
       "      <td>Female</td>\n",
       "      <td>40-44</td>\n",
       "      <td>White</td>\n",
       "      <td>No</td>\n",
       "      <td>Yes</td>\n",
       "      <td>Very good</td>\n",
       "      <td>8.0</td>\n",
       "      <td>No</td>\n",
       "      <td>No</td>\n",
       "      <td>No</td>\n",
       "    </tr>\n",
       "    <tr>\n",
       "      <th>5</th>\n",
       "      <td>Yes</td>\n",
       "      <td>28.87</td>\n",
       "      <td>Yes</td>\n",
       "      <td>No</td>\n",
       "      <td>No</td>\n",
       "      <td>6.0</td>\n",
       "      <td>0.0</td>\n",
       "      <td>Yes</td>\n",
       "      <td>Female</td>\n",
       "      <td>75-79</td>\n",
       "      <td>Black</td>\n",
       "      <td>No</td>\n",
       "      <td>No</td>\n",
       "      <td>Fair</td>\n",
       "      <td>12.0</td>\n",
       "      <td>No</td>\n",
       "      <td>No</td>\n",
       "      <td>No</td>\n",
       "    </tr>\n",
       "    <tr>\n",
       "      <th>6</th>\n",
       "      <td>No</td>\n",
       "      <td>21.63</td>\n",
       "      <td>No</td>\n",
       "      <td>No</td>\n",
       "      <td>No</td>\n",
       "      <td>15.0</td>\n",
       "      <td>0.0</td>\n",
       "      <td>No</td>\n",
       "      <td>Female</td>\n",
       "      <td>70-74</td>\n",
       "      <td>White</td>\n",
       "      <td>No</td>\n",
       "      <td>Yes</td>\n",
       "      <td>Fair</td>\n",
       "      <td>4.0</td>\n",
       "      <td>Yes</td>\n",
       "      <td>No</td>\n",
       "      <td>Yes</td>\n",
       "    </tr>\n",
       "    <tr>\n",
       "      <th>7</th>\n",
       "      <td>No</td>\n",
       "      <td>31.64</td>\n",
       "      <td>Yes</td>\n",
       "      <td>No</td>\n",
       "      <td>No</td>\n",
       "      <td>5.0</td>\n",
       "      <td>0.0</td>\n",
       "      <td>Yes</td>\n",
       "      <td>Female</td>\n",
       "      <td>80 or older</td>\n",
       "      <td>White</td>\n",
       "      <td>Yes</td>\n",
       "      <td>No</td>\n",
       "      <td>Good</td>\n",
       "      <td>9.0</td>\n",
       "      <td>Yes</td>\n",
       "      <td>No</td>\n",
       "      <td>No</td>\n",
       "    </tr>\n",
       "    <tr>\n",
       "      <th>8</th>\n",
       "      <td>No</td>\n",
       "      <td>26.45</td>\n",
       "      <td>No</td>\n",
       "      <td>No</td>\n",
       "      <td>No</td>\n",
       "      <td>0.0</td>\n",
       "      <td>0.0</td>\n",
       "      <td>No</td>\n",
       "      <td>Female</td>\n",
       "      <td>80 or older</td>\n",
       "      <td>White</td>\n",
       "      <td>No, borderline diabetes</td>\n",
       "      <td>No</td>\n",
       "      <td>Fair</td>\n",
       "      <td>5.0</td>\n",
       "      <td>No</td>\n",
       "      <td>Yes</td>\n",
       "      <td>No</td>\n",
       "    </tr>\n",
       "    <tr>\n",
       "      <th>9</th>\n",
       "      <td>No</td>\n",
       "      <td>40.69</td>\n",
       "      <td>No</td>\n",
       "      <td>No</td>\n",
       "      <td>No</td>\n",
       "      <td>0.0</td>\n",
       "      <td>0.0</td>\n",
       "      <td>Yes</td>\n",
       "      <td>Male</td>\n",
       "      <td>65-69</td>\n",
       "      <td>White</td>\n",
       "      <td>No</td>\n",
       "      <td>Yes</td>\n",
       "      <td>Good</td>\n",
       "      <td>10.0</td>\n",
       "      <td>No</td>\n",
       "      <td>No</td>\n",
       "      <td>No</td>\n",
       "    </tr>\n",
       "  </tbody>\n",
       "</table>\n",
       "</div>"
      ],
      "text/plain": [
       "  HeartDisease    BMI Smoking AlcoholDrinking Stroke  PhysicalHealth  \\\n",
       "0           No  16.60     Yes              No     No             3.0   \n",
       "1           No  20.34      No              No    Yes             0.0   \n",
       "2           No  26.58     Yes              No     No            20.0   \n",
       "3           No  24.21      No              No     No             0.0   \n",
       "4           No  23.71      No              No     No            28.0   \n",
       "5          Yes  28.87     Yes              No     No             6.0   \n",
       "6           No  21.63      No              No     No            15.0   \n",
       "7           No  31.64     Yes              No     No             5.0   \n",
       "8           No  26.45      No              No     No             0.0   \n",
       "9           No  40.69      No              No     No             0.0   \n",
       "\n",
       "   MentalHealth DiffWalking     Sex  AgeCategory   Race  \\\n",
       "0          30.0          No  Female        55-59  White   \n",
       "1           0.0          No  Female  80 or older  White   \n",
       "2          30.0          No    Male        65-69  White   \n",
       "3           0.0          No  Female        75-79  White   \n",
       "4           0.0         Yes  Female        40-44  White   \n",
       "5           0.0         Yes  Female        75-79  Black   \n",
       "6           0.0          No  Female        70-74  White   \n",
       "7           0.0         Yes  Female  80 or older  White   \n",
       "8           0.0          No  Female  80 or older  White   \n",
       "9           0.0         Yes    Male        65-69  White   \n",
       "\n",
       "                  Diabetic PhysicalActivity  GenHealth  SleepTime Asthma  \\\n",
       "0                      Yes              Yes  Very good        5.0    Yes   \n",
       "1                       No              Yes  Very good        7.0     No   \n",
       "2                      Yes              Yes       Fair        8.0    Yes   \n",
       "3                       No               No       Good        6.0     No   \n",
       "4                       No              Yes  Very good        8.0     No   \n",
       "5                       No               No       Fair       12.0     No   \n",
       "6                       No              Yes       Fair        4.0    Yes   \n",
       "7                      Yes               No       Good        9.0    Yes   \n",
       "8  No, borderline diabetes               No       Fair        5.0     No   \n",
       "9                       No              Yes       Good       10.0     No   \n",
       "\n",
       "  KidneyDisease SkinCancer  \n",
       "0            No        Yes  \n",
       "1            No         No  \n",
       "2            No         No  \n",
       "3            No        Yes  \n",
       "4            No         No  \n",
       "5            No         No  \n",
       "6            No        Yes  \n",
       "7            No         No  \n",
       "8           Yes         No  \n",
       "9            No         No  "
      ]
     },
     "execution_count": 3,
     "metadata": {},
     "output_type": "execute_result"
    }
   ],
   "source": [
    "df.head(10)"
   ]
  },
  {
   "cell_type": "markdown",
   "id": "9e128989",
   "metadata": {},
   "source": [
    "## 2. Codificación de variables categóricas"
   ]
  },
  {
   "cell_type": "code",
   "execution_count": 4,
   "id": "98dca467",
   "metadata": {},
   "outputs": [
    {
     "data": {
      "text/html": [
       "<div>\n",
       "<style scoped>\n",
       "    .dataframe tbody tr th:only-of-type {\n",
       "        vertical-align: middle;\n",
       "    }\n",
       "\n",
       "    .dataframe tbody tr th {\n",
       "        vertical-align: top;\n",
       "    }\n",
       "\n",
       "    .dataframe thead th {\n",
       "        text-align: right;\n",
       "    }\n",
       "</style>\n",
       "<table border=\"1\" class=\"dataframe\">\n",
       "  <thead>\n",
       "    <tr style=\"text-align: right;\">\n",
       "      <th></th>\n",
       "      <th>HeartDisease</th>\n",
       "      <th>Smoking</th>\n",
       "      <th>AlcoholDrinking</th>\n",
       "      <th>Stroke</th>\n",
       "      <th>DiffWalking</th>\n",
       "      <th>Sex</th>\n",
       "      <th>AgeCategory</th>\n",
       "      <th>Race</th>\n",
       "      <th>Diabetic</th>\n",
       "      <th>PhysicalActivity</th>\n",
       "      <th>GenHealth</th>\n",
       "      <th>Asthma</th>\n",
       "      <th>KidneyDisease</th>\n",
       "      <th>SkinCancer</th>\n",
       "    </tr>\n",
       "  </thead>\n",
       "  <tbody>\n",
       "    <tr>\n",
       "      <th>0</th>\n",
       "      <td>No</td>\n",
       "      <td>Yes</td>\n",
       "      <td>No</td>\n",
       "      <td>No</td>\n",
       "      <td>No</td>\n",
       "      <td>Female</td>\n",
       "      <td>55-59</td>\n",
       "      <td>White</td>\n",
       "      <td>Yes</td>\n",
       "      <td>Yes</td>\n",
       "      <td>Very good</td>\n",
       "      <td>Yes</td>\n",
       "      <td>No</td>\n",
       "      <td>Yes</td>\n",
       "    </tr>\n",
       "    <tr>\n",
       "      <th>1</th>\n",
       "      <td>No</td>\n",
       "      <td>No</td>\n",
       "      <td>No</td>\n",
       "      <td>Yes</td>\n",
       "      <td>No</td>\n",
       "      <td>Female</td>\n",
       "      <td>80 or older</td>\n",
       "      <td>White</td>\n",
       "      <td>No</td>\n",
       "      <td>Yes</td>\n",
       "      <td>Very good</td>\n",
       "      <td>No</td>\n",
       "      <td>No</td>\n",
       "      <td>No</td>\n",
       "    </tr>\n",
       "    <tr>\n",
       "      <th>2</th>\n",
       "      <td>No</td>\n",
       "      <td>Yes</td>\n",
       "      <td>No</td>\n",
       "      <td>No</td>\n",
       "      <td>No</td>\n",
       "      <td>Male</td>\n",
       "      <td>65-69</td>\n",
       "      <td>White</td>\n",
       "      <td>Yes</td>\n",
       "      <td>Yes</td>\n",
       "      <td>Fair</td>\n",
       "      <td>Yes</td>\n",
       "      <td>No</td>\n",
       "      <td>No</td>\n",
       "    </tr>\n",
       "    <tr>\n",
       "      <th>3</th>\n",
       "      <td>No</td>\n",
       "      <td>No</td>\n",
       "      <td>No</td>\n",
       "      <td>No</td>\n",
       "      <td>No</td>\n",
       "      <td>Female</td>\n",
       "      <td>75-79</td>\n",
       "      <td>White</td>\n",
       "      <td>No</td>\n",
       "      <td>No</td>\n",
       "      <td>Good</td>\n",
       "      <td>No</td>\n",
       "      <td>No</td>\n",
       "      <td>Yes</td>\n",
       "    </tr>\n",
       "    <tr>\n",
       "      <th>4</th>\n",
       "      <td>No</td>\n",
       "      <td>No</td>\n",
       "      <td>No</td>\n",
       "      <td>No</td>\n",
       "      <td>Yes</td>\n",
       "      <td>Female</td>\n",
       "      <td>40-44</td>\n",
       "      <td>White</td>\n",
       "      <td>No</td>\n",
       "      <td>Yes</td>\n",
       "      <td>Very good</td>\n",
       "      <td>No</td>\n",
       "      <td>No</td>\n",
       "      <td>No</td>\n",
       "    </tr>\n",
       "  </tbody>\n",
       "</table>\n",
       "</div>"
      ],
      "text/plain": [
       "  HeartDisease Smoking AlcoholDrinking Stroke DiffWalking     Sex  \\\n",
       "0           No     Yes              No     No          No  Female   \n",
       "1           No      No              No    Yes          No  Female   \n",
       "2           No     Yes              No     No          No    Male   \n",
       "3           No      No              No     No          No  Female   \n",
       "4           No      No              No     No         Yes  Female   \n",
       "\n",
       "   AgeCategory   Race Diabetic PhysicalActivity  GenHealth Asthma  \\\n",
       "0        55-59  White      Yes              Yes  Very good    Yes   \n",
       "1  80 or older  White       No              Yes  Very good     No   \n",
       "2        65-69  White      Yes              Yes       Fair    Yes   \n",
       "3        75-79  White       No               No       Good     No   \n",
       "4        40-44  White       No              Yes  Very good     No   \n",
       "\n",
       "  KidneyDisease SkinCancer  \n",
       "0            No        Yes  \n",
       "1            No         No  \n",
       "2            No         No  \n",
       "3            No        Yes  \n",
       "4            No         No  "
      ]
     },
     "execution_count": 4,
     "metadata": {},
     "output_type": "execute_result"
    }
   ],
   "source": [
    "# Antes de nada, un vistazo general a las categorías de cada una de las vars. no numéricas\n",
    "\n",
    "categorical = df.select_dtypes(include=object)\n",
    "categorical.head(5)"
   ]
  },
  {
   "cell_type": "code",
   "execution_count": 5,
   "id": "ddb654e7",
   "metadata": {},
   "outputs": [
    {
     "name": "stdout",
     "output_type": "stream",
     "text": [
      "\n",
      "\u001b[1mHeartDisease\u001b[0m\n",
      "No     292422\n",
      "Yes     27373\n",
      "Name: HeartDisease, dtype: int64\n",
      "\n",
      "\u001b[1mSmoking\u001b[0m\n",
      "No     187887\n",
      "Yes    131908\n",
      "Name: Smoking, dtype: int64\n",
      "\n",
      "\u001b[1mAlcoholDrinking\u001b[0m\n",
      "No     298018\n",
      "Yes     21777\n",
      "Name: AlcoholDrinking, dtype: int64\n",
      "\n",
      "\u001b[1mStroke\u001b[0m\n",
      "No     307726\n",
      "Yes     12069\n",
      "Name: Stroke, dtype: int64\n",
      "\n",
      "\u001b[1mDiffWalking\u001b[0m\n",
      "No     275385\n",
      "Yes     44410\n",
      "Name: DiffWalking, dtype: int64\n",
      "\n",
      "\u001b[1mSex\u001b[0m\n",
      "Female    167805\n",
      "Male      151990\n",
      "Name: Sex, dtype: int64\n",
      "\n",
      "\u001b[1mAgeCategory\u001b[0m\n",
      "65-69          34151\n",
      "60-64          33686\n",
      "70-74          31065\n",
      "55-59          29757\n",
      "50-54          25382\n",
      "80 or older    24153\n",
      "45-49          21791\n",
      "75-79          21482\n",
      "18-24          21064\n",
      "40-44          21006\n",
      "35-39          20550\n",
      "30-34          18753\n",
      "25-29          16955\n",
      "Name: AgeCategory, dtype: int64\n",
      "\n",
      "\u001b[1mRace\u001b[0m\n",
      "White                             245212\n",
      "Hispanic                           27446\n",
      "Black                              22939\n",
      "Other                              10928\n",
      "Asian                               8068\n",
      "American Indian/Alaskan Native      5202\n",
      "Name: Race, dtype: int64\n",
      "\n",
      "\u001b[1mDiabetic\u001b[0m\n",
      "No                         269653\n",
      "Yes                         40802\n",
      "No, borderline diabetes      6781\n",
      "Yes (during pregnancy)       2559\n",
      "Name: Diabetic, dtype: int64\n",
      "\n",
      "\u001b[1mPhysicalActivity\u001b[0m\n",
      "Yes    247957\n",
      "No      71838\n",
      "Name: PhysicalActivity, dtype: int64\n",
      "\n",
      "\u001b[1mGenHealth\u001b[0m\n",
      "Very good    113858\n",
      "Good          93129\n",
      "Excellent     66842\n",
      "Fair          34677\n",
      "Poor          11289\n",
      "Name: GenHealth, dtype: int64\n",
      "\n",
      "\u001b[1mAsthma\u001b[0m\n",
      "No     276923\n",
      "Yes     42872\n",
      "Name: Asthma, dtype: int64\n",
      "\n",
      "\u001b[1mKidneyDisease\u001b[0m\n",
      "No     308016\n",
      "Yes     11779\n",
      "Name: KidneyDisease, dtype: int64\n",
      "\n",
      "\u001b[1mSkinCancer\u001b[0m\n",
      "No     289976\n",
      "Yes     29819\n",
      "Name: SkinCancer, dtype: int64\n"
     ]
    }
   ],
   "source": [
    "for col in categorical.columns:\n",
    "    print(\"\\n\" + '\\033[1m'+ str(col) + '\\033[0m')\n",
    "    print(pd.value_counts(categorical[col]))"
   ]
  },
  {
   "cell_type": "markdown",
   "id": "0e70996d",
   "metadata": {},
   "source": [
    "### 2.1 *Label encoding* para variables ordinales"
   ]
  },
  {
   "cell_type": "markdown",
   "id": "4c28c95c",
   "metadata": {},
   "source": [
    "Teniendo en cuenta lo que hemos visto anteriormente, podemos distinguir las siguientes dos variables **ordinales**: **GenHealth** y **AgeCategory**. No consideraremos *Diabetic* como ordinal porque no es evidente como habría de ordenarse la categoría \"*Yes (during pregnancy)*\" dentro de una escala unidimensional de intensidad de diabetes."
   ]
  },
  {
   "cell_type": "code",
   "execution_count": 6,
   "id": "646c9be9",
   "metadata": {},
   "outputs": [
    {
     "data": {
      "text/html": [
       "<div>\n",
       "<style scoped>\n",
       "    .dataframe tbody tr th:only-of-type {\n",
       "        vertical-align: middle;\n",
       "    }\n",
       "\n",
       "    .dataframe tbody tr th {\n",
       "        vertical-align: top;\n",
       "    }\n",
       "\n",
       "    .dataframe thead th {\n",
       "        text-align: right;\n",
       "    }\n",
       "</style>\n",
       "<table border=\"1\" class=\"dataframe\">\n",
       "  <thead>\n",
       "    <tr style=\"text-align: right;\">\n",
       "      <th></th>\n",
       "      <th>GenHealth</th>\n",
       "      <th>AgeCategory</th>\n",
       "    </tr>\n",
       "  </thead>\n",
       "  <tbody>\n",
       "    <tr>\n",
       "      <th>0</th>\n",
       "      <td>4</td>\n",
       "      <td>7</td>\n",
       "    </tr>\n",
       "    <tr>\n",
       "      <th>1</th>\n",
       "      <td>4</td>\n",
       "      <td>12</td>\n",
       "    </tr>\n",
       "    <tr>\n",
       "      <th>2</th>\n",
       "      <td>1</td>\n",
       "      <td>9</td>\n",
       "    </tr>\n",
       "    <tr>\n",
       "      <th>3</th>\n",
       "      <td>2</td>\n",
       "      <td>11</td>\n",
       "    </tr>\n",
       "    <tr>\n",
       "      <th>4</th>\n",
       "      <td>4</td>\n",
       "      <td>4</td>\n",
       "    </tr>\n",
       "    <tr>\n",
       "      <th>5</th>\n",
       "      <td>1</td>\n",
       "      <td>11</td>\n",
       "    </tr>\n",
       "    <tr>\n",
       "      <th>6</th>\n",
       "      <td>1</td>\n",
       "      <td>10</td>\n",
       "    </tr>\n",
       "    <tr>\n",
       "      <th>7</th>\n",
       "      <td>2</td>\n",
       "      <td>12</td>\n",
       "    </tr>\n",
       "    <tr>\n",
       "      <th>8</th>\n",
       "      <td>1</td>\n",
       "      <td>12</td>\n",
       "    </tr>\n",
       "    <tr>\n",
       "      <th>9</th>\n",
       "      <td>2</td>\n",
       "      <td>9</td>\n",
       "    </tr>\n",
       "  </tbody>\n",
       "</table>\n",
       "</div>"
      ],
      "text/plain": [
       "   GenHealth  AgeCategory\n",
       "0          4            7\n",
       "1          4           12\n",
       "2          1            9\n",
       "3          2           11\n",
       "4          4            4\n",
       "5          1           11\n",
       "6          1           10\n",
       "7          2           12\n",
       "8          1           12\n",
       "9          2            9"
      ]
     },
     "execution_count": 6,
     "metadata": {},
     "output_type": "execute_result"
    }
   ],
   "source": [
    "# Import label encoder\n",
    "from sklearn.preprocessing import LabelEncoder\n",
    "  \n",
    "# Applying  encoding to ordinal categorical variables\n",
    "label_encoder = LabelEncoder()\n",
    "df_encoded = df.copy()\n",
    "df_encoded['GenHealth']= label_encoder.fit_transform(df['GenHealth'])\n",
    "df_encoded['AgeCategory']= label_encoder.fit_transform(df['AgeCategory'])\n",
    "\n",
    "df_encoded[['GenHealth', 'AgeCategory']].head(10)"
   ]
  },
  {
   "cell_type": "markdown",
   "id": "1698ac66",
   "metadata": {},
   "source": [
    "### 2.2 *One Hot encoding* para variables no ordinales"
   ]
  },
  {
   "cell_type": "code",
   "execution_count": 7,
   "id": "d4de7adb",
   "metadata": {},
   "outputs": [
    {
     "data": {
      "text/html": [
       "<div>\n",
       "<style scoped>\n",
       "    .dataframe tbody tr th:only-of-type {\n",
       "        vertical-align: middle;\n",
       "    }\n",
       "\n",
       "    .dataframe tbody tr th {\n",
       "        vertical-align: top;\n",
       "    }\n",
       "\n",
       "    .dataframe thead th {\n",
       "        text-align: right;\n",
       "    }\n",
       "</style>\n",
       "<table border=\"1\" class=\"dataframe\">\n",
       "  <thead>\n",
       "    <tr style=\"text-align: right;\">\n",
       "      <th></th>\n",
       "      <th>BMI</th>\n",
       "      <th>PhysicalHealth</th>\n",
       "      <th>MentalHealth</th>\n",
       "      <th>AgeCategory</th>\n",
       "      <th>GenHealth</th>\n",
       "      <th>SleepTime</th>\n",
       "      <th>HeartDisease_Yes</th>\n",
       "      <th>Smoking_Yes</th>\n",
       "      <th>AlcoholDrinking_Yes</th>\n",
       "      <th>Stroke_Yes</th>\n",
       "      <th>...</th>\n",
       "      <th>Race_Hispanic</th>\n",
       "      <th>Race_Other</th>\n",
       "      <th>Race_White</th>\n",
       "      <th>Diabetic_No, borderline diabetes</th>\n",
       "      <th>Diabetic_Yes</th>\n",
       "      <th>Diabetic_Yes (during pregnancy)</th>\n",
       "      <th>PhysicalActivity_Yes</th>\n",
       "      <th>Asthma_Yes</th>\n",
       "      <th>KidneyDisease_Yes</th>\n",
       "      <th>SkinCancer_Yes</th>\n",
       "    </tr>\n",
       "  </thead>\n",
       "  <tbody>\n",
       "    <tr>\n",
       "      <th>0</th>\n",
       "      <td>16.60</td>\n",
       "      <td>3.0</td>\n",
       "      <td>30.0</td>\n",
       "      <td>7</td>\n",
       "      <td>4</td>\n",
       "      <td>5.0</td>\n",
       "      <td>0</td>\n",
       "      <td>1</td>\n",
       "      <td>0</td>\n",
       "      <td>0</td>\n",
       "      <td>...</td>\n",
       "      <td>0</td>\n",
       "      <td>0</td>\n",
       "      <td>1</td>\n",
       "      <td>0</td>\n",
       "      <td>1</td>\n",
       "      <td>0</td>\n",
       "      <td>1</td>\n",
       "      <td>1</td>\n",
       "      <td>0</td>\n",
       "      <td>1</td>\n",
       "    </tr>\n",
       "    <tr>\n",
       "      <th>1</th>\n",
       "      <td>20.34</td>\n",
       "      <td>0.0</td>\n",
       "      <td>0.0</td>\n",
       "      <td>12</td>\n",
       "      <td>4</td>\n",
       "      <td>7.0</td>\n",
       "      <td>0</td>\n",
       "      <td>0</td>\n",
       "      <td>0</td>\n",
       "      <td>1</td>\n",
       "      <td>...</td>\n",
       "      <td>0</td>\n",
       "      <td>0</td>\n",
       "      <td>1</td>\n",
       "      <td>0</td>\n",
       "      <td>0</td>\n",
       "      <td>0</td>\n",
       "      <td>1</td>\n",
       "      <td>0</td>\n",
       "      <td>0</td>\n",
       "      <td>0</td>\n",
       "    </tr>\n",
       "    <tr>\n",
       "      <th>2</th>\n",
       "      <td>26.58</td>\n",
       "      <td>20.0</td>\n",
       "      <td>30.0</td>\n",
       "      <td>9</td>\n",
       "      <td>1</td>\n",
       "      <td>8.0</td>\n",
       "      <td>0</td>\n",
       "      <td>1</td>\n",
       "      <td>0</td>\n",
       "      <td>0</td>\n",
       "      <td>...</td>\n",
       "      <td>0</td>\n",
       "      <td>0</td>\n",
       "      <td>1</td>\n",
       "      <td>0</td>\n",
       "      <td>1</td>\n",
       "      <td>0</td>\n",
       "      <td>1</td>\n",
       "      <td>1</td>\n",
       "      <td>0</td>\n",
       "      <td>0</td>\n",
       "    </tr>\n",
       "    <tr>\n",
       "      <th>3</th>\n",
       "      <td>24.21</td>\n",
       "      <td>0.0</td>\n",
       "      <td>0.0</td>\n",
       "      <td>11</td>\n",
       "      <td>2</td>\n",
       "      <td>6.0</td>\n",
       "      <td>0</td>\n",
       "      <td>0</td>\n",
       "      <td>0</td>\n",
       "      <td>0</td>\n",
       "      <td>...</td>\n",
       "      <td>0</td>\n",
       "      <td>0</td>\n",
       "      <td>1</td>\n",
       "      <td>0</td>\n",
       "      <td>0</td>\n",
       "      <td>0</td>\n",
       "      <td>0</td>\n",
       "      <td>0</td>\n",
       "      <td>0</td>\n",
       "      <td>1</td>\n",
       "    </tr>\n",
       "    <tr>\n",
       "      <th>4</th>\n",
       "      <td>23.71</td>\n",
       "      <td>28.0</td>\n",
       "      <td>0.0</td>\n",
       "      <td>4</td>\n",
       "      <td>4</td>\n",
       "      <td>8.0</td>\n",
       "      <td>0</td>\n",
       "      <td>0</td>\n",
       "      <td>0</td>\n",
       "      <td>0</td>\n",
       "      <td>...</td>\n",
       "      <td>0</td>\n",
       "      <td>0</td>\n",
       "      <td>1</td>\n",
       "      <td>0</td>\n",
       "      <td>0</td>\n",
       "      <td>0</td>\n",
       "      <td>1</td>\n",
       "      <td>0</td>\n",
       "      <td>0</td>\n",
       "      <td>0</td>\n",
       "    </tr>\n",
       "  </tbody>\n",
       "</table>\n",
       "<p>5 rows × 24 columns</p>\n",
       "</div>"
      ],
      "text/plain": [
       "     BMI  PhysicalHealth  MentalHealth  AgeCategory  GenHealth  SleepTime  \\\n",
       "0  16.60             3.0          30.0            7          4        5.0   \n",
       "1  20.34             0.0           0.0           12          4        7.0   \n",
       "2  26.58            20.0          30.0            9          1        8.0   \n",
       "3  24.21             0.0           0.0           11          2        6.0   \n",
       "4  23.71            28.0           0.0            4          4        8.0   \n",
       "\n",
       "   HeartDisease_Yes  Smoking_Yes  AlcoholDrinking_Yes  Stroke_Yes  ...  \\\n",
       "0                 0            1                    0           0  ...   \n",
       "1                 0            0                    0           1  ...   \n",
       "2                 0            1                    0           0  ...   \n",
       "3                 0            0                    0           0  ...   \n",
       "4                 0            0                    0           0  ...   \n",
       "\n",
       "   Race_Hispanic  Race_Other  Race_White  Diabetic_No, borderline diabetes  \\\n",
       "0              0           0           1                                 0   \n",
       "1              0           0           1                                 0   \n",
       "2              0           0           1                                 0   \n",
       "3              0           0           1                                 0   \n",
       "4              0           0           1                                 0   \n",
       "\n",
       "   Diabetic_Yes  Diabetic_Yes (during pregnancy)  PhysicalActivity_Yes  \\\n",
       "0             1                                0                     1   \n",
       "1             0                                0                     1   \n",
       "2             1                                0                     1   \n",
       "3             0                                0                     0   \n",
       "4             0                                0                     1   \n",
       "\n",
       "   Asthma_Yes  KidneyDisease_Yes  SkinCancer_Yes  \n",
       "0           1                  0               1  \n",
       "1           0                  0               0  \n",
       "2           1                  0               0  \n",
       "3           0                  0               1  \n",
       "4           0                  0               0  \n",
       "\n",
       "[5 rows x 24 columns]"
      ]
     },
     "execution_count": 7,
     "metadata": {},
     "output_type": "execute_result"
    }
   ],
   "source": [
    "df_encoded = pd.get_dummies(df_encoded, drop_first=True)\n",
    "df_encoded.head(5)"
   ]
  },
  {
   "cell_type": "markdown",
   "id": "ade0f9c4",
   "metadata": {},
   "source": [
    "## 3. Train-test separation"
   ]
  },
  {
   "cell_type": "markdown",
   "id": "9f9da05c",
   "metadata": {},
   "source": [
    "Antes de aplicar técnicas de selección de variables y cualquier otro pre-procesamiento restante, partiremos los datos en los subconjuntos de train y test. Los criterios y algoritmos de selección de variables se aplicarán sobre train para identificar los atributos a eliminar, y posteriormente se eliminarán esos mismos atributos del subconjunto de test."
   ]
  },
  {
   "cell_type": "code",
   "execution_count": 8,
   "id": "e3eac5e7",
   "metadata": {},
   "outputs": [
    {
     "name": "stdout",
     "output_type": "stream",
     "text": [
      "\n",
      "\u001b[1mDistribución del target en train\u001b[0m\n",
      "0    204876\n",
      "1     18980\n",
      "Name: HeartDisease_Yes, dtype: int64\n",
      "\n",
      "\u001b[1mDistribución del target en test\u001b[0m\n",
      "0    87546\n",
      "1     8393\n",
      "Name: HeartDisease_Yes, dtype: int64\n"
     ]
    }
   ],
   "source": [
    "# Train-test separation\n",
    "X = df_encoded.drop(['HeartDisease_Yes'], axis=1)\n",
    "y = df_encoded[['HeartDisease_Yes']]\n",
    "\n",
    "X_train, X_test, y_train, y_test = train_test_split(X, y ,test_size = 0.3, random_state = 123)\n",
    "\n",
    "print(\"\\n\" + '\\033[1m'+ 'Distribución del target en train' + '\\033[0m')\n",
    "print(pd.value_counts(y_train['HeartDisease_Yes']))\n",
    "\n",
    "print(\"\\n\" + '\\033[1m'+ 'Distribución del target en test' + '\\033[0m')\n",
    "print(pd.value_counts(y_test['HeartDisease_Yes']))"
   ]
  },
  {
   "cell_type": "markdown",
   "id": "a6cc827e",
   "metadata": {},
   "source": [
    "Se mantienen porcentajes similares de target=1 en train (9.26%) y test (9.58%), por lo que no vemos necesario aplicar sampling estratificado"
   ]
  },
  {
   "cell_type": "code",
   "execution_count": 9,
   "id": "a44e0235",
   "metadata": {},
   "outputs": [],
   "source": [
    "# La estandarización de variables previa al entrenamiento nos interesa para evaluar \n",
    "# posteriormente la importancia de cada variable\n",
    "\n",
    "scaler = StandardScaler()\n",
    "X_train_scaled = scaler.fit_transform(X_train)\n",
    "X_test_scaled = scaler.transform(X_test)\n",
    "\n",
    "X_train_scaled = pd.DataFrame(X_train_scaled, columns=X_train.columns)\n",
    "X_test_scaled = pd.DataFrame(X_test_scaled, columns=X_test.columns)"
   ]
  },
  {
   "cell_type": "markdown",
   "id": "c6ac5cc6",
   "metadata": {},
   "source": [
    "## 4. Selección de variables"
   ]
  },
  {
   "cell_type": "markdown",
   "id": "5b227801",
   "metadata": {},
   "source": [
    "Existen múltiples técnicas y criterios que pueden aplicarse. Nosotros nos hemos decantado por los que se muestran a continuación."
   ]
  },
  {
   "cell_type": "markdown",
   "id": "39809376",
   "metadata": {},
   "source": [
    "### 4.1 Eliminación de variables altamente correladas"
   ]
  },
  {
   "cell_type": "code",
   "execution_count": 10,
   "id": "81f64dfd",
   "metadata": {},
   "outputs": [
    {
     "data": {
      "text/html": [
       "<div>\n",
       "<style scoped>\n",
       "    .dataframe tbody tr th:only-of-type {\n",
       "        vertical-align: middle;\n",
       "    }\n",
       "\n",
       "    .dataframe tbody tr th {\n",
       "        vertical-align: top;\n",
       "    }\n",
       "\n",
       "    .dataframe thead th {\n",
       "        text-align: right;\n",
       "    }\n",
       "</style>\n",
       "<table border=\"1\" class=\"dataframe\">\n",
       "  <thead>\n",
       "    <tr style=\"text-align: right;\">\n",
       "      <th></th>\n",
       "      <th>BMI</th>\n",
       "      <th>PhysicalHealth</th>\n",
       "      <th>MentalHealth</th>\n",
       "      <th>SleepTime</th>\n",
       "    </tr>\n",
       "  </thead>\n",
       "  <tbody>\n",
       "    <tr>\n",
       "      <th>BMI</th>\n",
       "      <td>1.000000</td>\n",
       "      <td>0.109788</td>\n",
       "      <td>0.064131</td>\n",
       "      <td>-0.051822</td>\n",
       "    </tr>\n",
       "    <tr>\n",
       "      <th>PhysicalHealth</th>\n",
       "      <td>0.109788</td>\n",
       "      <td>1.000000</td>\n",
       "      <td>0.287987</td>\n",
       "      <td>-0.061387</td>\n",
       "    </tr>\n",
       "    <tr>\n",
       "      <th>MentalHealth</th>\n",
       "      <td>0.064131</td>\n",
       "      <td>0.287987</td>\n",
       "      <td>1.000000</td>\n",
       "      <td>-0.119717</td>\n",
       "    </tr>\n",
       "    <tr>\n",
       "      <th>SleepTime</th>\n",
       "      <td>-0.051822</td>\n",
       "      <td>-0.061387</td>\n",
       "      <td>-0.119717</td>\n",
       "      <td>1.000000</td>\n",
       "    </tr>\n",
       "  </tbody>\n",
       "</table>\n",
       "</div>"
      ],
      "text/plain": [
       "                     BMI  PhysicalHealth  MentalHealth  SleepTime\n",
       "BMI             1.000000        0.109788      0.064131  -0.051822\n",
       "PhysicalHealth  0.109788        1.000000      0.287987  -0.061387\n",
       "MentalHealth    0.064131        0.287987      1.000000  -0.119717\n",
       "SleepTime      -0.051822       -0.061387     -0.119717   1.000000"
      ]
     },
     "execution_count": 10,
     "metadata": {},
     "output_type": "execute_result"
    }
   ],
   "source": [
    "df.corr()"
   ]
  },
  {
   "cell_type": "markdown",
   "id": "5637d6e6",
   "metadata": {},
   "source": [
    "Ningun atributo presenta un coeficiente de correlación de Pearson alto; de hecho la correlación lineal entre las variables numéricas de nuestro conjunto de datos es notablemente bajo. No hay por tanto información redundante que entorpezca el entrenamiento provocando el sobreajuste del modelo al ruido."
   ]
  },
  {
   "cell_type": "markdown",
   "id": "6e7d02f5",
   "metadata": {},
   "source": [
    "### 4.2 Recursive Feature Elimination"
   ]
  },
  {
   "cell_type": "code",
   "execution_count": 60,
   "id": "61674aad",
   "metadata": {},
   "outputs": [
    {
     "name": "stdout",
     "output_type": "stream",
     "text": [
      "1 AgeCategory\n",
      "2 Stroke_Yes\n",
      "3 GenHealth\n",
      "4 DiffWalking_Yes\n",
      "5 Diabetic_Yes\n",
      "6 Sex_Male\n",
      "7 KidneyDisease_Yes\n",
      "8 Smoking_Yes\n",
      "9 PhysicalHealth\n",
      "10 Race_White\n",
      "11 Asthma_Yes\n",
      "12 AlcoholDrinking_Yes\n",
      "13 Race_Black\n",
      "14 Race_Hispanic\n",
      "15 SkinCancer_Yes\n",
      "16 Race_Other\n",
      "17 SleepTime\n",
      "18 Race_Asian\n",
      "19 Diabetic_Yes (during pregnancy)\n",
      "20 BMI\n",
      "21 MentalHealth\n",
      "22 Diabetic_No, borderline diabetes\n",
      "23 PhysicalActivity_Yes\n"
     ]
    }
   ],
   "source": [
    "classifier = xgb.XGBClassifier()\n",
    "\n",
    "# perform Recursive Feature Elimination (RFE)\n",
    "from sklearn.feature_selection import RFE\n",
    "# here we want only one final feature, we do this to produce a ranking\n",
    "n_features_to_select = 1\n",
    "rfe = RFE(classifier, n_features_to_select=n_features_to_select)\n",
    "rfe.fit(X_train_scaled, y_train)\n",
    "\n",
    "# Print out the features in order of ranking\n",
    "from operator import itemgetter\n",
    "features = X_train_scaled.columns.to_list()\n",
    "for x, y in (sorted(zip(rfe.ranking_ , features), key=itemgetter(0))):\n",
    "    print(x, y)"
   ]
  },
  {
   "cell_type": "markdown",
   "id": "fe8cd8ce",
   "metadata": {},
   "source": [
    "Mantendremos las 20 más importantes"
   ]
  },
  {
   "cell_type": "code",
   "execution_count": 61,
   "id": "3a945804",
   "metadata": {},
   "outputs": [],
   "source": [
    "X_train_scaled = X_train_scaled.drop(['MentalHealth', 'Diabetic_No, borderline diabetes', 'PhysicalActivity_Yes'], axis=1)\n",
    "X_test_scaled = X_test_scaled.drop(['MentalHealth', 'Diabetic_No, borderline diabetes', 'PhysicalActivity_Yes'], axis=1)"
   ]
  },
  {
   "cell_type": "markdown",
   "id": "984071cd",
   "metadata": {},
   "source": [
    "## 5. Tratamiento previo a la modelización"
   ]
  },
  {
   "cell_type": "markdown",
   "id": "80ccb399",
   "metadata": {},
   "source": [
    "### 5.1 Enriquecimiento del dataset: Clustering k-means"
   ]
  },
  {
   "cell_type": "code",
   "execution_count": 63,
   "id": "810bcdad",
   "metadata": {},
   "outputs": [],
   "source": [
    "# Aplicamos clustering\n",
    "\n",
    "intertia = []\n",
    "K = range(1,10)\n",
    "for k in K:\n",
    "    kmeanModel = KMeans(n_clusters=k, random_state = 123)\n",
    "    kmeanModel.fit(X_train_scaled)\n",
    "    intertia.append(kmeanModel.inertia_)"
   ]
  },
  {
   "cell_type": "code",
   "execution_count": 67,
   "id": "262d9eb3",
   "metadata": {},
   "outputs": [
    {
     "data": {
      "image/png": "[encoded data removed]",
      "text/plain": [
       "<Figure size 1600x800 with 1 Axes>"
      ]
     },
     "metadata": {},
     "output_type": "display_data"
    }
   ],
   "source": [
    "plt.figure(figsize=(16,8))\n",
    "plt.plot(K, intertia, 'bx-')\n",
    "plt.xlabel('k')\n",
    "plt.ylabel('Inertia')\n",
    "plt.title('The Elbow Method showing the optimal k')\n",
    "plt.show()"
   ]
  },
  {
   "cell_type": "code",
   "execution_count": 68,
   "id": "caba0f07",
   "metadata": {},
   "outputs": [],
   "source": [
    "cluster = KMeans(n_clusters = 4, random_state = 123)\n",
    "cluster.fit(X_train_scaled)\n",
    "\n",
    "prediction_train = cluster.predict(X_train_scaled)\n",
    "X_train_prepared = X_train_scaled.copy()\n",
    "X_train_prepared['cluster'] = prediction_train\n",
    "\n",
    "prediction_test = cluster.predict(X_test_scaled)\n",
    "X_test_prepared = X_test_scaled.copy()\n",
    "X_test_prepared['cluster'] = prediction_test"
   ]
  },
  {
   "cell_type": "code",
   "execution_count": 70,
   "id": "6e0701a8",
   "metadata": {},
   "outputs": [
    {
     "name": "stdout",
     "output_type": "stream",
     "text": [
      "1 AgeCategory\n",
      "2 Stroke_Yes\n",
      "3 GenHealth\n",
      "4 DiffWalking_Yes\n",
      "5 Diabetic_Yes\n",
      "6 Sex_Male\n",
      "7 cluster\n",
      "8 KidneyDisease_Yes\n",
      "9 Smoking_Yes\n",
      "10 PhysicalHealth\n",
      "11 Race_White\n",
      "12 Asthma_Yes\n",
      "13 Race_Black\n",
      "14 SkinCancer_Yes\n",
      "15 AlcoholDrinking_Yes\n",
      "16 Race_Other\n",
      "17 SleepTime\n",
      "18 Race_Hispanic\n",
      "19 Race_Asian\n",
      "20 Diabetic_Yes (during pregnancy)\n",
      "21 BMI\n"
     ]
    }
   ],
   "source": [
    "classifier = xgb.XGBClassifier()\n",
    "\n",
    "# perform Recursive Feature Elimination (RFE)\n",
    "from sklearn.feature_selection import RFE\n",
    "# here we want only one final feature, we do this to produce a ranking\n",
    "n_features_to_select = 1\n",
    "rfe = RFE(classifier, n_features_to_select=n_features_to_select)\n",
    "rfe.fit(X_train_prepared, y_train)\n",
    "\n",
    "# Print out the features in order of ranking\n",
    "from operator import itemgetter\n",
    "features = X_train_prepared.columns.to_list()\n",
    "for x, y in (sorted(zip(rfe.ranking_ , features), key=itemgetter(0))):\n",
    "    print(x, y)"
   ]
  },
  {
   "cell_type": "markdown",
   "id": "845e2f2c",
   "metadata": {},
   "source": [
    "La varaible 'cluster' parece relevante, así que la mantendremos."
   ]
  },
  {
   "cell_type": "markdown",
   "id": "b32d6c35",
   "metadata": {},
   "source": [
    "### 5.2 Oversampling de la clase minoritaria"
   ]
  },
  {
   "cell_type": "code",
   "execution_count": 72,
   "id": "bbfa45be",
   "metadata": {},
   "outputs": [
    {
     "name": "stdout",
     "output_type": "stream",
     "text": [
      "\n",
      "\u001b[1mDistribución del target en train antes de balancear\u001b[0m\n",
      "0    204876\n",
      "1     18980\n",
      "Name: HeartDisease_Yes, dtype: int64\n",
      "\n",
      "\u001b[1mDistribución del target en train después de balancear\u001b[0m\n",
      "0    136583\n",
      "1     81950\n",
      "Name: HeartDisease_Yes, dtype: int64\n"
     ]
    }
   ],
   "source": [
    "# Oversampling\n",
    "from collections import Counter\n",
    "from imblearn.over_sampling import SMOTE, SVMSMOTE, BorderlineSMOTE\n",
    "from imblearn.under_sampling import RandomUnderSampler\n",
    "from imblearn.pipeline import Pipeline\n",
    "\n",
    "over = BorderlineSMOTE(sampling_strategy=0.4)\n",
    "under = RandomUnderSampler(sampling_strategy=0.6)\n",
    "\n",
    "steps = [('o', over), ('u', under)]\n",
    "pipeline = Pipeline(steps=steps)\n",
    "\n",
    "# transform the dataset\n",
    "X_train_balanced, y_train_balanced = pipeline.fit_resample(X_train_prepared, y_train)\n",
    "\n",
    "print(\"\\n\" + '\\033[1m'+ 'Distribución del target en train antes de balancear' + '\\033[0m')\n",
    "print(pd.value_counts(y_train['HeartDisease_Yes']))\n",
    "\n",
    "print(\"\\n\" + '\\033[1m'+ 'Distribución del target en train después de balancear' + '\\033[0m')\n",
    "print(pd.value_counts(y_train_balanced['HeartDisease_Yes']))"
   ]
  },
  {
   "cell_type": "markdown",
   "id": "dec38c76",
   "metadata": {},
   "source": [
    "## 6. Modelización"
   ]
  },
  {
   "cell_type": "code",
   "execution_count": 73,
   "id": "fa1985c0",
   "metadata": {},
   "outputs": [],
   "source": [
    "# Conjunto de validación para búsqueda Bayesiana\n",
    "X_train_val, X_test_val, y_train_val, y_test_val = train_test_split(X_train_balanced, #_balanced\n",
    "                                                                    y_train_balanced, #_balanced\n",
    "                                                                    test_size = 0.2, \n",
    "                                                                    random_state = 123)"
   ]
  },
  {
   "cell_type": "code",
   "execution_count": 74,
   "id": "cc3dc656",
   "metadata": {
    "scrolled": false
   },
   "outputs": [
    {
     "name": "stdout",
     "output_type": "stream",
     "text": [
      "|   iter    |  target   |    eta    |   gamma   | max_depth | min_ch... |\n",
      "-------------------------------------------------------------------------\n",
      "| \u001b[0m 1       \u001b[0m | \u001b[0m 0.8198  \u001b[0m | \u001b[0m 0.417   \u001b[0m | \u001b[0m 7.203   \u001b[0m | \u001b[0m 3.001   \u001b[0m | \u001b[0m 1.512   \u001b[0m |\n",
      "| \u001b[95m 2       \u001b[0m | \u001b[95m 0.864   \u001b[0m | \u001b[95m 0.1468  \u001b[0m | \u001b[95m 0.9234  \u001b[0m | \u001b[95m 4.676   \u001b[0m | \u001b[95m 1.728   \u001b[0m |\n",
      "| \u001b[95m 3       \u001b[0m | \u001b[95m 0.8642  \u001b[0m | \u001b[95m 0.1112  \u001b[0m | \u001b[95m 0.7758  \u001b[0m | \u001b[95m 4.78    \u001b[0m | \u001b[95m 1.895   \u001b[0m |\n",
      "| \u001b[95m 4       \u001b[0m | \u001b[95m 0.8932  \u001b[0m | \u001b[95m 1.0     \u001b[0m | \u001b[95m 0.0     \u001b[0m | \u001b[95m 10.72   \u001b[0m | \u001b[95m 0.0     \u001b[0m |\n",
      "| \u001b[95m 5       \u001b[0m | \u001b[95m 0.8953  \u001b[0m | \u001b[95m 1.0     \u001b[0m | \u001b[95m 2.22e-16\u001b[0m | \u001b[95m 12.0    \u001b[0m | \u001b[95m 5.0     \u001b[0m |\n",
      "| \u001b[0m 6       \u001b[0m | \u001b[0m 0.8946  \u001b[0m | \u001b[0m 1.0     \u001b[0m | \u001b[0m 6.191   \u001b[0m | \u001b[0m 12.0    \u001b[0m | \u001b[0m 5.0     \u001b[0m |\n",
      "| \u001b[0m 7       \u001b[0m | \u001b[0m 0.8942  \u001b[0m | \u001b[0m 0.0     \u001b[0m | \u001b[0m 5.423   \u001b[0m | \u001b[0m 12.0    \u001b[0m | \u001b[0m 0.0     \u001b[0m |\n",
      "| \u001b[0m 8       \u001b[0m | \u001b[0m 0.8933  \u001b[0m | \u001b[0m 1.0     \u001b[0m | \u001b[0m 10.0    \u001b[0m | \u001b[0m 12.0    \u001b[0m | \u001b[0m 0.0     \u001b[0m |\n",
      "| \u001b[0m 9       \u001b[0m | \u001b[0m 0.8922  \u001b[0m | \u001b[0m 0.0     \u001b[0m | \u001b[0m 10.0    \u001b[0m | \u001b[0m 12.0    \u001b[0m | \u001b[0m 5.0     \u001b[0m |\n",
      "| \u001b[95m 10      \u001b[0m | \u001b[95m 0.8961  \u001b[0m | \u001b[95m 0.0     \u001b[0m | \u001b[95m 2.241   \u001b[0m | \u001b[95m 12.0    \u001b[0m | \u001b[95m 2.644   \u001b[0m |\n",
      "| \u001b[0m 11      \u001b[0m | \u001b[0m 0.8951  \u001b[0m | \u001b[0m 1.0     \u001b[0m | \u001b[0m 2.546   \u001b[0m | \u001b[0m 12.0    \u001b[0m | \u001b[0m 0.0     \u001b[0m |\n",
      "| \u001b[0m 12      \u001b[0m | \u001b[0m 0.8948  \u001b[0m | \u001b[0m 1.0     \u001b[0m | \u001b[0m 7.453   \u001b[0m | \u001b[0m 12.0    \u001b[0m | \u001b[0m 2.254   \u001b[0m |\n",
      "| \u001b[0m 13      \u001b[0m | \u001b[0m 0.8958  \u001b[0m | \u001b[0m 0.0     \u001b[0m | \u001b[0m 0.0     \u001b[0m | \u001b[0m 12.0    \u001b[0m | \u001b[0m 0.0     \u001b[0m |\n",
      "| \u001b[0m 14      \u001b[0m | \u001b[0m 0.8947  \u001b[0m | \u001b[0m 0.0     \u001b[0m | \u001b[0m 3.005   \u001b[0m | \u001b[0m 12.0    \u001b[0m | \u001b[0m 5.0     \u001b[0m |\n",
      "| \u001b[0m 15      \u001b[0m | \u001b[0m 0.8953  \u001b[0m | \u001b[0m 1.0     \u001b[0m | \u001b[0m 0.0     \u001b[0m | \u001b[0m 12.0    \u001b[0m | \u001b[0m 2.029   \u001b[0m |\n",
      "| \u001b[0m 16      \u001b[0m | \u001b[0m 0.8939  \u001b[0m | \u001b[0m 1.0     \u001b[0m | \u001b[0m 3.918   \u001b[0m | \u001b[0m 12.0    \u001b[0m | \u001b[0m 3.07    \u001b[0m |\n",
      "| \u001b[0m 17      \u001b[0m | \u001b[0m 0.894   \u001b[0m | \u001b[0m 0.0     \u001b[0m | \u001b[0m 0.0     \u001b[0m | \u001b[0m 12.0    \u001b[0m | \u001b[0m 4.047   \u001b[0m |\n",
      "| \u001b[0m 18      \u001b[0m | \u001b[0m 0.8927  \u001b[0m | \u001b[0m 0.0     \u001b[0m | \u001b[0m 10.0    \u001b[0m | \u001b[0m 12.0    \u001b[0m | \u001b[0m 1.813   \u001b[0m |\n",
      "| \u001b[0m 19      \u001b[0m | \u001b[0m 0.8951  \u001b[0m | \u001b[0m 0.0     \u001b[0m | \u001b[0m 1.941   \u001b[0m | \u001b[0m 12.0    \u001b[0m | \u001b[0m 0.0     \u001b[0m |\n",
      "| \u001b[0m 20      \u001b[0m | \u001b[0m 0.8947  \u001b[0m | \u001b[0m 0.0     \u001b[0m | \u001b[0m 6.817   \u001b[0m | \u001b[0m 12.0    \u001b[0m | \u001b[0m 4.002   \u001b[0m |\n",
      "| \u001b[0m 21      \u001b[0m | \u001b[0m 0.8932  \u001b[0m | \u001b[0m 0.0     \u001b[0m | \u001b[0m 8.11    \u001b[0m | \u001b[0m 12.0    \u001b[0m | \u001b[0m 0.0     \u001b[0m |\n",
      "| \u001b[0m 22      \u001b[0m | \u001b[0m 0.8951  \u001b[0m | \u001b[0m 1.0     \u001b[0m | \u001b[0m 1.656   \u001b[0m | \u001b[0m 12.0    \u001b[0m | \u001b[0m 5.0     \u001b[0m |\n",
      "=========================================================================\n"
     ]
    }
   ],
   "source": [
    "# Busqueda Bayesiana de hiperparámetros\n",
    "\n",
    "# Defining the search space\n",
    "space = {\"eta\": (0, 1),\n",
    "         \"gamma\":(0, 10), \n",
    "         \"max_depth\":(3, 12),\n",
    "         \"min_child_weight\": (0, 5)}\n",
    "\n",
    "# Defining the objective function\n",
    "def objective(eta, gamma, max_depth, min_child_weight):\n",
    "    \n",
    "    \"\"\"\n",
    "    Objective function to minimize for the Bayesian optimizer\n",
    "        \n",
    "    Parameters\n",
    "    ==========\n",
    "    eta, gamma, max_depth, min_child_weight\n",
    "        \n",
    "    Return\n",
    "    ======\n",
    "        \n",
    "    loss : Cost value to minimize (in this case, binary_crossentropy)\n",
    "    \n",
    "        \"\"\"\n",
    "        \n",
    "    max_depth = round(max_depth)\n",
    "    min_child_weight = round(min_child_weight)\n",
    "        \n",
    "    # Creating the model\n",
    "    model = xgb.XGBClassifier(random_state=1, \n",
    "                              learning_rate=0.02, \n",
    "                              n_estimators=500,\n",
    "                              eta=eta,\n",
    "                              gamma=gamma,\n",
    "                              max_depth=max_depth,\n",
    "                              min_child_weight=min_child_weight)\n",
    "        \n",
    "    # Fit the model\n",
    "    model.fit(X_train_val, y_train_val)\n",
    "        \n",
    "    # Evaluating the model\n",
    "    y_test_val_pred = model.predict(X_test_val)\n",
    "\n",
    "    #accuracy = accuracy_score(y_test_val, y_test_val_pred)\n",
    "    #f1 = f1_score(y_test_val, y_test_val_pred) COMO HEMOS BALANCEADO, PODEMOS CENTRARNOS EN LA PRECISION\n",
    "    \n",
    "    precision = precision_score(y_test_val, y_test_val_pred)\n",
    "        \n",
    "    return precision\n",
    "\n",
    "# Create the optimizer\n",
    "optimizer = BayesianOptimization(\n",
    "    f=objective,\n",
    "    pbounds=space,\n",
    "    random_state=1,\n",
    ")\n",
    "    \n",
    "# Running the optimizer...\n",
    "optimizer.maximize(\n",
    "    init_points=2,\n",
    "    n_iter=20,\n",
    ")\n",
    "    \n",
    "# Optimal parameter values\n",
    "params = optimizer.max['params']"
   ]
  },
  {
   "cell_type": "code",
   "execution_count": 76,
   "id": "5b961bde",
   "metadata": {},
   "outputs": [
    {
     "name": "stdout",
     "output_type": "stream",
     "text": [
      "0.8916707491218379\n"
     ]
    }
   ],
   "source": [
    "# Creating the model\n",
    "xgb_model = xgb.XGBClassifier(use_label_encoder=False, \n",
    "                              random_state=1, \n",
    "                              learning_rate=0.02, \n",
    "                              n_estimators=700,\n",
    "                              eta=params['eta'],\n",
    "                              gamma=params['gamma'],\n",
    "                              max_depth=round(params['max_depth']),\n",
    "                              min_child_weight=round(params['min_child_weight']))\n",
    "\n",
    "# Fit the model\n",
    "xgb_model.fit(X_train_balanced, y_train_balanced) #X_train_balanced, y_train_balanced\n",
    "        \n",
    "# Evaluating the model\n",
    "y_test_pred = xgb_model.predict(X_test_prepared)\n",
    "\n",
    "accuracy = accuracy_score(y_test, y_test_pred)\n",
    "\n",
    "print(accuracy)"
   ]
  },
  {
   "cell_type": "code",
   "execution_count": 78,
   "id": "80089ac0",
   "metadata": {},
   "outputs": [
    {
     "data": {
      "text/plain": [
       "<matplotlib.legend.Legend at 0x7fa2f1a544c0>"
      ]
     },
     "execution_count": 78,
     "metadata": {},
     "output_type": "execute_result"
    },
    {
     "data": {
      "image/png": "[encoded data removed]",
      "text/plain": [
       "<Figure size 640x480 with 1 Axes>"
      ]
     },
     "metadata": {},
     "output_type": "display_data"
    }
   ],
   "source": [
    "from sklearn.metrics import roc_curve\n",
    "from sklearn.metrics import precision_score\n",
    "from sklearn.metrics import roc_auc_score\n",
    "\n",
    "false_pos_rate, true_pos_rate, proba = roc_curve(y_test, xgb_model.predict_proba(X_test_prepared)[:, -1])\n",
    "pyplot.figure()\n",
    "pyplot.plot([0,1], [0,1], linestyle=\"--\") # plot random curve\n",
    "pyplot.plot(false_pos_rate, true_pos_rate, marker=\".\", label=f\"AUC = {roc_auc_score(y_test, xgb_model.predict_proba(X_test_prepared)[:, -1])}\")\n",
    "pyplot.title(\"ROC Curve\")\n",
    "pyplot.ylabel(\"True Positive Rate\")\n",
    "pyplot.xlabel(\"False Positive Rate\")\n",
    "pyplot.legend(loc=\"lower right\")"
   ]
  },
  {
   "cell_type": "code",
   "execution_count": 80,
   "id": "838881b6",
   "metadata": {},
   "outputs": [],
   "source": [
    "optimal_proba_cutoff = sorted(list(zip(np.abs(true_pos_rate - false_pos_rate), proba)), key=lambda i: i[0], reverse=True)[0][1]\n",
    "roc_predictions = [1 if i >= optimal_proba_cutoff else 0 for i in xgb_model.predict_proba(X_test_prepared)[:, -1]]"
   ]
  },
  {
   "cell_type": "code",
   "execution_count": 81,
   "id": "1e05ff6f",
   "metadata": {},
   "outputs": [
    {
     "name": "stdout",
     "output_type": "stream",
     "text": [
      "Accuracy Score Before and After Thresholding: 0.8916707491218379, 0.7260446742200773\n",
      "Precision Score Before and After Thresholding: 0.3577120091064314, 0.2139430764310841\n",
      "Recall Score Before and After Thresholding: 0.29953532705826286, 0.7970928154414393\n",
      "F1 Score Before and After Thresholding: 0.3260488943648272, 0.3373421072536117\n"
     ]
    }
   ],
   "source": [
    "print(\"Accuracy Score Before and After Thresholding: {}, {}\".format(accuracy_score(y_test, y_test_pred), accuracy_score(y_test, roc_predictions)))\n",
    "print(\"Precision Score Before and After Thresholding: {}, {}\".format(precision_score(y_test, y_test_pred), precision_score(y_test, roc_predictions)))\n",
    "print(\"Recall Score Before and After Thresholding: {}, {}\".format(recall_score(y_test, y_test_pred), recall_score(y_test, roc_predictions)))\n",
    "print(\"F1 Score Before and After Thresholding: {}, {}\".format(f1_score(y_test, y_test_pred), f1_score(y_test, roc_predictions)))"
   ]
  },
  {
   "cell_type": "code",
   "execution_count": 82,
   "id": "fbaa6415",
   "metadata": {},
   "outputs": [
    {
     "name": "stdout",
     "output_type": "stream",
     "text": [
      "0.14676167\n"
     ]
    }
   ],
   "source": [
    "print(optimal_proba_cutoff)"
   ]
  },
  {
   "cell_type": "code",
   "execution_count": 84,
   "id": "c54d9c92",
   "metadata": {},
   "outputs": [],
   "source": [
    "compromise_cutoff = 0.1\n",
    "\n",
    "compromise_predictions = [1 if i >= compromise_cutoff else 0 for i in xgb_model.predict_proba(X_test_prepared)[:, -1]]"
   ]
  },
  {
   "cell_type": "code",
   "execution_count": 85,
   "id": "6620c788",
   "metadata": {},
   "outputs": [
    {
     "data": {
      "text/plain": [
       "array([[56253, 31293],\n",
       "       [ 1136,  7257]])"
      ]
     },
     "execution_count": 85,
     "metadata": {},
     "output_type": "execute_result"
    }
   ],
   "source": [
    "from sklearn.metrics import confusion_matrix\n",
    "confusion_matrix = confusion_matrix(y_test, compromise_predictions)\n",
    "confusion_matrix"
   ]
  },
  {
   "cell_type": "code",
   "execution_count": 86,
   "id": "a913cc91",
   "metadata": {},
   "outputs": [
    {
     "name": "stdout",
     "output_type": "stream",
     "text": [
      "Accuracy Score Before and After Thresholding: 0.8916707491218379, 0.6619831351171057\n",
      "Precision Score Before and After Thresholding: 0.3577120091064314, 0.1882490272373541\n",
      "Recall Score Before and After Thresholding: 0.29953532705826286, 0.8646491123555343\n",
      "F1 Score Before and After Thresholding: 0.3260488943648272, 0.309183477834821\n"
     ]
    }
   ],
   "source": [
    "print(\"Accuracy Score Before and After Thresholding: {}, {}\".format(accuracy_score(y_test, y_test_pred), accuracy_score(y_test, compromise_predictions)))\n",
    "print(\"Precision Score Before and After Thresholding: {}, {}\".format(precision_score(y_test, y_test_pred), precision_score(y_test, compromise_predictions)))\n",
    "print(\"Recall Score Before and After Thresholding: {}, {}\".format(recall_score(y_test, y_test_pred), recall_score(y_test, compromise_predictions)))\n",
    "print(\"F1 Score Before and After Thresholding: {}, {}\".format(f1_score(y_test, y_test_pred), f1_score(y_test, compromise_predictions)))"
   ]
  },
  {
   "cell_type": "code",
   "execution_count": null,
   "id": "5d87b211",
   "metadata": {},
   "outputs": [],
   "source": []
  }
 ],
 "metadata": {
  "kernelspec": {
   "display_name": "Python 3 (ipykernel)",
   "language": "python",
   "name": "python3"
  },
  "language_info": {
   "codemirror_mode": {
    "name": "ipython",
    "version": 3
   },
   "file_extension": ".py",
   "mimetype": "text/x-python",
   "name": "python",
   "nbconvert_exporter": "python",
   "pygments_lexer": "ipython3",
   "version": "3.9.12"
  }
 },
 "nbformat": 4,
 "nbformat_minor": 5
}
