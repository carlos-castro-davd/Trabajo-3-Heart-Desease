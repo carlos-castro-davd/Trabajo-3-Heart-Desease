{
 "cells": [
  {
   "cell_type": "markdown",
   "id": "cbfbb59b",
   "metadata": {},
   "source": [
    "# Proyecto final: Modelización"
   ]
  },
  {
   "cell_type": "markdown",
   "id": "6069bc67",
   "metadata": {},
   "source": [
    "## Objetivo"
   ]
  },
  {
   "cell_type": "markdown",
   "id": "b16fed7a",
   "metadata": {},
   "source": [
    "Debemos construir un modelo de clasificación que prediga la probabilidad de que un paciente haya sufrido algún tipo de enfermedad cardíaca. Se ha de tener en cuenta que decirle a un asegurado que tiene una enfermedad cardíaca cuando realmente no la ha tenido supone un riesgo de pérdida de clientes y, en consecuencia, de ingresos mucho mayor que el hecho de no asignarle una enfermedad cardíaca a alguien que si la ha tenido. La aseguradora considera crucial que esta característica se vea reflejada en el modelo construido."
   ]
  },
  {
   "cell_type": "markdown",
   "id": "d4388a7c",
   "metadata": {},
   "source": [
    "## 1. Librerías y datos"
   ]
  },
  {
   "cell_type": "markdown",
   "id": "29eaed0f",
   "metadata": {},
   "source": [
    "### 1.1 Instalación de librerías e importación"
   ]
  },
  {
   "cell_type": "code",
   "execution_count": 10,
   "id": "d90e8c9a",
   "metadata": {},
   "outputs": [
    {
     "name": "stdout",
     "output_type": "stream",
     "text": [
      "Collecting xgboost\n",
      "  Downloading xgboost-1.7.1-py3-none-macosx_10_15_x86_64.macosx_11_0_x86_64.macosx_12_0_x86_64.whl (1.8 MB)\n",
      "\u001b[K     |████████████████████████████████| 1.8 MB 2.1 MB/s eta 0:00:01\n",
      "\u001b[?25hRequirement already satisfied: numpy in /Users/lauramanzanos/opt/anaconda3/lib/python3.8/site-packages (from xgboost) (1.20.1)\n",
      "Requirement already satisfied: scipy in /Users/lauramanzanos/opt/anaconda3/lib/python3.8/site-packages (from xgboost) (1.6.2)\n",
      "Installing collected packages: xgboost\n",
      "Successfully installed xgboost-1.7.1\n",
      "Note: you may need to restart the kernel to use updated packages.\n"
     ]
    }
   ],
   "source": [
    "pip install xgboost"
   ]
  },
  {
   "cell_type": "code",
   "execution_count": 13,
   "id": "8b4112fd",
   "metadata": {},
   "outputs": [
    {
     "name": "stdout",
     "output_type": "stream",
     "text": [
      "Collecting bayesian-optimization\n",
      "  Downloading bayesian_optimization-1.3.1-py3-none-any.whl (16 kB)\n",
      "Requirement already satisfied: numpy>=1.9.0 in /Users/lauramanzanos/opt/anaconda3/lib/python3.8/site-packages (from bayesian-optimization) (1.20.1)\n",
      "Requirement already satisfied: scikit-learn>=0.18.0 in /Users/lauramanzanos/opt/anaconda3/lib/python3.8/site-packages (from bayesian-optimization) (0.24.1)\n",
      "Requirement already satisfied: scipy>=1.0.0 in /Users/lauramanzanos/opt/anaconda3/lib/python3.8/site-packages (from bayesian-optimization) (1.6.2)\n",
      "Requirement already satisfied: threadpoolctl>=2.0.0 in /Users/lauramanzanos/opt/anaconda3/lib/python3.8/site-packages (from scikit-learn>=0.18.0->bayesian-optimization) (2.1.0)\n",
      "Requirement already satisfied: joblib>=0.11 in /Users/lauramanzanos/opt/anaconda3/lib/python3.8/site-packages (from scikit-learn>=0.18.0->bayesian-optimization) (1.0.1)\n",
      "Installing collected packages: bayesian-optimization\n",
      "Successfully installed bayesian-optimization-1.3.1\n",
      "Note: you may need to restart the kernel to use updated packages.\n"
     ]
    }
   ],
   "source": [
    "pip install bayesian-optimization"
   ]
  },
  {
   "cell_type": "code",
   "execution_count": 21,
   "id": "db728a72",
   "metadata": {},
   "outputs": [
    {
     "name": "stdout",
     "output_type": "stream",
     "text": [
      "Requirement already satisfied: imbalanced-learn in /Users/alfonsoserrano-suner/opt/anaconda3/lib/python3.9/site-packages (0.9.1)\n",
      "Requirement already satisfied: scipy>=1.3.2 in /Users/alfonsoserrano-suner/opt/anaconda3/lib/python3.9/site-packages (from imbalanced-learn) (1.7.3)\n",
      "Requirement already satisfied: scikit-learn>=1.1.0 in /Users/alfonsoserrano-suner/opt/anaconda3/lib/python3.9/site-packages (from imbalanced-learn) (1.1.3)\n",
      "Requirement already satisfied: threadpoolctl>=2.0.0 in /Users/alfonsoserrano-suner/opt/anaconda3/lib/python3.9/site-packages (from imbalanced-learn) (2.2.0)\n",
      "Requirement already satisfied: numpy>=1.17.3 in /Users/alfonsoserrano-suner/opt/anaconda3/lib/python3.9/site-packages (from imbalanced-learn) (1.22.4)\n",
      "Requirement already satisfied: joblib>=1.0.0 in /Users/alfonsoserrano-suner/opt/anaconda3/lib/python3.9/site-packages (from imbalanced-learn) (1.1.1)\n",
      "Note: you may need to restart the kernel to use updated packages.\n"
     ]
    }
   ],
   "source": [
    "pip install imbalanced-learn\n"
   ]
  },
  {
   "cell_type": "code",
   "execution_count": 23,
   "id": "1ba260f7",
   "metadata": {},
   "outputs": [
    {
     "name": "stdout",
     "output_type": "stream",
     "text": [
      "Collecting threadpoolctl==3.1.0\n",
      "  Downloading threadpoolctl-3.1.0-py3-none-any.whl (14 kB)\n",
      "Installing collected packages: threadpoolctl\n",
      "  Attempting uninstall: threadpoolctl\n",
      "    Found existing installation: threadpoolctl 2.2.0\n",
      "    Uninstalling threadpoolctl-2.2.0:\n",
      "      Successfully uninstalled threadpoolctl-2.2.0\n",
      "Successfully installed threadpoolctl-3.1.0\n",
      "Note: you may need to restart the kernel to use updated packages.\n"
     ]
    }
   ],
   "source": [
    "pip install threadpoolctl==3.1.0"
   ]
  },
  {
   "cell_type": "code",
   "execution_count": 131,
   "id": "85941a41",
   "metadata": {},
   "outputs": [],
   "source": [
    "# Librerías\n",
    "\n",
    "import pandas as pd\n",
    "import numpy as np\n",
    "from matplotlib import pyplot as plt\n",
    "\n",
    "from sklearn import datasets\n",
    "from sklearn.model_selection import train_test_split\n",
    "from sklearn.preprocessing import StandardScaler\n",
    "\n",
    "from sklearn.decomposition import PCA\n",
    "from sklearn.linear_model import LogisticRegression\n",
    "from sklearn.ensemble import RandomForestClassifier\n",
    "from sklearn.cluster import KMeans\n",
    "\n",
    "from sklearn.metrics import accuracy_score\n",
    "from sklearn.metrics import confusion_matrix\n",
    "from sklearn.metrics import classification_report\n",
    "from sklearn.metrics import precision_score, recall_score, f1_score, accuracy_score\n",
    "\n",
    "import plotly.express as px\n",
    "import plotly.graph_objects as go\n",
    "import plotly.figure_factory as ff\n",
    "from plotly.subplots import make_subplots\n",
    "\n",
    "from itertools import compress\n",
    "\n",
    "import xgboost as xgb\n",
    "from xgboost import cv\n",
    "from bayes_opt import BayesianOptimization\n",
    "import pickle as pk"
   ]
  },
  {
   "cell_type": "markdown",
   "id": "f3918a36",
   "metadata": {},
   "source": [
    "### 1.2 Lectura de los datos"
   ]
  },
  {
   "cell_type": "code",
   "execution_count": 26,
   "id": "da95b5cd",
   "metadata": {},
   "outputs": [],
   "source": [
    "df = pd.read_csv(\"../Datos/heart_2020_cleaned.csv\")"
   ]
  },
  {
   "cell_type": "code",
   "execution_count": 27,
   "id": "b74d1010",
   "metadata": {},
   "outputs": [
    {
     "data": {
      "text/html": [
       "<div>\n",
       "<style scoped>\n",
       "    .dataframe tbody tr th:only-of-type {\n",
       "        vertical-align: middle;\n",
       "    }\n",
       "\n",
       "    .dataframe tbody tr th {\n",
       "        vertical-align: top;\n",
       "    }\n",
       "\n",
       "    .dataframe thead th {\n",
       "        text-align: right;\n",
       "    }\n",
       "</style>\n",
       "<table border=\"1\" class=\"dataframe\">\n",
       "  <thead>\n",
       "    <tr style=\"text-align: right;\">\n",
       "      <th></th>\n",
       "      <th>HeartDisease</th>\n",
       "      <th>BMI</th>\n",
       "      <th>Smoking</th>\n",
       "      <th>AlcoholDrinking</th>\n",
       "      <th>Stroke</th>\n",
       "      <th>PhysicalHealth</th>\n",
       "      <th>MentalHealth</th>\n",
       "      <th>DiffWalking</th>\n",
       "      <th>Sex</th>\n",
       "      <th>AgeCategory</th>\n",
       "      <th>Race</th>\n",
       "      <th>Diabetic</th>\n",
       "      <th>PhysicalActivity</th>\n",
       "      <th>GenHealth</th>\n",
       "      <th>SleepTime</th>\n",
       "      <th>Asthma</th>\n",
       "      <th>KidneyDisease</th>\n",
       "      <th>SkinCancer</th>\n",
       "    </tr>\n",
       "  </thead>\n",
       "  <tbody>\n",
       "    <tr>\n",
       "      <th>0</th>\n",
       "      <td>No</td>\n",
       "      <td>16.60</td>\n",
       "      <td>Yes</td>\n",
       "      <td>No</td>\n",
       "      <td>No</td>\n",
       "      <td>3.0</td>\n",
       "      <td>30.0</td>\n",
       "      <td>No</td>\n",
       "      <td>Female</td>\n",
       "      <td>55-59</td>\n",
       "      <td>White</td>\n",
       "      <td>Yes</td>\n",
       "      <td>Yes</td>\n",
       "      <td>Very good</td>\n",
       "      <td>5.0</td>\n",
       "      <td>Yes</td>\n",
       "      <td>No</td>\n",
       "      <td>Yes</td>\n",
       "    </tr>\n",
       "    <tr>\n",
       "      <th>1</th>\n",
       "      <td>No</td>\n",
       "      <td>20.34</td>\n",
       "      <td>No</td>\n",
       "      <td>No</td>\n",
       "      <td>Yes</td>\n",
       "      <td>0.0</td>\n",
       "      <td>0.0</td>\n",
       "      <td>No</td>\n",
       "      <td>Female</td>\n",
       "      <td>80 or older</td>\n",
       "      <td>White</td>\n",
       "      <td>No</td>\n",
       "      <td>Yes</td>\n",
       "      <td>Very good</td>\n",
       "      <td>7.0</td>\n",
       "      <td>No</td>\n",
       "      <td>No</td>\n",
       "      <td>No</td>\n",
       "    </tr>\n",
       "    <tr>\n",
       "      <th>2</th>\n",
       "      <td>No</td>\n",
       "      <td>26.58</td>\n",
       "      <td>Yes</td>\n",
       "      <td>No</td>\n",
       "      <td>No</td>\n",
       "      <td>20.0</td>\n",
       "      <td>30.0</td>\n",
       "      <td>No</td>\n",
       "      <td>Male</td>\n",
       "      <td>65-69</td>\n",
       "      <td>White</td>\n",
       "      <td>Yes</td>\n",
       "      <td>Yes</td>\n",
       "      <td>Fair</td>\n",
       "      <td>8.0</td>\n",
       "      <td>Yes</td>\n",
       "      <td>No</td>\n",
       "      <td>No</td>\n",
       "    </tr>\n",
       "    <tr>\n",
       "      <th>3</th>\n",
       "      <td>No</td>\n",
       "      <td>24.21</td>\n",
       "      <td>No</td>\n",
       "      <td>No</td>\n",
       "      <td>No</td>\n",
       "      <td>0.0</td>\n",
       "      <td>0.0</td>\n",
       "      <td>No</td>\n",
       "      <td>Female</td>\n",
       "      <td>75-79</td>\n",
       "      <td>White</td>\n",
       "      <td>No</td>\n",
       "      <td>No</td>\n",
       "      <td>Good</td>\n",
       "      <td>6.0</td>\n",
       "      <td>No</td>\n",
       "      <td>No</td>\n",
       "      <td>Yes</td>\n",
       "    </tr>\n",
       "    <tr>\n",
       "      <th>4</th>\n",
       "      <td>No</td>\n",
       "      <td>23.71</td>\n",
       "      <td>No</td>\n",
       "      <td>No</td>\n",
       "      <td>No</td>\n",
       "      <td>28.0</td>\n",
       "      <td>0.0</td>\n",
       "      <td>Yes</td>\n",
       "      <td>Female</td>\n",
       "      <td>40-44</td>\n",
       "      <td>White</td>\n",
       "      <td>No</td>\n",
       "      <td>Yes</td>\n",
       "      <td>Very good</td>\n",
       "      <td>8.0</td>\n",
       "      <td>No</td>\n",
       "      <td>No</td>\n",
       "      <td>No</td>\n",
       "    </tr>\n",
       "    <tr>\n",
       "      <th>5</th>\n",
       "      <td>Yes</td>\n",
       "      <td>28.87</td>\n",
       "      <td>Yes</td>\n",
       "      <td>No</td>\n",
       "      <td>No</td>\n",
       "      <td>6.0</td>\n",
       "      <td>0.0</td>\n",
       "      <td>Yes</td>\n",
       "      <td>Female</td>\n",
       "      <td>75-79</td>\n",
       "      <td>Black</td>\n",
       "      <td>No</td>\n",
       "      <td>No</td>\n",
       "      <td>Fair</td>\n",
       "      <td>12.0</td>\n",
       "      <td>No</td>\n",
       "      <td>No</td>\n",
       "      <td>No</td>\n",
       "    </tr>\n",
       "    <tr>\n",
       "      <th>6</th>\n",
       "      <td>No</td>\n",
       "      <td>21.63</td>\n",
       "      <td>No</td>\n",
       "      <td>No</td>\n",
       "      <td>No</td>\n",
       "      <td>15.0</td>\n",
       "      <td>0.0</td>\n",
       "      <td>No</td>\n",
       "      <td>Female</td>\n",
       "      <td>70-74</td>\n",
       "      <td>White</td>\n",
       "      <td>No</td>\n",
       "      <td>Yes</td>\n",
       "      <td>Fair</td>\n",
       "      <td>4.0</td>\n",
       "      <td>Yes</td>\n",
       "      <td>No</td>\n",
       "      <td>Yes</td>\n",
       "    </tr>\n",
       "    <tr>\n",
       "      <th>7</th>\n",
       "      <td>No</td>\n",
       "      <td>31.64</td>\n",
       "      <td>Yes</td>\n",
       "      <td>No</td>\n",
       "      <td>No</td>\n",
       "      <td>5.0</td>\n",
       "      <td>0.0</td>\n",
       "      <td>Yes</td>\n",
       "      <td>Female</td>\n",
       "      <td>80 or older</td>\n",
       "      <td>White</td>\n",
       "      <td>Yes</td>\n",
       "      <td>No</td>\n",
       "      <td>Good</td>\n",
       "      <td>9.0</td>\n",
       "      <td>Yes</td>\n",
       "      <td>No</td>\n",
       "      <td>No</td>\n",
       "    </tr>\n",
       "    <tr>\n",
       "      <th>8</th>\n",
       "      <td>No</td>\n",
       "      <td>26.45</td>\n",
       "      <td>No</td>\n",
       "      <td>No</td>\n",
       "      <td>No</td>\n",
       "      <td>0.0</td>\n",
       "      <td>0.0</td>\n",
       "      <td>No</td>\n",
       "      <td>Female</td>\n",
       "      <td>80 or older</td>\n",
       "      <td>White</td>\n",
       "      <td>No, borderline diabetes</td>\n",
       "      <td>No</td>\n",
       "      <td>Fair</td>\n",
       "      <td>5.0</td>\n",
       "      <td>No</td>\n",
       "      <td>Yes</td>\n",
       "      <td>No</td>\n",
       "    </tr>\n",
       "    <tr>\n",
       "      <th>9</th>\n",
       "      <td>No</td>\n",
       "      <td>40.69</td>\n",
       "      <td>No</td>\n",
       "      <td>No</td>\n",
       "      <td>No</td>\n",
       "      <td>0.0</td>\n",
       "      <td>0.0</td>\n",
       "      <td>Yes</td>\n",
       "      <td>Male</td>\n",
       "      <td>65-69</td>\n",
       "      <td>White</td>\n",
       "      <td>No</td>\n",
       "      <td>Yes</td>\n",
       "      <td>Good</td>\n",
       "      <td>10.0</td>\n",
       "      <td>No</td>\n",
       "      <td>No</td>\n",
       "      <td>No</td>\n",
       "    </tr>\n",
       "  </tbody>\n",
       "</table>\n",
       "</div>"
      ],
      "text/plain": [
       "  HeartDisease    BMI Smoking AlcoholDrinking Stroke  PhysicalHealth  \\\n",
       "0           No  16.60     Yes              No     No             3.0   \n",
       "1           No  20.34      No              No    Yes             0.0   \n",
       "2           No  26.58     Yes              No     No            20.0   \n",
       "3           No  24.21      No              No     No             0.0   \n",
       "4           No  23.71      No              No     No            28.0   \n",
       "5          Yes  28.87     Yes              No     No             6.0   \n",
       "6           No  21.63      No              No     No            15.0   \n",
       "7           No  31.64     Yes              No     No             5.0   \n",
       "8           No  26.45      No              No     No             0.0   \n",
       "9           No  40.69      No              No     No             0.0   \n",
       "\n",
       "   MentalHealth DiffWalking     Sex  AgeCategory   Race  \\\n",
       "0          30.0          No  Female        55-59  White   \n",
       "1           0.0          No  Female  80 or older  White   \n",
       "2          30.0          No    Male        65-69  White   \n",
       "3           0.0          No  Female        75-79  White   \n",
       "4           0.0         Yes  Female        40-44  White   \n",
       "5           0.0         Yes  Female        75-79  Black   \n",
       "6           0.0          No  Female        70-74  White   \n",
       "7           0.0         Yes  Female  80 or older  White   \n",
       "8           0.0          No  Female  80 or older  White   \n",
       "9           0.0         Yes    Male        65-69  White   \n",
       "\n",
       "                  Diabetic PhysicalActivity  GenHealth  SleepTime Asthma  \\\n",
       "0                      Yes              Yes  Very good        5.0    Yes   \n",
       "1                       No              Yes  Very good        7.0     No   \n",
       "2                      Yes              Yes       Fair        8.0    Yes   \n",
       "3                       No               No       Good        6.0     No   \n",
       "4                       No              Yes  Very good        8.0     No   \n",
       "5                       No               No       Fair       12.0     No   \n",
       "6                       No              Yes       Fair        4.0    Yes   \n",
       "7                      Yes               No       Good        9.0    Yes   \n",
       "8  No, borderline diabetes               No       Fair        5.0     No   \n",
       "9                       No              Yes       Good       10.0     No   \n",
       "\n",
       "  KidneyDisease SkinCancer  \n",
       "0            No        Yes  \n",
       "1            No         No  \n",
       "2            No         No  \n",
       "3            No        Yes  \n",
       "4            No         No  \n",
       "5            No         No  \n",
       "6            No        Yes  \n",
       "7            No         No  \n",
       "8           Yes         No  \n",
       "9            No         No  "
      ]
     },
     "execution_count": 27,
     "metadata": {},
     "output_type": "execute_result"
    }
   ],
   "source": [
    "df.head(10)"
   ]
  },
  {
   "cell_type": "markdown",
   "id": "9e128989",
   "metadata": {},
   "source": [
    "## 2. Codificación de variables categóricas"
   ]
  },
  {
   "cell_type": "code",
   "execution_count": 28,
   "id": "98dca467",
   "metadata": {},
   "outputs": [
    {
     "data": {
      "text/html": [
       "<div>\n",
       "<style scoped>\n",
       "    .dataframe tbody tr th:only-of-type {\n",
       "        vertical-align: middle;\n",
       "    }\n",
       "\n",
       "    .dataframe tbody tr th {\n",
       "        vertical-align: top;\n",
       "    }\n",
       "\n",
       "    .dataframe thead th {\n",
       "        text-align: right;\n",
       "    }\n",
       "</style>\n",
       "<table border=\"1\" class=\"dataframe\">\n",
       "  <thead>\n",
       "    <tr style=\"text-align: right;\">\n",
       "      <th></th>\n",
       "      <th>HeartDisease</th>\n",
       "      <th>Smoking</th>\n",
       "      <th>AlcoholDrinking</th>\n",
       "      <th>Stroke</th>\n",
       "      <th>DiffWalking</th>\n",
       "      <th>Sex</th>\n",
       "      <th>AgeCategory</th>\n",
       "      <th>Race</th>\n",
       "      <th>Diabetic</th>\n",
       "      <th>PhysicalActivity</th>\n",
       "      <th>GenHealth</th>\n",
       "      <th>Asthma</th>\n",
       "      <th>KidneyDisease</th>\n",
       "      <th>SkinCancer</th>\n",
       "    </tr>\n",
       "  </thead>\n",
       "  <tbody>\n",
       "    <tr>\n",
       "      <th>0</th>\n",
       "      <td>No</td>\n",
       "      <td>Yes</td>\n",
       "      <td>No</td>\n",
       "      <td>No</td>\n",
       "      <td>No</td>\n",
       "      <td>Female</td>\n",
       "      <td>55-59</td>\n",
       "      <td>White</td>\n",
       "      <td>Yes</td>\n",
       "      <td>Yes</td>\n",
       "      <td>Very good</td>\n",
       "      <td>Yes</td>\n",
       "      <td>No</td>\n",
       "      <td>Yes</td>\n",
       "    </tr>\n",
       "    <tr>\n",
       "      <th>1</th>\n",
       "      <td>No</td>\n",
       "      <td>No</td>\n",
       "      <td>No</td>\n",
       "      <td>Yes</td>\n",
       "      <td>No</td>\n",
       "      <td>Female</td>\n",
       "      <td>80 or older</td>\n",
       "      <td>White</td>\n",
       "      <td>No</td>\n",
       "      <td>Yes</td>\n",
       "      <td>Very good</td>\n",
       "      <td>No</td>\n",
       "      <td>No</td>\n",
       "      <td>No</td>\n",
       "    </tr>\n",
       "    <tr>\n",
       "      <th>2</th>\n",
       "      <td>No</td>\n",
       "      <td>Yes</td>\n",
       "      <td>No</td>\n",
       "      <td>No</td>\n",
       "      <td>No</td>\n",
       "      <td>Male</td>\n",
       "      <td>65-69</td>\n",
       "      <td>White</td>\n",
       "      <td>Yes</td>\n",
       "      <td>Yes</td>\n",
       "      <td>Fair</td>\n",
       "      <td>Yes</td>\n",
       "      <td>No</td>\n",
       "      <td>No</td>\n",
       "    </tr>\n",
       "    <tr>\n",
       "      <th>3</th>\n",
       "      <td>No</td>\n",
       "      <td>No</td>\n",
       "      <td>No</td>\n",
       "      <td>No</td>\n",
       "      <td>No</td>\n",
       "      <td>Female</td>\n",
       "      <td>75-79</td>\n",
       "      <td>White</td>\n",
       "      <td>No</td>\n",
       "      <td>No</td>\n",
       "      <td>Good</td>\n",
       "      <td>No</td>\n",
       "      <td>No</td>\n",
       "      <td>Yes</td>\n",
       "    </tr>\n",
       "    <tr>\n",
       "      <th>4</th>\n",
       "      <td>No</td>\n",
       "      <td>No</td>\n",
       "      <td>No</td>\n",
       "      <td>No</td>\n",
       "      <td>Yes</td>\n",
       "      <td>Female</td>\n",
       "      <td>40-44</td>\n",
       "      <td>White</td>\n",
       "      <td>No</td>\n",
       "      <td>Yes</td>\n",
       "      <td>Very good</td>\n",
       "      <td>No</td>\n",
       "      <td>No</td>\n",
       "      <td>No</td>\n",
       "    </tr>\n",
       "  </tbody>\n",
       "</table>\n",
       "</div>"
      ],
      "text/plain": [
       "  HeartDisease Smoking AlcoholDrinking Stroke DiffWalking     Sex  \\\n",
       "0           No     Yes              No     No          No  Female   \n",
       "1           No      No              No    Yes          No  Female   \n",
       "2           No     Yes              No     No          No    Male   \n",
       "3           No      No              No     No          No  Female   \n",
       "4           No      No              No     No         Yes  Female   \n",
       "\n",
       "   AgeCategory   Race Diabetic PhysicalActivity  GenHealth Asthma  \\\n",
       "0        55-59  White      Yes              Yes  Very good    Yes   \n",
       "1  80 or older  White       No              Yes  Very good     No   \n",
       "2        65-69  White      Yes              Yes       Fair    Yes   \n",
       "3        75-79  White       No               No       Good     No   \n",
       "4        40-44  White       No              Yes  Very good     No   \n",
       "\n",
       "  KidneyDisease SkinCancer  \n",
       "0            No        Yes  \n",
       "1            No         No  \n",
       "2            No         No  \n",
       "3            No        Yes  \n",
       "4            No         No  "
      ]
     },
     "execution_count": 28,
     "metadata": {},
     "output_type": "execute_result"
    }
   ],
   "source": [
    "# Antes de nada, un vistazo general a las categorías de cada una de las vars. no numéricas\n",
    "\n",
    "categorical = df.select_dtypes(include=object)\n",
    "categorical.head(5)"
   ]
  },
  {
   "cell_type": "code",
   "execution_count": 29,
   "id": "ddb654e7",
   "metadata": {},
   "outputs": [
    {
     "name": "stdout",
     "output_type": "stream",
     "text": [
      "\n",
      "\u001b[1mHeartDisease\u001b[0m\n",
      "No     292422\n",
      "Yes     27373\n",
      "Name: HeartDisease, dtype: int64\n",
      "\n",
      "\u001b[1mSmoking\u001b[0m\n",
      "No     187887\n",
      "Yes    131908\n",
      "Name: Smoking, dtype: int64\n",
      "\n",
      "\u001b[1mAlcoholDrinking\u001b[0m\n",
      "No     298018\n",
      "Yes     21777\n",
      "Name: AlcoholDrinking, dtype: int64\n",
      "\n",
      "\u001b[1mStroke\u001b[0m\n",
      "No     307726\n",
      "Yes     12069\n",
      "Name: Stroke, dtype: int64\n",
      "\n",
      "\u001b[1mDiffWalking\u001b[0m\n",
      "No     275385\n",
      "Yes     44410\n",
      "Name: DiffWalking, dtype: int64\n",
      "\n",
      "\u001b[1mSex\u001b[0m\n",
      "Female    167805\n",
      "Male      151990\n",
      "Name: Sex, dtype: int64\n",
      "\n",
      "\u001b[1mAgeCategory\u001b[0m\n",
      "65-69          34151\n",
      "60-64          33686\n",
      "70-74          31065\n",
      "55-59          29757\n",
      "50-54          25382\n",
      "80 or older    24153\n",
      "45-49          21791\n",
      "75-79          21482\n",
      "18-24          21064\n",
      "40-44          21006\n",
      "35-39          20550\n",
      "30-34          18753\n",
      "25-29          16955\n",
      "Name: AgeCategory, dtype: int64\n",
      "\n",
      "\u001b[1mRace\u001b[0m\n",
      "White                             245212\n",
      "Hispanic                           27446\n",
      "Black                              22939\n",
      "Other                              10928\n",
      "Asian                               8068\n",
      "American Indian/Alaskan Native      5202\n",
      "Name: Race, dtype: int64\n",
      "\n",
      "\u001b[1mDiabetic\u001b[0m\n",
      "No                         269653\n",
      "Yes                         40802\n",
      "No, borderline diabetes      6781\n",
      "Yes (during pregnancy)       2559\n",
      "Name: Diabetic, dtype: int64\n",
      "\n",
      "\u001b[1mPhysicalActivity\u001b[0m\n",
      "Yes    247957\n",
      "No      71838\n",
      "Name: PhysicalActivity, dtype: int64\n",
      "\n",
      "\u001b[1mGenHealth\u001b[0m\n",
      "Very good    113858\n",
      "Good          93129\n",
      "Excellent     66842\n",
      "Fair          34677\n",
      "Poor          11289\n",
      "Name: GenHealth, dtype: int64\n",
      "\n",
      "\u001b[1mAsthma\u001b[0m\n",
      "No     276923\n",
      "Yes     42872\n",
      "Name: Asthma, dtype: int64\n",
      "\n",
      "\u001b[1mKidneyDisease\u001b[0m\n",
      "No     308016\n",
      "Yes     11779\n",
      "Name: KidneyDisease, dtype: int64\n",
      "\n",
      "\u001b[1mSkinCancer\u001b[0m\n",
      "No     289976\n",
      "Yes     29819\n",
      "Name: SkinCancer, dtype: int64\n"
     ]
    }
   ],
   "source": [
    "for col in categorical.columns:\n",
    "    print(\"\\n\" + '\\033[1m'+ str(col) + '\\033[0m')\n",
    "    print(pd.value_counts(categorical[col]))"
   ]
  },
  {
   "cell_type": "markdown",
   "id": "0e70996d",
   "metadata": {},
   "source": [
    "### 2.1 *Label encoding* para variables ordinales"
   ]
  },
  {
   "cell_type": "markdown",
   "id": "4c28c95c",
   "metadata": {},
   "source": [
    "Teniendo en cuenta lo que hemos visto anteriormente, podemos distinguir las siguientes dos variables **ordinales**: **GenHealth** y **AgeCategory**. No consideraremos *Diabetic* como ordinal porque no es evidente como habría de ordenarse la categoría \"*Yes (during pregnancy)*\" dentro de una escala unidimensional de intensidad de diabetes."
   ]
  },
  {
   "cell_type": "code",
   "execution_count": 30,
   "id": "646c9be9",
   "metadata": {},
   "outputs": [
    {
     "data": {
      "text/html": [
       "<div>\n",
       "<style scoped>\n",
       "    .dataframe tbody tr th:only-of-type {\n",
       "        vertical-align: middle;\n",
       "    }\n",
       "\n",
       "    .dataframe tbody tr th {\n",
       "        vertical-align: top;\n",
       "    }\n",
       "\n",
       "    .dataframe thead th {\n",
       "        text-align: right;\n",
       "    }\n",
       "</style>\n",
       "<table border=\"1\" class=\"dataframe\">\n",
       "  <thead>\n",
       "    <tr style=\"text-align: right;\">\n",
       "      <th></th>\n",
       "      <th>GenHealth</th>\n",
       "      <th>AgeCategory</th>\n",
       "    </tr>\n",
       "  </thead>\n",
       "  <tbody>\n",
       "    <tr>\n",
       "      <th>0</th>\n",
       "      <td>4</td>\n",
       "      <td>7</td>\n",
       "    </tr>\n",
       "    <tr>\n",
       "      <th>1</th>\n",
       "      <td>4</td>\n",
       "      <td>12</td>\n",
       "    </tr>\n",
       "    <tr>\n",
       "      <th>2</th>\n",
       "      <td>1</td>\n",
       "      <td>9</td>\n",
       "    </tr>\n",
       "    <tr>\n",
       "      <th>3</th>\n",
       "      <td>2</td>\n",
       "      <td>11</td>\n",
       "    </tr>\n",
       "    <tr>\n",
       "      <th>4</th>\n",
       "      <td>4</td>\n",
       "      <td>4</td>\n",
       "    </tr>\n",
       "    <tr>\n",
       "      <th>5</th>\n",
       "      <td>1</td>\n",
       "      <td>11</td>\n",
       "    </tr>\n",
       "    <tr>\n",
       "      <th>6</th>\n",
       "      <td>1</td>\n",
       "      <td>10</td>\n",
       "    </tr>\n",
       "    <tr>\n",
       "      <th>7</th>\n",
       "      <td>2</td>\n",
       "      <td>12</td>\n",
       "    </tr>\n",
       "    <tr>\n",
       "      <th>8</th>\n",
       "      <td>1</td>\n",
       "      <td>12</td>\n",
       "    </tr>\n",
       "    <tr>\n",
       "      <th>9</th>\n",
       "      <td>2</td>\n",
       "      <td>9</td>\n",
       "    </tr>\n",
       "  </tbody>\n",
       "</table>\n",
       "</div>"
      ],
      "text/plain": [
       "   GenHealth  AgeCategory\n",
       "0          4            7\n",
       "1          4           12\n",
       "2          1            9\n",
       "3          2           11\n",
       "4          4            4\n",
       "5          1           11\n",
       "6          1           10\n",
       "7          2           12\n",
       "8          1           12\n",
       "9          2            9"
      ]
     },
     "execution_count": 30,
     "metadata": {},
     "output_type": "execute_result"
    }
   ],
   "source": [
    "# Import label encoder\n",
    "from sklearn.preprocessing import LabelEncoder\n",
    "  \n",
    "# Applying  encoding to ordinal categorical variables\n",
    "label_encoder = LabelEncoder()\n",
    "df_encoded = df.copy()\n",
    "df_encoded['GenHealth']= label_encoder.fit_transform(df['GenHealth'])\n",
    "df_encoded['AgeCategory']= label_encoder.fit_transform(df['AgeCategory'])\n",
    "\n",
    "df_encoded[['GenHealth', 'AgeCategory']].head(10)"
   ]
  },
  {
   "cell_type": "markdown",
   "id": "1698ac66",
   "metadata": {},
   "source": [
    "### 2.2 *One Hot encoding* para variables no ordinales"
   ]
  },
  {
   "cell_type": "code",
   "execution_count": 31,
   "id": "d4de7adb",
   "metadata": {},
   "outputs": [
    {
     "data": {
      "text/html": [
       "<div>\n",
       "<style scoped>\n",
       "    .dataframe tbody tr th:only-of-type {\n",
       "        vertical-align: middle;\n",
       "    }\n",
       "\n",
       "    .dataframe tbody tr th {\n",
       "        vertical-align: top;\n",
       "    }\n",
       "\n",
       "    .dataframe thead th {\n",
       "        text-align: right;\n",
       "    }\n",
       "</style>\n",
       "<table border=\"1\" class=\"dataframe\">\n",
       "  <thead>\n",
       "    <tr style=\"text-align: right;\">\n",
       "      <th></th>\n",
       "      <th>BMI</th>\n",
       "      <th>PhysicalHealth</th>\n",
       "      <th>MentalHealth</th>\n",
       "      <th>AgeCategory</th>\n",
       "      <th>GenHealth</th>\n",
       "      <th>SleepTime</th>\n",
       "      <th>HeartDisease_Yes</th>\n",
       "      <th>Smoking_Yes</th>\n",
       "      <th>AlcoholDrinking_Yes</th>\n",
       "      <th>Stroke_Yes</th>\n",
       "      <th>...</th>\n",
       "      <th>Race_Hispanic</th>\n",
       "      <th>Race_Other</th>\n",
       "      <th>Race_White</th>\n",
       "      <th>Diabetic_No, borderline diabetes</th>\n",
       "      <th>Diabetic_Yes</th>\n",
       "      <th>Diabetic_Yes (during pregnancy)</th>\n",
       "      <th>PhysicalActivity_Yes</th>\n",
       "      <th>Asthma_Yes</th>\n",
       "      <th>KidneyDisease_Yes</th>\n",
       "      <th>SkinCancer_Yes</th>\n",
       "    </tr>\n",
       "  </thead>\n",
       "  <tbody>\n",
       "    <tr>\n",
       "      <th>0</th>\n",
       "      <td>16.60</td>\n",
       "      <td>3.0</td>\n",
       "      <td>30.0</td>\n",
       "      <td>7</td>\n",
       "      <td>4</td>\n",
       "      <td>5.0</td>\n",
       "      <td>0</td>\n",
       "      <td>1</td>\n",
       "      <td>0</td>\n",
       "      <td>0</td>\n",
       "      <td>...</td>\n",
       "      <td>0</td>\n",
       "      <td>0</td>\n",
       "      <td>1</td>\n",
       "      <td>0</td>\n",
       "      <td>1</td>\n",
       "      <td>0</td>\n",
       "      <td>1</td>\n",
       "      <td>1</td>\n",
       "      <td>0</td>\n",
       "      <td>1</td>\n",
       "    </tr>\n",
       "    <tr>\n",
       "      <th>1</th>\n",
       "      <td>20.34</td>\n",
       "      <td>0.0</td>\n",
       "      <td>0.0</td>\n",
       "      <td>12</td>\n",
       "      <td>4</td>\n",
       "      <td>7.0</td>\n",
       "      <td>0</td>\n",
       "      <td>0</td>\n",
       "      <td>0</td>\n",
       "      <td>1</td>\n",
       "      <td>...</td>\n",
       "      <td>0</td>\n",
       "      <td>0</td>\n",
       "      <td>1</td>\n",
       "      <td>0</td>\n",
       "      <td>0</td>\n",
       "      <td>0</td>\n",
       "      <td>1</td>\n",
       "      <td>0</td>\n",
       "      <td>0</td>\n",
       "      <td>0</td>\n",
       "    </tr>\n",
       "    <tr>\n",
       "      <th>2</th>\n",
       "      <td>26.58</td>\n",
       "      <td>20.0</td>\n",
       "      <td>30.0</td>\n",
       "      <td>9</td>\n",
       "      <td>1</td>\n",
       "      <td>8.0</td>\n",
       "      <td>0</td>\n",
       "      <td>1</td>\n",
       "      <td>0</td>\n",
       "      <td>0</td>\n",
       "      <td>...</td>\n",
       "      <td>0</td>\n",
       "      <td>0</td>\n",
       "      <td>1</td>\n",
       "      <td>0</td>\n",
       "      <td>1</td>\n",
       "      <td>0</td>\n",
       "      <td>1</td>\n",
       "      <td>1</td>\n",
       "      <td>0</td>\n",
       "      <td>0</td>\n",
       "    </tr>\n",
       "    <tr>\n",
       "      <th>3</th>\n",
       "      <td>24.21</td>\n",
       "      <td>0.0</td>\n",
       "      <td>0.0</td>\n",
       "      <td>11</td>\n",
       "      <td>2</td>\n",
       "      <td>6.0</td>\n",
       "      <td>0</td>\n",
       "      <td>0</td>\n",
       "      <td>0</td>\n",
       "      <td>0</td>\n",
       "      <td>...</td>\n",
       "      <td>0</td>\n",
       "      <td>0</td>\n",
       "      <td>1</td>\n",
       "      <td>0</td>\n",
       "      <td>0</td>\n",
       "      <td>0</td>\n",
       "      <td>0</td>\n",
       "      <td>0</td>\n",
       "      <td>0</td>\n",
       "      <td>1</td>\n",
       "    </tr>\n",
       "    <tr>\n",
       "      <th>4</th>\n",
       "      <td>23.71</td>\n",
       "      <td>28.0</td>\n",
       "      <td>0.0</td>\n",
       "      <td>4</td>\n",
       "      <td>4</td>\n",
       "      <td>8.0</td>\n",
       "      <td>0</td>\n",
       "      <td>0</td>\n",
       "      <td>0</td>\n",
       "      <td>0</td>\n",
       "      <td>...</td>\n",
       "      <td>0</td>\n",
       "      <td>0</td>\n",
       "      <td>1</td>\n",
       "      <td>0</td>\n",
       "      <td>0</td>\n",
       "      <td>0</td>\n",
       "      <td>1</td>\n",
       "      <td>0</td>\n",
       "      <td>0</td>\n",
       "      <td>0</td>\n",
       "    </tr>\n",
       "  </tbody>\n",
       "</table>\n",
       "<p>5 rows × 24 columns</p>\n",
       "</div>"
      ],
      "text/plain": [
       "     BMI  PhysicalHealth  MentalHealth  AgeCategory  GenHealth  SleepTime  \\\n",
       "0  16.60             3.0          30.0            7          4        5.0   \n",
       "1  20.34             0.0           0.0           12          4        7.0   \n",
       "2  26.58            20.0          30.0            9          1        8.0   \n",
       "3  24.21             0.0           0.0           11          2        6.0   \n",
       "4  23.71            28.0           0.0            4          4        8.0   \n",
       "\n",
       "   HeartDisease_Yes  Smoking_Yes  AlcoholDrinking_Yes  Stroke_Yes  ...  \\\n",
       "0                 0            1                    0           0  ...   \n",
       "1                 0            0                    0           1  ...   \n",
       "2                 0            1                    0           0  ...   \n",
       "3                 0            0                    0           0  ...   \n",
       "4                 0            0                    0           0  ...   \n",
       "\n",
       "   Race_Hispanic  Race_Other  Race_White  Diabetic_No, borderline diabetes  \\\n",
       "0              0           0           1                                 0   \n",
       "1              0           0           1                                 0   \n",
       "2              0           0           1                                 0   \n",
       "3              0           0           1                                 0   \n",
       "4              0           0           1                                 0   \n",
       "\n",
       "   Diabetic_Yes  Diabetic_Yes (during pregnancy)  PhysicalActivity_Yes  \\\n",
       "0             1                                0                     1   \n",
       "1             0                                0                     1   \n",
       "2             1                                0                     1   \n",
       "3             0                                0                     0   \n",
       "4             0                                0                     1   \n",
       "\n",
       "   Asthma_Yes  KidneyDisease_Yes  SkinCancer_Yes  \n",
       "0           1                  0               1  \n",
       "1           0                  0               0  \n",
       "2           1                  0               0  \n",
       "3           0                  0               1  \n",
       "4           0                  0               0  \n",
       "\n",
       "[5 rows x 24 columns]"
      ]
     },
     "execution_count": 31,
     "metadata": {},
     "output_type": "execute_result"
    }
   ],
   "source": [
    "df_encoded = pd.get_dummies(df_encoded, drop_first=True)\n",
    "df_encoded.head(5)"
   ]
  },
  {
   "cell_type": "markdown",
   "id": "ade0f9c4",
   "metadata": {},
   "source": [
    "## 3. Train-test separation"
   ]
  },
  {
   "cell_type": "markdown",
   "id": "9f9da05c",
   "metadata": {},
   "source": [
    "Antes de aplicar técnicas de selección de variables y cualquier otro pre-procesamiento restante, partiremos los datos en los subconjuntos de train y test. Los criterios y algoritmos de selección de variables se aplicarán sobre train para identificar los atributos a eliminar, y posteriormente se eliminarán esos mismos atributos del subconjunto de test."
   ]
  },
  {
   "cell_type": "code",
   "execution_count": 32,
   "id": "e3eac5e7",
   "metadata": {},
   "outputs": [
    {
     "name": "stdout",
     "output_type": "stream",
     "text": [
      "\n",
      "\u001b[1mDistribución del target en train\u001b[0m\n",
      "0    204876\n",
      "1     18980\n",
      "Name: HeartDisease_Yes, dtype: int64\n",
      "\n",
      "\u001b[1mDistribución del target en test\u001b[0m\n",
      "0    87546\n",
      "1     8393\n",
      "Name: HeartDisease_Yes, dtype: int64\n"
     ]
    }
   ],
   "source": [
    "# Train-test separation\n",
    "X = df_encoded.drop(['HeartDisease_Yes'], axis=1)\n",
    "y = df_encoded[['HeartDisease_Yes']]\n",
    "\n",
    "X_train, X_test, y_train, y_test = train_test_split(X, y ,test_size = 0.3, random_state = 123)\n",
    "\n",
    "print(\"\\n\" + '\\033[1m'+ 'Distribución del target en train' + '\\033[0m')\n",
    "print(pd.value_counts(y_train['HeartDisease_Yes']))\n",
    "\n",
    "print(\"\\n\" + '\\033[1m'+ 'Distribución del target en test' + '\\033[0m')\n",
    "print(pd.value_counts(y_test['HeartDisease_Yes']))"
   ]
  },
  {
   "cell_type": "markdown",
   "id": "a6cc827e",
   "metadata": {},
   "source": [
    "Se mantienen porcentajes similares de target=1 en train (9.26%) y test (9.58%), por lo que no vemos necesario aplicar sampling estratificado"
   ]
  },
  {
   "cell_type": "code",
   "execution_count": 33,
   "id": "a44e0235",
   "metadata": {},
   "outputs": [],
   "source": [
    "# La estandarización de variables previa al entrenamiento nos interesa para evaluar \n",
    "# posteriormente la importancia de cada variable\n",
    "\n",
    "scaler = StandardScaler()\n",
    "X_train_scaled = scaler.fit_transform(X_train)\n",
    "X_test_scaled = scaler.transform(X_test)\n",
    "\n",
    "X_train_scaled = pd.DataFrame(X_train_scaled, columns=X_train.columns)\n",
    "X_test_scaled = pd.DataFrame(X_test_scaled, columns=X_test.columns)"
   ]
  },
  {
   "cell_type": "markdown",
   "id": "c6ac5cc6",
   "metadata": {},
   "source": [
    "## 4. Selección de variables"
   ]
  },
  {
   "cell_type": "markdown",
   "id": "5b227801",
   "metadata": {},
   "source": [
    "Existen múltiples técnicas y criterios que pueden aplicarse. Nosotros nos hemos decantado por los que se muestran a continuación."
   ]
  },
  {
   "cell_type": "markdown",
   "id": "39809376",
   "metadata": {},
   "source": [
    "### 4.1 Eliminación de variables altamente correladas"
   ]
  },
  {
   "cell_type": "code",
   "execution_count": 34,
   "id": "81f64dfd",
   "metadata": {},
   "outputs": [
    {
     "data": {
      "text/html": [
       "<div>\n",
       "<style scoped>\n",
       "    .dataframe tbody tr th:only-of-type {\n",
       "        vertical-align: middle;\n",
       "    }\n",
       "\n",
       "    .dataframe tbody tr th {\n",
       "        vertical-align: top;\n",
       "    }\n",
       "\n",
       "    .dataframe thead th {\n",
       "        text-align: right;\n",
       "    }\n",
       "</style>\n",
       "<table border=\"1\" class=\"dataframe\">\n",
       "  <thead>\n",
       "    <tr style=\"text-align: right;\">\n",
       "      <th></th>\n",
       "      <th>BMI</th>\n",
       "      <th>PhysicalHealth</th>\n",
       "      <th>MentalHealth</th>\n",
       "      <th>SleepTime</th>\n",
       "    </tr>\n",
       "  </thead>\n",
       "  <tbody>\n",
       "    <tr>\n",
       "      <th>BMI</th>\n",
       "      <td>1.000000</td>\n",
       "      <td>0.109788</td>\n",
       "      <td>0.064131</td>\n",
       "      <td>-0.051822</td>\n",
       "    </tr>\n",
       "    <tr>\n",
       "      <th>PhysicalHealth</th>\n",
       "      <td>0.109788</td>\n",
       "      <td>1.000000</td>\n",
       "      <td>0.287987</td>\n",
       "      <td>-0.061387</td>\n",
       "    </tr>\n",
       "    <tr>\n",
       "      <th>MentalHealth</th>\n",
       "      <td>0.064131</td>\n",
       "      <td>0.287987</td>\n",
       "      <td>1.000000</td>\n",
       "      <td>-0.119717</td>\n",
       "    </tr>\n",
       "    <tr>\n",
       "      <th>SleepTime</th>\n",
       "      <td>-0.051822</td>\n",
       "      <td>-0.061387</td>\n",
       "      <td>-0.119717</td>\n",
       "      <td>1.000000</td>\n",
       "    </tr>\n",
       "  </tbody>\n",
       "</table>\n",
       "</div>"
      ],
      "text/plain": [
       "                     BMI  PhysicalHealth  MentalHealth  SleepTime\n",
       "BMI             1.000000        0.109788      0.064131  -0.051822\n",
       "PhysicalHealth  0.109788        1.000000      0.287987  -0.061387\n",
       "MentalHealth    0.064131        0.287987      1.000000  -0.119717\n",
       "SleepTime      -0.051822       -0.061387     -0.119717   1.000000"
      ]
     },
     "execution_count": 34,
     "metadata": {},
     "output_type": "execute_result"
    }
   ],
   "source": [
    "df.corr()"
   ]
  },
  {
   "cell_type": "markdown",
   "id": "5637d6e6",
   "metadata": {},
   "source": [
    "Ningun atributo presenta un coeficiente de correlación de Pearson alto; de hecho la correlación lineal entre las variables numéricas de nuestro conjunto de datos es notablemente bajo. No hay por tanto información redundante que entorpezca el entrenamiento provocando el sobreajuste del modelo al ruido."
   ]
  },
  {
   "cell_type": "markdown",
   "id": "b6d18f00",
   "metadata": {},
   "source": [
    "### 4.2 Recursive Feature Elimination"
   ]
  },
  {
   "cell_type": "code",
   "execution_count": 60,
   "id": "05dc2b20",
   "metadata": {},
   "outputs": [
    {
     "name": "stdout",
     "output_type": "stream",
     "text": [
      "1 AgeCategory\n",
      "2 Stroke_Yes\n",
      "3 GenHealth\n",
      "4 DiffWalking_Yes\n",
      "5 Diabetic_Yes\n",
      "6 Sex_Male\n",
      "7 KidneyDisease_Yes\n",
      "8 Smoking_Yes\n",
      "9 PhysicalHealth\n",
      "10 Race_White\n",
      "11 Asthma_Yes\n",
      "12 AlcoholDrinking_Yes\n",
      "13 Race_Black\n",
      "14 Race_Hispanic\n",
      "15 SkinCancer_Yes\n",
      "16 Race_Other\n",
      "17 SleepTime\n",
      "18 Race_Asian\n",
      "19 Diabetic_Yes (during pregnancy)\n",
      "20 BMI\n",
      "21 MentalHealth\n",
      "22 Diabetic_No, borderline diabetes\n",
      "23 PhysicalActivity_Yes\n"
     ]
    }
   ],
   "source": [
    "classifier = xgb.XGBClassifier()\n",
    "\n",
    "# perform Recursive Feature Elimination (RFE)\n",
    "from sklearn.feature_selection import RFE\n",
    "# here we want only one final feature, we do this to produce a ranking\n",
    "n_features_to_select = 1\n",
    "rfe = RFE(classifier, n_features_to_select=n_features_to_select)\n",
    "rfe.fit(X_train_scaled, y_train)\n",
    "\n",
    "# Print out the features in order of ranking\n",
    "from operator import itemgetter\n",
    "features = X_train_scaled.columns.to_list()\n",
    "for x, y in (sorted(zip(rfe.ranking_ , features), key=itemgetter(0))):\n",
    "    print(x, y)"
   ]
  },
  {
   "cell_type": "markdown",
   "id": "16a2ed63",
   "metadata": {},
   "source": [
    "Las visualizaciones del EDA corroboran que no hay distinciones notables entre los valores medios de BMI y MentalHealth entre enfermos y no enfermos, por lo que las eliminaremos. Las dummies categoricas que estén por debajo también las eliminaremos. Nos queda un total de 19 variables."
   ]
  },
  {
   "cell_type": "code",
   "execution_count": 35,
   "id": "ccbebf6c",
   "metadata": {},
   "outputs": [],
   "source": [
    "X_train_scaled = X_train_scaled.drop(['BMI','MentalHealth', 'Diabetic_No, borderline diabetes', 'PhysicalActivity_Yes'], axis=1)\n",
    "X_test_scaled = X_test_scaled.drop(['BMI','MentalHealth', 'Diabetic_No, borderline diabetes', 'PhysicalActivity_Yes'], axis=1)"
   ]
  },
  {
   "cell_type": "markdown",
   "id": "984071cd",
   "metadata": {},
   "source": [
    "## 5. Tratamiento previo a la modelización"
   ]
  },
  {
   "cell_type": "markdown",
   "id": "80ccb399",
   "metadata": {},
   "source": [
    "### 5.1 Enriquecimiento del dataset: Clustering k-means"
   ]
  },
  {
   "cell_type": "code",
   "execution_count": 36,
   "id": "810bcdad",
   "metadata": {},
   "outputs": [],
   "source": [
    "# Aplicamos clustering\n",
    "\n",
    "intertia = []\n",
    "K = range(1,10)\n",
    "for k in K:\n",
    "    kmeanModel = KMeans(n_clusters=k, random_state = 123)\n",
    "    kmeanModel.fit(X_train_scaled)\n",
    "    intertia.append(kmeanModel.inertia_)"
   ]
  },
  {
   "cell_type": "code",
   "execution_count": 37,
   "id": "dc9171a1",
   "metadata": {},
   "outputs": [
    {
     "data": {
      "image/png": "[encoded data removed]",
      "text/plain": [
       "<Figure size 1600x800 with 1 Axes>"
      ]
     },
     "metadata": {},
     "output_type": "display_data"
    }
   ],
   "source": [
    "plt.figure(figsize=(16,8))\n",
    "plt.plot(K, intertia, 'bx-')\n",
    "plt.xlabel('k')\n",
    "plt.ylabel('Inertia')\n",
    "plt.title('The Elbow Method showing the optimal k')\n",
    "plt.show()"
   ]
  },
  {
   "cell_type": "code",
   "execution_count": 38,
   "id": "4f045a7c",
   "metadata": {},
   "outputs": [],
   "source": [
    "cluster = KMeans(n_clusters = 4, random_state = 123)\n",
    "cluster.fit(X_train_scaled)\n",
    "\n",
    "prediction_train = cluster.predict(X_train_scaled)\n",
    "X_train_prepared = X_train_scaled.copy()\n",
    "X_train_prepared['cluster'] = prediction_train\n",
    "\n",
    "prediction_test = cluster.predict(X_test_scaled)\n",
    "X_test_prepared = X_test_scaled.copy()\n",
    "X_test_prepared['cluster'] = prediction_test"
   ]
  },
  {
   "cell_type": "code",
   "execution_count": 15,
   "id": "121850a7",
   "metadata": {},
   "outputs": [
    {
     "name": "stdout",
     "output_type": "stream",
     "text": [
      "1 cluster\n",
      "2 AgeCategory\n",
      "3 GenHealth\n",
      "4 Stroke_Yes\n",
      "5 Sex_Male\n",
      "6 Diabetic_Yes\n",
      "7 KidneyDisease_Yes\n",
      "8 Smoking_Yes\n",
      "9 Race_White\n",
      "10 PhysicalHealth\n",
      "11 Asthma_Yes\n",
      "12 DiffWalking_Yes\n",
      "13 AlcoholDrinking_Yes\n",
      "14 Race_Black\n",
      "15 SkinCancer_Yes\n",
      "16 Race_Other\n",
      "17 Race_Hispanic\n",
      "18 SleepTime\n",
      "19 Race_Asian\n",
      "20 Diabetic_Yes (during pregnancy)\n"
     ]
    }
   ],
   "source": [
    "classifier = xgb.XGBClassifier()\n",
    "\n",
    "# perform Recursive Feature Elimination (RFE)\n",
    "from sklearn.feature_selection import RFE\n",
    "# here we want only one final feature, we do this to produce a ranking\n",
    "n_features_to_select = 1\n",
    "rfe = RFE(classifier, n_features_to_select=n_features_to_select)\n",
    "rfe.fit(X_train_prepared, y_train)\n",
    "\n",
    "# Print out the features in order of ranking\n",
    "from operator import itemgetter\n",
    "features = X_train_prepared.columns.to_list()\n",
    "for x, y in (sorted(zip(rfe.ranking_ , features), key=itemgetter(0))):\n",
    "    print(x, y)"
   ]
  },
  {
   "cell_type": "markdown",
   "id": "45d562a8",
   "metadata": {},
   "source": [
    "La varaible 'cluster' parece claramente relevante, así que la mantendremos. A cambio, vamos a eliminar Diabetic_Yes (during pregnancy). Tiene sentido que padecer diabetes transitoriamente fruto de un emparazo no afecte significativamente el riesgo de padecer enfermedades cardiacas."
   ]
  },
  {
   "cell_type": "code",
   "execution_count": 39,
   "id": "00529010",
   "metadata": {},
   "outputs": [],
   "source": [
    "X_train_scaled = X_train_scaled.drop(['Diabetic_Yes (during pregnancy)'], axis=1)\n",
    "X_test_scaled = X_test_scaled.drop(['Diabetic_Yes (during pregnancy)'], axis=1)"
   ]
  },
  {
   "cell_type": "markdown",
   "id": "b32d6c35",
   "metadata": {},
   "source": [
    "### 5.2 Oversampling de la clase minoritaria"
   ]
  },
  {
   "cell_type": "code",
   "execution_count": 43,
   "id": "bbfa45be",
   "metadata": {},
   "outputs": [
    {
     "name": "stdout",
     "output_type": "stream",
     "text": [
      "\n",
      "\u001b[1mDistribución del target en train antes de balancear\u001b[0m\n",
      "0    204876\n",
      "1     18980\n",
      "Name: HeartDisease_Yes, dtype: int64\n",
      "\n",
      "\u001b[1mDistribución del target en train después de balancear\u001b[0m\n",
      "0    136583\n",
      "1     81950\n",
      "Name: HeartDisease_Yes, dtype: int64\n"
     ]
    }
   ],
   "source": [
    "# Oversampling\n",
    "from collections import Counter\n",
    "from imblearn.over_sampling import SMOTE, SVMSMOTE, BorderlineSMOTE\n",
    "from imblearn.under_sampling import RandomUnderSampler\n",
    "from imblearn.pipeline import Pipeline\n",
    "\n",
    "over = BorderlineSMOTE(sampling_strategy=0.4)\n",
    "under = RandomUnderSampler(sampling_strategy=0.6)\n",
    "\n",
    "steps = [('o', over), ('u', under)]\n",
    "pipeline = Pipeline(steps=steps)\n",
    "\n",
    "# transform the dataset\n",
    "X_train_balanced, y_train_balanced = pipeline.fit_resample(X_train_scaled, y_train)\n",
    "\n",
    "print(\"\\n\" + '\\033[1m'+ 'Distribución del target en train antes de balancear' + '\\033[0m')\n",
    "print(pd.value_counts(y_train['HeartDisease_Yes']))\n",
    "\n",
    "print(\"\\n\" + '\\033[1m'+ 'Distribución del target en train después de balancear' + '\\033[0m')\n",
    "print(pd.value_counts(y_train_balanced['HeartDisease_Yes']))"
   ]
  },
  {
   "cell_type": "markdown",
   "id": "dec38c76",
   "metadata": {},
   "source": [
    "## 6. Modelización"
   ]
  },
  {
   "cell_type": "code",
   "execution_count": 41,
   "id": "fa1985c0",
   "metadata": {},
   "outputs": [],
   "source": [
    "# Conjunto de validación para búsqueda Bayesiana\n",
    "X_test, X_val, y_test, y_val = train_test_split(X_test_scaled, #_balanced\n",
    "                                                y_test, #_balanced\n",
    "                                                test_size = 0.5, \n",
    "                                                random_state = 123)"
   ]
  },
  {
   "cell_type": "code",
   "execution_count": 44,
   "id": "cc3dc656",
   "metadata": {
    "scrolled": false
   },
   "outputs": [
    {
     "name": "stdout",
     "output_type": "stream",
     "text": [
      "|   iter    |  target   |    eta    |   gamma   | learni... | max_depth | min_ch... |\n",
      "-------------------------------------------------------------------------------------\n",
      "| \u001b[0m 1       \u001b[0m | \u001b[0m 0.2479  \u001b[0m | \u001b[0m 0.417   \u001b[0m | \u001b[0m 7.203   \u001b[0m | \u001b[0m 0.001011\u001b[0m | \u001b[0m 5.023   \u001b[0m | \u001b[0m 0.7338  \u001b[0m |\n",
      "| \u001b[95m 2       \u001b[0m | \u001b[95m 0.3316  \u001b[0m | \u001b[95m 0.09234 \u001b[0m | \u001b[95m 1.863   \u001b[0m | \u001b[95m 0.03521 \u001b[0m | \u001b[95m 5.968   \u001b[0m | \u001b[95m 2.694   \u001b[0m |\n",
      "| \u001b[0m 3       \u001b[0m | \u001b[0m 0.3314  \u001b[0m | \u001b[0m 0.304   \u001b[0m | \u001b[0m 1.963   \u001b[0m | \u001b[0m 0.07443 \u001b[0m | \u001b[0m 6.257   \u001b[0m | \u001b[0m 2.726   \u001b[0m |\n",
      "| \u001b[0m 4       \u001b[0m | \u001b[0m 0.2883  \u001b[0m | \u001b[0m 0.0     \u001b[0m | \u001b[0m 0.0     \u001b[0m | \u001b[0m 0.001   \u001b[0m | \u001b[0m 10.74   \u001b[0m | \u001b[0m 5.0     \u001b[0m |\n",
      "| \u001b[95m 5       \u001b[0m | \u001b[95m 0.3335  \u001b[0m | \u001b[95m 1.0     \u001b[0m | \u001b[95m 0.0     \u001b[0m | \u001b[95m 0.1     \u001b[0m | \u001b[95m 3.9     \u001b[0m | \u001b[95m 5.0     \u001b[0m |\n",
      "| \u001b[95m 6       \u001b[0m | \u001b[95m 0.3485  \u001b[0m | \u001b[95m 1.0     \u001b[0m | \u001b[95m 0.0     \u001b[0m | \u001b[95m 0.1     \u001b[0m | \u001b[95m 2.0     \u001b[0m | \u001b[95m 0.2316  \u001b[0m |\n",
      "| \u001b[0m 7       \u001b[0m | \u001b[0m 0.3289  \u001b[0m | \u001b[0m 1.0     \u001b[0m | \u001b[0m 0.0     \u001b[0m | \u001b[0m 0.1     \u001b[0m | \u001b[0m 6.127   \u001b[0m | \u001b[0m 0.0     \u001b[0m |\n",
      "| \u001b[0m 8       \u001b[0m | \u001b[0m 0.324   \u001b[0m | \u001b[0m 1.0     \u001b[0m | \u001b[0m 10.0    \u001b[0m | \u001b[0m 0.1     \u001b[0m | \u001b[0m 12.0    \u001b[0m | \u001b[0m 5.0     \u001b[0m |\n",
      "| \u001b[0m 9       \u001b[0m | \u001b[0m 0.3473  \u001b[0m | \u001b[0m 1.0     \u001b[0m | \u001b[0m 3.073   \u001b[0m | \u001b[0m 0.1     \u001b[0m | \u001b[0m 2.0     \u001b[0m | \u001b[0m 5.0     \u001b[0m |\n",
      "| \u001b[0m 10      \u001b[0m | \u001b[0m 0.3485  \u001b[0m | \u001b[0m 0.0     \u001b[0m | \u001b[0m 0.0     \u001b[0m | \u001b[0m 0.1     \u001b[0m | \u001b[0m 2.0     \u001b[0m | \u001b[0m 2.931   \u001b[0m |\n",
      "| \u001b[0m 11      \u001b[0m | \u001b[0m 0.3217  \u001b[0m | \u001b[0m 1.0     \u001b[0m | \u001b[0m 4.206   \u001b[0m | \u001b[0m 0.1     \u001b[0m | \u001b[0m 12.0    \u001b[0m | \u001b[0m 0.0     \u001b[0m |\n",
      "| \u001b[0m 12      \u001b[0m | \u001b[0m 0.3247  \u001b[0m | \u001b[0m 0.0     \u001b[0m | \u001b[0m 10.0    \u001b[0m | \u001b[0m 0.1     \u001b[0m | \u001b[0m 12.0    \u001b[0m | \u001b[0m 0.0     \u001b[0m |\n",
      "| \u001b[0m 13      \u001b[0m | \u001b[0m 0.3485  \u001b[0m | \u001b[0m 1.0     \u001b[0m | \u001b[0m 2.208   \u001b[0m | \u001b[0m 0.1     \u001b[0m | \u001b[0m 2.0     \u001b[0m | \u001b[0m 2.019   \u001b[0m |\n",
      "| \u001b[95m 14      \u001b[0m | \u001b[95m 0.3505  \u001b[0m | \u001b[95m 1.0     \u001b[0m | \u001b[95m 10.0    \u001b[0m | \u001b[95m 0.1     \u001b[0m | \u001b[95m 2.0     \u001b[0m | \u001b[95m 5.0     \u001b[0m |\n",
      "| \u001b[0m 15      \u001b[0m | \u001b[0m 0.3475  \u001b[0m | \u001b[0m 1.0     \u001b[0m | \u001b[0m 6.701   \u001b[0m | \u001b[0m 0.1     \u001b[0m | \u001b[0m 2.0     \u001b[0m | \u001b[0m 5.0     \u001b[0m |\n",
      "| \u001b[0m 16      \u001b[0m | \u001b[0m 0.3333  \u001b[0m | \u001b[0m 1.0     \u001b[0m | \u001b[0m 10.0    \u001b[0m | \u001b[0m 0.1     \u001b[0m | \u001b[0m 5.549   \u001b[0m | \u001b[0m 5.0     \u001b[0m |\n",
      "| \u001b[0m 17      \u001b[0m | \u001b[0m 0.3337  \u001b[0m | \u001b[0m 1.0     \u001b[0m | \u001b[0m 4.172   \u001b[0m | \u001b[0m 0.1     \u001b[0m | \u001b[0m 4.964   \u001b[0m | \u001b[0m 5.0     \u001b[0m |\n",
      "| \u001b[0m 18      \u001b[0m | \u001b[0m 0.297   \u001b[0m | \u001b[0m 1.0     \u001b[0m | \u001b[0m 0.0     \u001b[0m | \u001b[0m 0.1     \u001b[0m | \u001b[0m 12.0    \u001b[0m | \u001b[0m 0.0     \u001b[0m |\n",
      "| \u001b[0m 19      \u001b[0m | \u001b[0m 0.3213  \u001b[0m | \u001b[0m 0.0     \u001b[0m | \u001b[0m 5.874   \u001b[0m | \u001b[0m 0.1     \u001b[0m | \u001b[0m 12.0    \u001b[0m | \u001b[0m 5.0     \u001b[0m |\n",
      "| \u001b[95m 20      \u001b[0m | \u001b[95m 0.3517  \u001b[0m | \u001b[95m 0.0     \u001b[0m | \u001b[95m 8.598   \u001b[0m | \u001b[95m 0.1     \u001b[0m | \u001b[95m 2.0     \u001b[0m | \u001b[95m 5.0     \u001b[0m |\n",
      "| \u001b[0m 21      \u001b[0m | \u001b[0m 0.3485  \u001b[0m | \u001b[0m 0.0     \u001b[0m | \u001b[0m 1.667   \u001b[0m | \u001b[0m 0.1     \u001b[0m | \u001b[0m 2.0     \u001b[0m | \u001b[0m 0.0     \u001b[0m |\n",
      "| \u001b[0m 22      \u001b[0m | \u001b[0m 0.3468  \u001b[0m | \u001b[0m 0.0     \u001b[0m | \u001b[0m 4.816   \u001b[0m | \u001b[0m 0.1     \u001b[0m | \u001b[0m 2.0     \u001b[0m | \u001b[0m 5.0     \u001b[0m |\n",
      "| \u001b[0m 23      \u001b[0m | \u001b[0m 0.3473  \u001b[0m | \u001b[0m 0.0     \u001b[0m | \u001b[0m 1.328   \u001b[0m | \u001b[0m 0.1     \u001b[0m | \u001b[0m 2.0     \u001b[0m | \u001b[0m 5.0     \u001b[0m |\n",
      "| \u001b[0m 24      \u001b[0m | \u001b[0m 0.3505  \u001b[0m | \u001b[0m 0.0     \u001b[0m | \u001b[0m 10.0    \u001b[0m | \u001b[0m 0.1     \u001b[0m | \u001b[0m 2.0     \u001b[0m | \u001b[0m 5.0     \u001b[0m |\n",
      "| \u001b[0m 25      \u001b[0m | \u001b[0m 0.3463  \u001b[0m | \u001b[0m 0.02449 \u001b[0m | \u001b[0m 0.03799 \u001b[0m | \u001b[0m 0.04445 \u001b[0m | \u001b[0m 3.204   \u001b[0m | \u001b[0m 0.1142  \u001b[0m |\n",
      "| \u001b[0m 26      \u001b[0m | \u001b[0m 0.3485  \u001b[0m | \u001b[0m 0.0     \u001b[0m | \u001b[0m 0.9766  \u001b[0m | \u001b[0m 0.1     \u001b[0m | \u001b[0m 2.0     \u001b[0m | \u001b[0m 1.513   \u001b[0m |\n",
      "| \u001b[0m 27      \u001b[0m | \u001b[0m 0.2463  \u001b[0m | \u001b[0m 1.0     \u001b[0m | \u001b[0m 1.388   \u001b[0m | \u001b[0m 0.001   \u001b[0m | \u001b[0m 3.197   \u001b[0m | \u001b[0m 0.0     \u001b[0m |\n",
      "| \u001b[0m 28      \u001b[0m | \u001b[0m 0.3485  \u001b[0m | \u001b[0m 0.3258  \u001b[0m | \u001b[0m 1.429   \u001b[0m | \u001b[0m 0.1     \u001b[0m | \u001b[0m 2.0     \u001b[0m | \u001b[0m 3.099   \u001b[0m |\n",
      "| \u001b[0m 29      \u001b[0m | \u001b[0m 0.3473  \u001b[0m | \u001b[0m 0.3391  \u001b[0m | \u001b[0m 3.037   \u001b[0m | \u001b[0m 0.1     \u001b[0m | \u001b[0m 2.0     \u001b[0m | \u001b[0m 3.513   \u001b[0m |\n",
      "| \u001b[0m 30      \u001b[0m | \u001b[0m 0.3474  \u001b[0m | \u001b[0m 0.4987  \u001b[0m | \u001b[0m 9.118   \u001b[0m | \u001b[0m 0.0854  \u001b[0m | \u001b[0m 3.241   \u001b[0m | \u001b[0m 4.51    \u001b[0m |\n",
      "| \u001b[0m 31      \u001b[0m | \u001b[0m 0.3485  \u001b[0m | \u001b[0m 0.0     \u001b[0m | \u001b[0m 0.0     \u001b[0m | \u001b[0m 0.1     \u001b[0m | \u001b[0m 2.0     \u001b[0m | \u001b[0m 0.5986  \u001b[0m |\n",
      "| \u001b[0m 32      \u001b[0m | \u001b[0m 0.2296  \u001b[0m | \u001b[0m 0.5158  \u001b[0m | \u001b[0m 9.261   \u001b[0m | \u001b[0m 0.001   \u001b[0m | \u001b[0m 2.0     \u001b[0m | \u001b[0m 3.479   \u001b[0m |\n",
      "| \u001b[0m 33      \u001b[0m | \u001b[0m 0.3441  \u001b[0m | \u001b[0m 0.7688  \u001b[0m | \u001b[0m 2.037   \u001b[0m | \u001b[0m 0.09509 \u001b[0m | \u001b[0m 2.052   \u001b[0m | \u001b[0m 4.204   \u001b[0m |\n",
      "| \u001b[0m 34      \u001b[0m | \u001b[0m 0.3461  \u001b[0m | \u001b[0m 0.3332  \u001b[0m | \u001b[0m 7.912   \u001b[0m | \u001b[0m 0.1     \u001b[0m | \u001b[0m 3.032   \u001b[0m | \u001b[0m 5.0     \u001b[0m |\n",
      "| \u001b[0m 35      \u001b[0m | \u001b[0m 0.3381  \u001b[0m | \u001b[0m 0.9832  \u001b[0m | \u001b[0m 0.4023  \u001b[0m | \u001b[0m 0.05231 \u001b[0m | \u001b[0m 2.006   \u001b[0m | \u001b[0m 1.974   \u001b[0m |\n",
      "| \u001b[0m 36      \u001b[0m | \u001b[0m 0.3448  \u001b[0m | \u001b[0m 0.0     \u001b[0m | \u001b[0m 10.0    \u001b[0m | \u001b[0m 0.1     \u001b[0m | \u001b[0m 3.44    \u001b[0m | \u001b[0m 5.0     \u001b[0m |\n",
      "| \u001b[0m 37      \u001b[0m | \u001b[0m 0.3445  \u001b[0m | \u001b[0m 1.0     \u001b[0m | \u001b[0m 4.332   \u001b[0m | \u001b[0m 0.09647 \u001b[0m | \u001b[0m 2.595   \u001b[0m | \u001b[0m 4.101   \u001b[0m |\n",
      "| \u001b[0m 38      \u001b[0m | \u001b[0m 0.2711  \u001b[0m | \u001b[0m 0.3249  \u001b[0m | \u001b[0m 3.104   \u001b[0m | \u001b[0m 0.006135\u001b[0m | \u001b[0m 3.127   \u001b[0m | \u001b[0m 4.687   \u001b[0m |\n",
      "| \u001b[0m 39      \u001b[0m | \u001b[0m 0.3485  \u001b[0m | \u001b[0m 0.0     \u001b[0m | \u001b[0m 2.408   \u001b[0m | \u001b[0m 0.1     \u001b[0m | \u001b[0m 2.0     \u001b[0m | \u001b[0m 2.439   \u001b[0m |\n",
      "| \u001b[0m 40      \u001b[0m | \u001b[0m 0.2994  \u001b[0m | \u001b[0m 0.5213  \u001b[0m | \u001b[0m 5.672   \u001b[0m | \u001b[0m 0.02166 \u001b[0m | \u001b[0m 2.329   \u001b[0m | \u001b[0m 4.179   \u001b[0m |\n",
      "| \u001b[0m 41      \u001b[0m | \u001b[0m 0.3485  \u001b[0m | \u001b[0m 1.0     \u001b[0m | \u001b[0m 2.347   \u001b[0m | \u001b[0m 0.1     \u001b[0m | \u001b[0m 2.0     \u001b[0m | \u001b[0m 3.056   \u001b[0m |\n",
      "| \u001b[0m 42      \u001b[0m | \u001b[0m 0.3485  \u001b[0m | \u001b[0m 0.8486  \u001b[0m | \u001b[0m 3.457   \u001b[0m | \u001b[0m 0.1     \u001b[0m | \u001b[0m 2.0     \u001b[0m | \u001b[0m 2.468   \u001b[0m |\n",
      "| \u001b[0m 43      \u001b[0m | \u001b[0m 0.349   \u001b[0m | \u001b[0m 0.4633  \u001b[0m | \u001b[0m 0.1882  \u001b[0m | \u001b[0m 0.08244 \u001b[0m | \u001b[0m 2.27    \u001b[0m | \u001b[0m 4.195   \u001b[0m |\n",
      "| \u001b[0m 44      \u001b[0m | \u001b[0m 0.3416  \u001b[0m | \u001b[0m 0.0     \u001b[0m | \u001b[0m 8.742   \u001b[0m | \u001b[0m 0.1     \u001b[0m | \u001b[0m 4.128   \u001b[0m | \u001b[0m 5.0     \u001b[0m |\n",
      "| \u001b[0m 45      \u001b[0m | \u001b[0m 0.3431  \u001b[0m | \u001b[0m 0.00298 \u001b[0m | \u001b[0m 0.7199  \u001b[0m | \u001b[0m 0.07467 \u001b[0m | \u001b[0m 3.019   \u001b[0m | \u001b[0m 2.926   \u001b[0m |\n",
      "| \u001b[0m 46      \u001b[0m | \u001b[0m 0.3458  \u001b[0m | \u001b[0m 0.0     \u001b[0m | \u001b[0m 0.0     \u001b[0m | \u001b[0m 0.1     \u001b[0m | \u001b[0m 3.032   \u001b[0m | \u001b[0m 1.561   \u001b[0m |\n",
      "| \u001b[0m 47      \u001b[0m | \u001b[0m 0.3485  \u001b[0m | \u001b[0m 0.0     \u001b[0m | \u001b[0m 2.838   \u001b[0m | \u001b[0m 0.1     \u001b[0m | \u001b[0m 2.0     \u001b[0m | \u001b[0m 1.017   \u001b[0m |\n",
      "=====================================================================================\n"
     ]
    }
   ],
   "source": [
    "# Busqueda Bayesiana de hiperparámetros PROBAR con LightGBM. Optuna en lugar de bayes?\n",
    "\n",
    "# Defining the search space\n",
    "space = {\"eta\": (0, 1),\n",
    "         \"gamma\":(0, 10), \n",
    "         \"max_depth\":(2, 12),\n",
    "         \"min_child_weight\": (0, 5),\n",
    "         \"learning_rate\": (0.001, 0.1)}\n",
    "\n",
    "# Defining the objective function\n",
    "def objective(eta, gamma, max_depth, min_child_weight, learning_rate):\n",
    "    \n",
    "    \"\"\"\n",
    "    Objective function to minimize for the Bayesian optimizer\n",
    "        \n",
    "    Parameters\n",
    "    ==========\n",
    "    eta, gamma, max_depth, min_child_weight\n",
    "        \n",
    "    Return\n",
    "    ======\n",
    "        \n",
    "    loss : Cost value to minimize (in this case, binary_crossentropy)\n",
    "    \n",
    "    \"\"\"\n",
    "        \n",
    "    max_depth = round(max_depth)\n",
    "    min_child_weight = round(min_child_weight)\n",
    "    \n",
    "    \n",
    "    # Creating the model\n",
    "    model = xgb.XGBClassifier(random_state=1, \n",
    "                              learning_rate=learning_rate, \n",
    "                              n_estimators=500,\n",
    "                              eta=eta,\n",
    "                              gamma=gamma,\n",
    "                              max_depth=max_depth,\n",
    "                              min_child_weight=min_child_weight)\n",
    "    # Fit the model\n",
    "    model.fit(X_train_balanced, y_train_balanced)  # X_train_scaled, y_train\n",
    "        \n",
    "    # Evaluating the model\n",
    "    y_val_pred = model.predict(X_val)  # Aplicar mejor cross validation?\n",
    "\n",
    "    #accuracy = accuracy_score(y_test_val, y_test_val_pred)\n",
    "    #f1 = f1_score(y_test_val, y_test_val_pred) COMO HEMOS BALANCEADO, PODEMOS CENTRARNOS EN LA PRECISION\n",
    "    \n",
    "    precision = precision_score(y_val, y_val_pred)\n",
    "    \n",
    "        \n",
    "    return precision\n",
    "\n",
    "# Create the optimizer\n",
    "optimizer = BayesianOptimization(\n",
    "    f=objective,\n",
    "    pbounds=space,\n",
    "    random_state=1,\n",
    ")\n",
    "    \n",
    "# Running the optimizer...\n",
    "optimizer.maximize(\n",
    "    init_points=2,\n",
    "    n_iter=45,\n",
    ")\n",
    "    \n",
    "# Optimal parameter values\n",
    "params = optimizer.max['params']"
   ]
  },
  {
   "cell_type": "code",
   "execution_count": 45,
   "id": "5b961bde",
   "metadata": {},
   "outputs": [
    {
     "name": "stdout",
     "output_type": "stream",
     "text": [
      "0.8815485000729638\n"
     ]
    }
   ],
   "source": [
    "# Creating the model\n",
    "xgb_model = xgb.XGBClassifier(use_label_encoder=False, \n",
    "                              random_state=1, \n",
    "                              learning_rate=params['learning_rate'], \n",
    "                              n_estimators=600,\n",
    "                              eta=params['eta'],\n",
    "                              gamma=params['gamma'],\n",
    "                              max_depth=round(params['max_depth']),\n",
    "                              min_child_weight=round(params['min_child_weight']))\n",
    "\n",
    "# Fit the model\n",
    "xgb_model.fit(X_train_balanced, y_train_balanced) # X_train_scaled, y_train\n",
    "        \n",
    "# Evaluating the model\n",
    "y_test_pred = xgb_model.predict(X_test)\n",
    "\n",
    "accuracy = accuracy_score(y_test, y_test_pred)\n",
    "\n",
    "print(accuracy)"
   ]
  },
  {
   "cell_type": "code",
   "execution_count": 46,
   "id": "73ad126a",
   "metadata": {},
   "outputs": [
    {
     "data": {
      "text/plain": [
       "array([[40552,  3229],\n",
       "       [ 2453,  1735]])"
      ]
     },
     "execution_count": 46,
     "metadata": {},
     "output_type": "execute_result"
    }
   ],
   "source": [
    "conf_matrix = confusion_matrix(y_test, y_test_pred)\n",
    "conf_matrix"
   ]
  },
  {
   "cell_type": "code",
   "execution_count": 60,
   "id": "700ae29e",
   "metadata": {},
   "outputs": [
    {
     "data": {
      "application/vnd.plotly.v1+json": {
       "config": {
        "plotlyServerURL": "https://plot.ly"
       },
       "data": [
        {
         "colorscale": [
          [
           0,
           "#440154"
          ],
          [
           0.1111111111111111,
           "#482878"
          ],
          [
           0.2222222222222222,
           "#3e4989"
          ],
          [
           0.3333333333333333,
           "#31688e"
          ],
          [
           0.4444444444444444,
           "#26828e"
          ],
          [
           0.5555555555555556,
           "#1f9e89"
          ],
          [
           0.6666666666666666,
           "#35b779"
          ],
          [
           0.7777777777777778,
           "#6ece58"
          ],
          [
           0.8888888888888888,
           "#b5de2b"
          ],
          [
           1,
           "#fde725"
          ]
         ],
         "type": "heatmap",
         "x": [
          "Predicted 0",
          "Predicted 1"
         ],
         "y": [
          "Actual 0",
          "Actual 1"
         ],
         "z": [
          [
           40552,
           3229
          ],
          [
           2453,
           1735
          ]
         ],
         "zmax": 40552,
         "zmin": 0
        }
       ],
       "layout": {
        "annotations": [
         {
          "font": {
           "color": "white"
          },
          "showarrow": false,
          "text": "40552",
          "x": 0,
          "y": 0
         },
         {
          "font": {
           "color": "white"
          },
          "showarrow": false,
          "text": "3229",
          "x": 1,
          "y": 0
         },
         {
          "font": {
           "color": "white"
          },
          "showarrow": false,
          "text": "2453",
          "x": 0,
          "y": 1
         },
         {
          "font": {
           "color": "white"
          },
          "showarrow": false,
          "text": "1735",
          "x": 1,
          "y": 1
         }
        ],
        "template": {
         "data": {
          "bar": [
           {
            "error_x": {
             "color": "#2a3f5f"
            },
            "error_y": {
             "color": "#2a3f5f"
            },
            "marker": {
             "line": {
              "color": "#E5ECF6",
              "width": 0.5
             },
             "pattern": {
              "fillmode": "overlay",
              "size": 10,
              "solidity": 0.2
             }
            },
            "type": "bar"
           }
          ],
          "barpolar": [
           {
            "marker": {
             "line": {
              "color": "#E5ECF6",
              "width": 0.5
             },
             "pattern": {
              "fillmode": "overlay",
              "size": 10,
              "solidity": 0.2
             }
            },
            "type": "barpolar"
           }
          ],
          "carpet": [
           {
            "aaxis": {
             "endlinecolor": "#2a3f5f",
             "gridcolor": "white",
             "linecolor": "white",
             "minorgridcolor": "white",
             "startlinecolor": "#2a3f5f"
            },
            "baxis": {
             "endlinecolor": "#2a3f5f",
             "gridcolor": "white",
             "linecolor": "white",
             "minorgridcolor": "white",
             "startlinecolor": "#2a3f5f"
            },
            "type": "carpet"
           }
          ],
          "choropleth": [
           {
            "colorbar": {
             "outlinewidth": 0,
             "ticks": ""
            },
            "type": "choropleth"
           }
          ],
          "contour": [
           {
            "colorbar": {
             "outlinewidth": 0,
             "ticks": ""
            },
            "colorscale": [
             [
              0,
              "#0d0887"
             ],
             [
              0.1111111111111111,
              "#46039f"
             ],
             [
              0.2222222222222222,
              "#7201a8"
             ],
             [
              0.3333333333333333,
              "#9c179e"
             ],
             [
              0.4444444444444444,
              "#bd3786"
             ],
             [
              0.5555555555555556,
              "#d8576b"
             ],
             [
              0.6666666666666666,
              "#ed7953"
             ],
             [
              0.7777777777777778,
              "#fb9f3a"
             ],
             [
              0.8888888888888888,
              "#fdca26"
             ],
             [
              1,
              "#f0f921"
             ]
            ],
            "type": "contour"
           }
          ],
          "contourcarpet": [
           {
            "colorbar": {
             "outlinewidth": 0,
             "ticks": ""
            },
            "type": "contourcarpet"
           }
          ],
          "heatmap": [
           {
            "colorbar": {
             "outlinewidth": 0,
             "ticks": ""
            },
            "colorscale": [
             [
              0,
              "#0d0887"
             ],
             [
              0.1111111111111111,
              "#46039f"
             ],
             [
              0.2222222222222222,
              "#7201a8"
             ],
             [
              0.3333333333333333,
              "#9c179e"
             ],
             [
              0.4444444444444444,
              "#bd3786"
             ],
             [
              0.5555555555555556,
              "#d8576b"
             ],
             [
              0.6666666666666666,
              "#ed7953"
             ],
             [
              0.7777777777777778,
              "#fb9f3a"
             ],
             [
              0.8888888888888888,
              "#fdca26"
             ],
             [
              1,
              "#f0f921"
             ]
            ],
            "type": "heatmap"
           }
          ],
          "heatmapgl": [
           {
            "colorbar": {
             "outlinewidth": 0,
             "ticks": ""
            },
            "colorscale": [
             [
              0,
              "#0d0887"
             ],
             [
              0.1111111111111111,
              "#46039f"
             ],
             [
              0.2222222222222222,
              "#7201a8"
             ],
             [
              0.3333333333333333,
              "#9c179e"
             ],
             [
              0.4444444444444444,
              "#bd3786"
             ],
             [
              0.5555555555555556,
              "#d8576b"
             ],
             [
              0.6666666666666666,
              "#ed7953"
             ],
             [
              0.7777777777777778,
              "#fb9f3a"
             ],
             [
              0.8888888888888888,
              "#fdca26"
             ],
             [
              1,
              "#f0f921"
             ]
            ],
            "type": "heatmapgl"
           }
          ],
          "histogram": [
           {
            "marker": {
             "pattern": {
              "fillmode": "overlay",
              "size": 10,
              "solidity": 0.2
             }
            },
            "type": "histogram"
           }
          ],
          "histogram2d": [
           {
            "colorbar": {
             "outlinewidth": 0,
             "ticks": ""
            },
            "colorscale": [
             [
              0,
              "#0d0887"
             ],
             [
              0.1111111111111111,
              "#46039f"
             ],
             [
              0.2222222222222222,
              "#7201a8"
             ],
             [
              0.3333333333333333,
              "#9c179e"
             ],
             [
              0.4444444444444444,
              "#bd3786"
             ],
             [
              0.5555555555555556,
              "#d8576b"
             ],
             [
              0.6666666666666666,
              "#ed7953"
             ],
             [
              0.7777777777777778,
              "#fb9f3a"
             ],
             [
              0.8888888888888888,
              "#fdca26"
             ],
             [
              1,
              "#f0f921"
             ]
            ],
            "type": "histogram2d"
           }
          ],
          "histogram2dcontour": [
           {
            "colorbar": {
             "outlinewidth": 0,
             "ticks": ""
            },
            "colorscale": [
             [
              0,
              "#0d0887"
             ],
             [
              0.1111111111111111,
              "#46039f"
             ],
             [
              0.2222222222222222,
              "#7201a8"
             ],
             [
              0.3333333333333333,
              "#9c179e"
             ],
             [
              0.4444444444444444,
              "#bd3786"
             ],
             [
              0.5555555555555556,
              "#d8576b"
             ],
             [
              0.6666666666666666,
              "#ed7953"
             ],
             [
              0.7777777777777778,
              "#fb9f3a"
             ],
             [
              0.8888888888888888,
              "#fdca26"
             ],
             [
              1,
              "#f0f921"
             ]
            ],
            "type": "histogram2dcontour"
           }
          ],
          "mesh3d": [
           {
            "colorbar": {
             "outlinewidth": 0,
             "ticks": ""
            },
            "type": "mesh3d"
           }
          ],
          "parcoords": [
           {
            "line": {
             "colorbar": {
              "outlinewidth": 0,
              "ticks": ""
             }
            },
            "type": "parcoords"
           }
          ],
          "pie": [
           {
            "automargin": true,
            "type": "pie"
           }
          ],
          "scatter": [
           {
            "fillpattern": {
             "fillmode": "overlay",
             "size": 10,
             "solidity": 0.2
            },
            "type": "scatter"
           }
          ],
          "scatter3d": [
           {
            "line": {
             "colorbar": {
              "outlinewidth": 0,
              "ticks": ""
             }
            },
            "marker": {
             "colorbar": {
              "outlinewidth": 0,
              "ticks": ""
             }
            },
            "type": "scatter3d"
           }
          ],
          "scattercarpet": [
           {
            "marker": {
             "colorbar": {
              "outlinewidth": 0,
              "ticks": ""
             }
            },
            "type": "scattercarpet"
           }
          ],
          "scattergeo": [
           {
            "marker": {
             "colorbar": {
              "outlinewidth": 0,
              "ticks": ""
             }
            },
            "type": "scattergeo"
           }
          ],
          "scattergl": [
           {
            "marker": {
             "colorbar": {
              "outlinewidth": 0,
              "ticks": ""
             }
            },
            "type": "scattergl"
           }
          ],
          "scattermapbox": [
           {
            "marker": {
             "colorbar": {
              "outlinewidth": 0,
              "ticks": ""
             }
            },
            "type": "scattermapbox"
           }
          ],
          "scatterpolar": [
           {
            "marker": {
             "colorbar": {
              "outlinewidth": 0,
              "ticks": ""
             }
            },
            "type": "scatterpolar"
           }
          ],
          "scatterpolargl": [
           {
            "marker": {
             "colorbar": {
              "outlinewidth": 0,
              "ticks": ""
             }
            },
            "type": "scatterpolargl"
           }
          ],
          "scatterternary": [
           {
            "marker": {
             "colorbar": {
              "outlinewidth": 0,
              "ticks": ""
             }
            },
            "type": "scatterternary"
           }
          ],
          "surface": [
           {
            "colorbar": {
             "outlinewidth": 0,
             "ticks": ""
            },
            "colorscale": [
             [
              0,
              "#0d0887"
             ],
             [
              0.1111111111111111,
              "#46039f"
             ],
             [
              0.2222222222222222,
              "#7201a8"
             ],
             [
              0.3333333333333333,
              "#9c179e"
             ],
             [
              0.4444444444444444,
              "#bd3786"
             ],
             [
              0.5555555555555556,
              "#d8576b"
             ],
             [
              0.6666666666666666,
              "#ed7953"
             ],
             [
              0.7777777777777778,
              "#fb9f3a"
             ],
             [
              0.8888888888888888,
              "#fdca26"
             ],
             [
              1,
              "#f0f921"
             ]
            ],
            "type": "surface"
           }
          ],
          "table": [
           {
            "cells": {
             "fill": {
              "color": "#EBF0F8"
             },
             "line": {
              "color": "white"
             }
            },
            "header": {
             "fill": {
              "color": "#C8D4E3"
             },
             "line": {
              "color": "white"
             }
            },
            "type": "table"
           }
          ]
         },
         "layout": {
          "annotationdefaults": {
           "arrowcolor": "#2a3f5f",
           "arrowhead": 0,
           "arrowwidth": 1
          },
          "autotypenumbers": "strict",
          "coloraxis": {
           "colorbar": {
            "outlinewidth": 0,
            "ticks": ""
           }
          },
          "colorscale": {
           "diverging": [
            [
             0,
             "#8e0152"
            ],
            [
             0.1,
             "#c51b7d"
            ],
            [
             0.2,
             "#de77ae"
            ],
            [
             0.3,
             "#f1b6da"
            ],
            [
             0.4,
             "#fde0ef"
            ],
            [
             0.5,
             "#f7f7f7"
            ],
            [
             0.6,
             "#e6f5d0"
            ],
            [
             0.7,
             "#b8e186"
            ],
            [
             0.8,
             "#7fbc41"
            ],
            [
             0.9,
             "#4d9221"
            ],
            [
             1,
             "#276419"
            ]
           ],
           "sequential": [
            [
             0,
             "#0d0887"
            ],
            [
             0.1111111111111111,
             "#46039f"
            ],
            [
             0.2222222222222222,
             "#7201a8"
            ],
            [
             0.3333333333333333,
             "#9c179e"
            ],
            [
             0.4444444444444444,
             "#bd3786"
            ],
            [
             0.5555555555555556,
             "#d8576b"
            ],
            [
             0.6666666666666666,
             "#ed7953"
            ],
            [
             0.7777777777777778,
             "#fb9f3a"
            ],
            [
             0.8888888888888888,
             "#fdca26"
            ],
            [
             1,
             "#f0f921"
            ]
           ],
           "sequentialminus": [
            [
             0,
             "#0d0887"
            ],
            [
             0.1111111111111111,
             "#46039f"
            ],
            [
             0.2222222222222222,
             "#7201a8"
            ],
            [
             0.3333333333333333,
             "#9c179e"
            ],
            [
             0.4444444444444444,
             "#bd3786"
            ],
            [
             0.5555555555555556,
             "#d8576b"
            ],
            [
             0.6666666666666666,
             "#ed7953"
            ],
            [
             0.7777777777777778,
             "#fb9f3a"
            ],
            [
             0.8888888888888888,
             "#fdca26"
            ],
            [
             1,
             "#f0f921"
            ]
           ]
          },
          "colorway": [
           "#636efa",
           "#EF553B",
           "#00cc96",
           "#ab63fa",
           "#FFA15A",
           "#19d3f3",
           "#FF6692",
           "#B6E880",
           "#FF97FF",
           "#FECB52"
          ],
          "font": {
           "color": "#2a3f5f"
          },
          "geo": {
           "bgcolor": "white",
           "lakecolor": "white",
           "landcolor": "#E5ECF6",
           "showlakes": true,
           "showland": true,
           "subunitcolor": "white"
          },
          "hoverlabel": {
           "align": "left"
          },
          "hovermode": "closest",
          "mapbox": {
           "style": "light"
          },
          "paper_bgcolor": "white",
          "plot_bgcolor": "#E5ECF6",
          "polar": {
           "angularaxis": {
            "gridcolor": "white",
            "linecolor": "white",
            "ticks": ""
           },
           "bgcolor": "#E5ECF6",
           "radialaxis": {
            "gridcolor": "white",
            "linecolor": "white",
            "ticks": ""
           }
          },
          "scene": {
           "xaxis": {
            "backgroundcolor": "#E5ECF6",
            "gridcolor": "white",
            "gridwidth": 2,
            "linecolor": "white",
            "showbackground": true,
            "ticks": "",
            "zerolinecolor": "white"
           },
           "yaxis": {
            "backgroundcolor": "#E5ECF6",
            "gridcolor": "white",
            "gridwidth": 2,
            "linecolor": "white",
            "showbackground": true,
            "ticks": "",
            "zerolinecolor": "white"
           },
           "zaxis": {
            "backgroundcolor": "#E5ECF6",
            "gridcolor": "white",
            "gridwidth": 2,
            "linecolor": "white",
            "showbackground": true,
            "ticks": "",
            "zerolinecolor": "white"
           }
          },
          "shapedefaults": {
           "line": {
            "color": "#2a3f5f"
           }
          },
          "ternary": {
           "aaxis": {
            "gridcolor": "white",
            "linecolor": "white",
            "ticks": ""
           },
           "baxis": {
            "gridcolor": "white",
            "linecolor": "white",
            "ticks": ""
           },
           "bgcolor": "#E5ECF6",
           "caxis": {
            "gridcolor": "white",
            "linecolor": "white",
            "ticks": ""
           }
          },
          "title": {
           "x": 0.05
          },
          "xaxis": {
           "automargin": true,
           "gridcolor": "white",
           "linecolor": "white",
           "ticks": "",
           "title": {
            "standoff": 15
           },
           "zerolinecolor": "white",
           "zerolinewidth": 2
          },
          "yaxis": {
           "automargin": true,
           "gridcolor": "white",
           "linecolor": "white",
           "ticks": "",
           "title": {
            "standoff": 15
           },
           "zerolinecolor": "white",
           "zerolinewidth": 2
          }
         }
        }
       }
      },
      "text/html": [
       "<div>                            <div id=\"70d48ad7-df38-4494-9cac-d8440e762265\" class=\"plotly-graph-div\" style=\"height:525px; width:100%;\"></div>            <script type=\"text/javascript\">                require([\"plotly\"], function(Plotly) {                    window.PLOTLYENV=window.PLOTLYENV || {};                                    if (document.getElementById(\"70d48ad7-df38-4494-9cac-d8440e762265\")) {                    Plotly.newPlot(                        \"70d48ad7-df38-4494-9cac-d8440e762265\",                        [{\"colorscale\":[[0.0,\"#440154\"],[0.1111111111111111,\"#482878\"],[0.2222222222222222,\"#3e4989\"],[0.3333333333333333,\"#31688e\"],[0.4444444444444444,\"#26828e\"],[0.5555555555555556,\"#1f9e89\"],[0.6666666666666666,\"#35b779\"],[0.7777777777777778,\"#6ece58\"],[0.8888888888888888,\"#b5de2b\"],[1.0,\"#fde725\"]],\"x\":[\"Predicted 0\",\"Predicted 1\"],\"y\":[\"Actual 0\",\"Actual 1\"],\"z\":[[40552,3229],[2453,1735]],\"zmax\":40552,\"zmin\":0,\"type\":\"heatmap\"}],                        {\"template\":{\"data\":{\"histogram2dcontour\":[{\"type\":\"histogram2dcontour\",\"colorbar\":{\"outlinewidth\":0,\"ticks\":\"\"},\"colorscale\":[[0.0,\"#0d0887\"],[0.1111111111111111,\"#46039f\"],[0.2222222222222222,\"#7201a8\"],[0.3333333333333333,\"#9c179e\"],[0.4444444444444444,\"#bd3786\"],[0.5555555555555556,\"#d8576b\"],[0.6666666666666666,\"#ed7953\"],[0.7777777777777778,\"#fb9f3a\"],[0.8888888888888888,\"#fdca26\"],[1.0,\"#f0f921\"]]}],\"choropleth\":[{\"type\":\"choropleth\",\"colorbar\":{\"outlinewidth\":0,\"ticks\":\"\"}}],\"histogram2d\":[{\"type\":\"histogram2d\",\"colorbar\":{\"outlinewidth\":0,\"ticks\":\"\"},\"colorscale\":[[0.0,\"#0d0887\"],[0.1111111111111111,\"#46039f\"],[0.2222222222222222,\"#7201a8\"],[0.3333333333333333,\"#9c179e\"],[0.4444444444444444,\"#bd3786\"],[0.5555555555555556,\"#d8576b\"],[0.6666666666666666,\"#ed7953\"],[0.7777777777777778,\"#fb9f3a\"],[0.8888888888888888,\"#fdca26\"],[1.0,\"#f0f921\"]]}],\"heatmap\":[{\"type\":\"heatmap\",\"colorbar\":{\"outlinewidth\":0,\"ticks\":\"\"},\"colorscale\":[[0.0,\"#0d0887\"],[0.1111111111111111,\"#46039f\"],[0.2222222222222222,\"#7201a8\"],[0.3333333333333333,\"#9c179e\"],[0.4444444444444444,\"#bd3786\"],[0.5555555555555556,\"#d8576b\"],[0.6666666666666666,\"#ed7953\"],[0.7777777777777778,\"#fb9f3a\"],[0.8888888888888888,\"#fdca26\"],[1.0,\"#f0f921\"]]}],\"heatmapgl\":[{\"type\":\"heatmapgl\",\"colorbar\":{\"outlinewidth\":0,\"ticks\":\"\"},\"colorscale\":[[0.0,\"#0d0887\"],[0.1111111111111111,\"#46039f\"],[0.2222222222222222,\"#7201a8\"],[0.3333333333333333,\"#9c179e\"],[0.4444444444444444,\"#bd3786\"],[0.5555555555555556,\"#d8576b\"],[0.6666666666666666,\"#ed7953\"],[0.7777777777777778,\"#fb9f3a\"],[0.8888888888888888,\"#fdca26\"],[1.0,\"#f0f921\"]]}],\"contourcarpet\":[{\"type\":\"contourcarpet\",\"colorbar\":{\"outlinewidth\":0,\"ticks\":\"\"}}],\"contour\":[{\"type\":\"contour\",\"colorbar\":{\"outlinewidth\":0,\"ticks\":\"\"},\"colorscale\":[[0.0,\"#0d0887\"],[0.1111111111111111,\"#46039f\"],[0.2222222222222222,\"#7201a8\"],[0.3333333333333333,\"#9c179e\"],[0.4444444444444444,\"#bd3786\"],[0.5555555555555556,\"#d8576b\"],[0.6666666666666666,\"#ed7953\"],[0.7777777777777778,\"#fb9f3a\"],[0.8888888888888888,\"#fdca26\"],[1.0,\"#f0f921\"]]}],\"surface\":[{\"type\":\"surface\",\"colorbar\":{\"outlinewidth\":0,\"ticks\":\"\"},\"colorscale\":[[0.0,\"#0d0887\"],[0.1111111111111111,\"#46039f\"],[0.2222222222222222,\"#7201a8\"],[0.3333333333333333,\"#9c179e\"],[0.4444444444444444,\"#bd3786\"],[0.5555555555555556,\"#d8576b\"],[0.6666666666666666,\"#ed7953\"],[0.7777777777777778,\"#fb9f3a\"],[0.8888888888888888,\"#fdca26\"],[1.0,\"#f0f921\"]]}],\"mesh3d\":[{\"type\":\"mesh3d\",\"colorbar\":{\"outlinewidth\":0,\"ticks\":\"\"}}],\"scatter\":[{\"fillpattern\":{\"fillmode\":\"overlay\",\"size\":10,\"solidity\":0.2},\"type\":\"scatter\"}],\"parcoords\":[{\"type\":\"parcoords\",\"line\":{\"colorbar\":{\"outlinewidth\":0,\"ticks\":\"\"}}}],\"scatterpolargl\":[{\"type\":\"scatterpolargl\",\"marker\":{\"colorbar\":{\"outlinewidth\":0,\"ticks\":\"\"}}}],\"bar\":[{\"error_x\":{\"color\":\"#2a3f5f\"},\"error_y\":{\"color\":\"#2a3f5f\"},\"marker\":{\"line\":{\"color\":\"#E5ECF6\",\"width\":0.5},\"pattern\":{\"fillmode\":\"overlay\",\"size\":10,\"solidity\":0.2}},\"type\":\"bar\"}],\"scattergeo\":[{\"type\":\"scattergeo\",\"marker\":{\"colorbar\":{\"outlinewidth\":0,\"ticks\":\"\"}}}],\"scatterpolar\":[{\"type\":\"scatterpolar\",\"marker\":{\"colorbar\":{\"outlinewidth\":0,\"ticks\":\"\"}}}],\"histogram\":[{\"marker\":{\"pattern\":{\"fillmode\":\"overlay\",\"size\":10,\"solidity\":0.2}},\"type\":\"histogram\"}],\"scattergl\":[{\"type\":\"scattergl\",\"marker\":{\"colorbar\":{\"outlinewidth\":0,\"ticks\":\"\"}}}],\"scatter3d\":[{\"type\":\"scatter3d\",\"line\":{\"colorbar\":{\"outlinewidth\":0,\"ticks\":\"\"}},\"marker\":{\"colorbar\":{\"outlinewidth\":0,\"ticks\":\"\"}}}],\"scattermapbox\":[{\"type\":\"scattermapbox\",\"marker\":{\"colorbar\":{\"outlinewidth\":0,\"ticks\":\"\"}}}],\"scatterternary\":[{\"type\":\"scatterternary\",\"marker\":{\"colorbar\":{\"outlinewidth\":0,\"ticks\":\"\"}}}],\"scattercarpet\":[{\"type\":\"scattercarpet\",\"marker\":{\"colorbar\":{\"outlinewidth\":0,\"ticks\":\"\"}}}],\"carpet\":[{\"aaxis\":{\"endlinecolor\":\"#2a3f5f\",\"gridcolor\":\"white\",\"linecolor\":\"white\",\"minorgridcolor\":\"white\",\"startlinecolor\":\"#2a3f5f\"},\"baxis\":{\"endlinecolor\":\"#2a3f5f\",\"gridcolor\":\"white\",\"linecolor\":\"white\",\"minorgridcolor\":\"white\",\"startlinecolor\":\"#2a3f5f\"},\"type\":\"carpet\"}],\"table\":[{\"cells\":{\"fill\":{\"color\":\"#EBF0F8\"},\"line\":{\"color\":\"white\"}},\"header\":{\"fill\":{\"color\":\"#C8D4E3\"},\"line\":{\"color\":\"white\"}},\"type\":\"table\"}],\"barpolar\":[{\"marker\":{\"line\":{\"color\":\"#E5ECF6\",\"width\":0.5},\"pattern\":{\"fillmode\":\"overlay\",\"size\":10,\"solidity\":0.2}},\"type\":\"barpolar\"}],\"pie\":[{\"automargin\":true,\"type\":\"pie\"}]},\"layout\":{\"autotypenumbers\":\"strict\",\"colorway\":[\"#636efa\",\"#EF553B\",\"#00cc96\",\"#ab63fa\",\"#FFA15A\",\"#19d3f3\",\"#FF6692\",\"#B6E880\",\"#FF97FF\",\"#FECB52\"],\"font\":{\"color\":\"#2a3f5f\"},\"hovermode\":\"closest\",\"hoverlabel\":{\"align\":\"left\"},\"paper_bgcolor\":\"white\",\"plot_bgcolor\":\"#E5ECF6\",\"polar\":{\"bgcolor\":\"#E5ECF6\",\"angularaxis\":{\"gridcolor\":\"white\",\"linecolor\":\"white\",\"ticks\":\"\"},\"radialaxis\":{\"gridcolor\":\"white\",\"linecolor\":\"white\",\"ticks\":\"\"}},\"ternary\":{\"bgcolor\":\"#E5ECF6\",\"aaxis\":{\"gridcolor\":\"white\",\"linecolor\":\"white\",\"ticks\":\"\"},\"baxis\":{\"gridcolor\":\"white\",\"linecolor\":\"white\",\"ticks\":\"\"},\"caxis\":{\"gridcolor\":\"white\",\"linecolor\":\"white\",\"ticks\":\"\"}},\"coloraxis\":{\"colorbar\":{\"outlinewidth\":0,\"ticks\":\"\"}},\"colorscale\":{\"sequential\":[[0.0,\"#0d0887\"],[0.1111111111111111,\"#46039f\"],[0.2222222222222222,\"#7201a8\"],[0.3333333333333333,\"#9c179e\"],[0.4444444444444444,\"#bd3786\"],[0.5555555555555556,\"#d8576b\"],[0.6666666666666666,\"#ed7953\"],[0.7777777777777778,\"#fb9f3a\"],[0.8888888888888888,\"#fdca26\"],[1.0,\"#f0f921\"]],\"sequentialminus\":[[0.0,\"#0d0887\"],[0.1111111111111111,\"#46039f\"],[0.2222222222222222,\"#7201a8\"],[0.3333333333333333,\"#9c179e\"],[0.4444444444444444,\"#bd3786\"],[0.5555555555555556,\"#d8576b\"],[0.6666666666666666,\"#ed7953\"],[0.7777777777777778,\"#fb9f3a\"],[0.8888888888888888,\"#fdca26\"],[1.0,\"#f0f921\"]],\"diverging\":[[0,\"#8e0152\"],[0.1,\"#c51b7d\"],[0.2,\"#de77ae\"],[0.3,\"#f1b6da\"],[0.4,\"#fde0ef\"],[0.5,\"#f7f7f7\"],[0.6,\"#e6f5d0\"],[0.7,\"#b8e186\"],[0.8,\"#7fbc41\"],[0.9,\"#4d9221\"],[1,\"#276419\"]]},\"xaxis\":{\"gridcolor\":\"white\",\"linecolor\":\"white\",\"ticks\":\"\",\"title\":{\"standoff\":15},\"zerolinecolor\":\"white\",\"automargin\":true,\"zerolinewidth\":2},\"yaxis\":{\"gridcolor\":\"white\",\"linecolor\":\"white\",\"ticks\":\"\",\"title\":{\"standoff\":15},\"zerolinecolor\":\"white\",\"automargin\":true,\"zerolinewidth\":2},\"scene\":{\"xaxis\":{\"backgroundcolor\":\"#E5ECF6\",\"gridcolor\":\"white\",\"linecolor\":\"white\",\"showbackground\":true,\"ticks\":\"\",\"zerolinecolor\":\"white\",\"gridwidth\":2},\"yaxis\":{\"backgroundcolor\":\"#E5ECF6\",\"gridcolor\":\"white\",\"linecolor\":\"white\",\"showbackground\":true,\"ticks\":\"\",\"zerolinecolor\":\"white\",\"gridwidth\":2},\"zaxis\":{\"backgroundcolor\":\"#E5ECF6\",\"gridcolor\":\"white\",\"linecolor\":\"white\",\"showbackground\":true,\"ticks\":\"\",\"zerolinecolor\":\"white\",\"gridwidth\":2}},\"shapedefaults\":{\"line\":{\"color\":\"#2a3f5f\"}},\"annotationdefaults\":{\"arrowcolor\":\"#2a3f5f\",\"arrowhead\":0,\"arrowwidth\":1},\"geo\":{\"bgcolor\":\"white\",\"landcolor\":\"#E5ECF6\",\"subunitcolor\":\"white\",\"showland\":true,\"showlakes\":true,\"lakecolor\":\"white\"},\"title\":{\"x\":0.05},\"mapbox\":{\"style\":\"light\"}}},\"annotations\":[{\"font\":{\"color\":\"white\"},\"showarrow\":false,\"text\":\"40552\",\"x\":0,\"y\":0},{\"font\":{\"color\":\"white\"},\"showarrow\":false,\"text\":\"3229\",\"x\":1,\"y\":0},{\"font\":{\"color\":\"white\"},\"showarrow\":false,\"text\":\"2453\",\"x\":0,\"y\":1},{\"font\":{\"color\":\"white\"},\"showarrow\":false,\"text\":\"1735\",\"x\":1,\"y\":1}]},                        {\"responsive\": true}                    ).then(function(){\n",
       "                            \n",
       "var gd = document.getElementById('70d48ad7-df38-4494-9cac-d8440e762265');\n",
       "var x = new MutationObserver(function (mutations, observer) {{\n",
       "        var display = window.getComputedStyle(gd).display;\n",
       "        if (!display || display === 'none') {{\n",
       "            console.log([gd, 'removed!']);\n",
       "            Plotly.purge(gd);\n",
       "            observer.disconnect();\n",
       "        }}\n",
       "}});\n",
       "\n",
       "// Listen for the removal of the full notebook cells\n",
       "var notebookContainer = gd.closest('#notebook-container');\n",
       "if (notebookContainer) {{\n",
       "    x.observe(notebookContainer, {childList: true});\n",
       "}}\n",
       "\n",
       "// Listen for the clearing of the current output cell\n",
       "var outputEl = gd.closest('.output');\n",
       "if (outputEl) {{\n",
       "    x.observe(outputEl, {childList: true});\n",
       "}}\n",
       "\n",
       "                        })                };                });            </script>        </div>"
      ]
     },
     "metadata": {},
     "output_type": "display_data"
    }
   ],
   "source": [
    "# create annotations for each cell in the confusion matrix\n",
    "annotations = []\n",
    "for i in range(conf_matrix.shape[0]):\n",
    "    for j in range(conf_matrix.shape[1]):\n",
    "        annotations.append(dict(\n",
    "            x=j,\n",
    "            y=i,\n",
    "            text=str(conf_matrix[i, j]),\n",
    "            showarrow=False,\n",
    "            font=dict(color='white')\n",
    "        ))\n",
    "\n",
    "# plot the confusion matrix using plotly\n",
    "fig = go.Figure(data=go.Heatmap(\n",
    "    z=conf_matrix,\n",
    "    x=['Predicted 0', 'Predicted 1'],\n",
    "    y=['Actual 0', 'Actual 1'],\n",
    "    colorscale='Viridis',\n",
    "    zmin=0,\n",
    "    zmax=conf_matrix.max()\n",
    "))\n",
    "fig.update_layout(annotations=annotations)\n",
    "fig.show()\n"
   ]
  },
  {
   "cell_type": "markdown",
   "id": "84e6342c",
   "metadata": {},
   "source": [
    "### Probando con otros modelos"
   ]
  },
  {
   "cell_type": "code",
   "execution_count": 64,
   "id": "bfb41825",
   "metadata": {},
   "outputs": [
    {
     "name": "stdout",
     "output_type": "stream",
     "text": [
      "|   iter    |  target   | max_depth | min_sa... | min_sa... | n_esti... |\n",
      "-------------------------------------------------------------------------\n"
     ]
    },
    {
     "name": "stderr",
     "output_type": "stream",
     "text": [
      "/var/folders/n5/q17mp4yj0fg4l0nnzg4h71_c0000gn/T/ipykernel_43888/699742015.py:41: DataConversionWarning:\n",
      "\n",
      "A column-vector y was passed when a 1d array was expected. Please change the shape of y to (n_samples,), for example using ravel().\n",
      "\n"
     ]
    },
    {
     "name": "stdout",
     "output_type": "stream",
     "text": [
      "| \u001b[0m 1       \u001b[0m | \u001b[0m 0.275   \u001b[0m | \u001b[0m 6.17    \u001b[0m | \u001b[0m 3.881   \u001b[0m | \u001b[0m 2.001   \u001b[0m | \u001b[0m 37.21   \u001b[0m |\n"
     ]
    },
    {
     "name": "stderr",
     "output_type": "stream",
     "text": [
      "/var/folders/n5/q17mp4yj0fg4l0nnzg4h71_c0000gn/T/ipykernel_43888/699742015.py:41: DataConversionWarning:\n",
      "\n",
      "A column-vector y was passed when a 1d array was expected. Please change the shape of y to (n_samples,), for example using ravel().\n",
      "\n"
     ]
    },
    {
     "name": "stdout",
     "output_type": "stream",
     "text": [
      "| \u001b[95m 2       \u001b[0m | \u001b[95m 0.2909  \u001b[0m | \u001b[95m 3.468   \u001b[0m | \u001b[95m 1.369   \u001b[0m | \u001b[95m 3.49    \u001b[0m | \u001b[95m 41.1    \u001b[0m |\n"
     ]
    },
    {
     "name": "stderr",
     "output_type": "stream",
     "text": [
      "/var/folders/n5/q17mp4yj0fg4l0nnzg4h71_c0000gn/T/ipykernel_43888/699742015.py:41: DataConversionWarning:\n",
      "\n",
      "A column-vector y was passed when a 1d array was expected. Please change the shape of y to (n_samples,), for example using ravel().\n",
      "\n"
     ]
    },
    {
     "name": "stdout",
     "output_type": "stream",
     "text": [
      "| \u001b[0m 3       \u001b[0m | \u001b[0m 0.2909  \u001b[0m | \u001b[0m 2.96    \u001b[0m | \u001b[0m 1.905   \u001b[0m | \u001b[0m 3.033   \u001b[0m | \u001b[0m 40.94   \u001b[0m |\n"
     ]
    },
    {
     "name": "stderr",
     "output_type": "stream",
     "text": [
      "/var/folders/n5/q17mp4yj0fg4l0nnzg4h71_c0000gn/T/ipykernel_43888/699742015.py:41: DataConversionWarning:\n",
      "\n",
      "A column-vector y was passed when a 1d array was expected. Please change the shape of y to (n_samples,), for example using ravel().\n",
      "\n"
     ]
    },
    {
     "name": "stdout",
     "output_type": "stream",
     "text": [
      "| \u001b[0m 4       \u001b[0m | \u001b[0m 0.2867  \u001b[0m | \u001b[0m 2.038   \u001b[0m | \u001b[0m 1.005   \u001b[0m | \u001b[0m 2.091   \u001b[0m | \u001b[0m 45.23   \u001b[0m |\n"
     ]
    },
    {
     "name": "stderr",
     "output_type": "stream",
     "text": [
      "/var/folders/n5/q17mp4yj0fg4l0nnzg4h71_c0000gn/T/ipykernel_43888/699742015.py:41: DataConversionWarning:\n",
      "\n",
      "A column-vector y was passed when a 1d array was expected. Please change the shape of y to (n_samples,), for example using ravel().\n",
      "\n"
     ]
    },
    {
     "name": "stdout",
     "output_type": "stream",
     "text": [
      "| \u001b[95m 5       \u001b[0m | \u001b[95m 0.2914  \u001b[0m | \u001b[95m 2.0     \u001b[0m | \u001b[95m 2.766   \u001b[0m | \u001b[95m 7.09    \u001b[0m | \u001b[95m 42.18   \u001b[0m |\n"
     ]
    },
    {
     "name": "stderr",
     "output_type": "stream",
     "text": [
      "/var/folders/n5/q17mp4yj0fg4l0nnzg4h71_c0000gn/T/ipykernel_43888/699742015.py:41: DataConversionWarning:\n",
      "\n",
      "A column-vector y was passed when a 1d array was expected. Please change the shape of y to (n_samples,), for example using ravel().\n",
      "\n"
     ]
    },
    {
     "name": "stdout",
     "output_type": "stream",
     "text": [
      "| \u001b[0m 6       \u001b[0m | \u001b[0m 0.2721  \u001b[0m | \u001b[0m 5.608   \u001b[0m | \u001b[0m 1.0     \u001b[0m | \u001b[0m 10.0    \u001b[0m | \u001b[0m 44.75   \u001b[0m |\n"
     ]
    },
    {
     "name": "stderr",
     "output_type": "stream",
     "text": [
      "/var/folders/n5/q17mp4yj0fg4l0nnzg4h71_c0000gn/T/ipykernel_43888/699742015.py:41: DataConversionWarning:\n",
      "\n",
      "A column-vector y was passed when a 1d array was expected. Please change the shape of y to (n_samples,), for example using ravel().\n",
      "\n"
     ]
    },
    {
     "name": "stdout",
     "output_type": "stream",
     "text": [
      "| \u001b[95m 7       \u001b[0m | \u001b[95m 0.2926  \u001b[0m | \u001b[95m 2.187   \u001b[0m | \u001b[95m 1.699   \u001b[0m | \u001b[95m 6.862   \u001b[0m | \u001b[95m 38.77   \u001b[0m |\n"
     ]
    },
    {
     "name": "stderr",
     "output_type": "stream",
     "text": [
      "/var/folders/n5/q17mp4yj0fg4l0nnzg4h71_c0000gn/T/ipykernel_43888/699742015.py:41: DataConversionWarning:\n",
      "\n",
      "A column-vector y was passed when a 1d array was expected. Please change the shape of y to (n_samples,), for example using ravel().\n",
      "\n"
     ]
    },
    {
     "name": "stdout",
     "output_type": "stream",
     "text": [
      "| \u001b[0m 8       \u001b[0m | \u001b[0m 0.2923  \u001b[0m | \u001b[0m 2.0     \u001b[0m | \u001b[0m 5.0     \u001b[0m | \u001b[0m 10.0    \u001b[0m | \u001b[0m 36.31   \u001b[0m |\n"
     ]
    },
    {
     "name": "stderr",
     "output_type": "stream",
     "text": [
      "/var/folders/n5/q17mp4yj0fg4l0nnzg4h71_c0000gn/T/ipykernel_43888/699742015.py:41: DataConversionWarning:\n",
      "\n",
      "A column-vector y was passed when a 1d array was expected. Please change the shape of y to (n_samples,), for example using ravel().\n",
      "\n"
     ]
    },
    {
     "name": "stdout",
     "output_type": "stream",
     "text": [
      "| \u001b[0m 9       \u001b[0m | \u001b[0m 0.2922  \u001b[0m | \u001b[0m 2.232   \u001b[0m | \u001b[0m 1.809   \u001b[0m | \u001b[0m 9.506   \u001b[0m | \u001b[0m 32.34   \u001b[0m |\n"
     ]
    },
    {
     "name": "stderr",
     "output_type": "stream",
     "text": [
      "/var/folders/n5/q17mp4yj0fg4l0nnzg4h71_c0000gn/T/ipykernel_43888/699742015.py:41: DataConversionWarning:\n",
      "\n",
      "A column-vector y was passed when a 1d array was expected. Please change the shape of y to (n_samples,), for example using ravel().\n",
      "\n"
     ]
    },
    {
     "name": "stdout",
     "output_type": "stream",
     "text": [
      "| \u001b[0m 10      \u001b[0m | \u001b[0m 0.2907  \u001b[0m | \u001b[0m 2.0     \u001b[0m | \u001b[0m 5.0     \u001b[0m | \u001b[0m 10.0    \u001b[0m | \u001b[0m 26.94   \u001b[0m |\n"
     ]
    },
    {
     "name": "stderr",
     "output_type": "stream",
     "text": [
      "/var/folders/n5/q17mp4yj0fg4l0nnzg4h71_c0000gn/T/ipykernel_43888/699742015.py:41: DataConversionWarning:\n",
      "\n",
      "A column-vector y was passed when a 1d array was expected. Please change the shape of y to (n_samples,), for example using ravel().\n",
      "\n"
     ]
    },
    {
     "name": "stdout",
     "output_type": "stream",
     "text": [
      "| \u001b[0m 11      \u001b[0m | \u001b[0m 0.2766  \u001b[0m | \u001b[0m 7.516   \u001b[0m | \u001b[0m 1.0     \u001b[0m | \u001b[0m 10.0    \u001b[0m | \u001b[0m 27.64   \u001b[0m |\n"
     ]
    },
    {
     "name": "stderr",
     "output_type": "stream",
     "text": [
      "/var/folders/n5/q17mp4yj0fg4l0nnzg4h71_c0000gn/T/ipykernel_43888/699742015.py:41: DataConversionWarning:\n",
      "\n",
      "A column-vector y was passed when a 1d array was expected. Please change the shape of y to (n_samples,), for example using ravel().\n",
      "\n"
     ]
    },
    {
     "name": "stdout",
     "output_type": "stream",
     "text": [
      "| \u001b[0m 12      \u001b[0m | \u001b[0m 0.288   \u001b[0m | \u001b[0m 2.038   \u001b[0m | \u001b[0m 4.735   \u001b[0m | \u001b[0m 5.66    \u001b[0m | \u001b[0m 20.44   \u001b[0m |\n"
     ]
    },
    {
     "name": "stderr",
     "output_type": "stream",
     "text": [
      "/var/folders/n5/q17mp4yj0fg4l0nnzg4h71_c0000gn/T/ipykernel_43888/699742015.py:41: DataConversionWarning:\n",
      "\n",
      "A column-vector y was passed when a 1d array was expected. Please change the shape of y to (n_samples,), for example using ravel().\n",
      "\n"
     ]
    },
    {
     "name": "stdout",
     "output_type": "stream",
     "text": [
      "| \u001b[0m 13      \u001b[0m | \u001b[0m 0.2922  \u001b[0m | \u001b[0m 2.0     \u001b[0m | \u001b[0m 5.0     \u001b[0m | \u001b[0m 6.83    \u001b[0m | \u001b[0m 31.58   \u001b[0m |\n"
     ]
    },
    {
     "name": "stderr",
     "output_type": "stream",
     "text": [
      "/var/folders/n5/q17mp4yj0fg4l0nnzg4h71_c0000gn/T/ipykernel_43888/699742015.py:41: DataConversionWarning:\n",
      "\n",
      "A column-vector y was passed when a 1d array was expected. Please change the shape of y to (n_samples,), for example using ravel().\n",
      "\n"
     ]
    },
    {
     "name": "stdout",
     "output_type": "stream",
     "text": [
      "| \u001b[0m 14      \u001b[0m | \u001b[0m 0.2726  \u001b[0m | \u001b[0m 2.567   \u001b[0m | \u001b[0m 4.725   \u001b[0m | \u001b[0m 3.031   \u001b[0m | \u001b[0m 10.5    \u001b[0m |\n"
     ]
    },
    {
     "name": "stderr",
     "output_type": "stream",
     "text": [
      "/var/folders/n5/q17mp4yj0fg4l0nnzg4h71_c0000gn/T/ipykernel_43888/699742015.py:41: DataConversionWarning:\n",
      "\n",
      "A column-vector y was passed when a 1d array was expected. Please change the shape of y to (n_samples,), for example using ravel().\n",
      "\n"
     ]
    },
    {
     "name": "stdout",
     "output_type": "stream",
     "text": [
      "| \u001b[0m 15      \u001b[0m | \u001b[0m 0.2878  \u001b[0m | \u001b[0m 11.65   \u001b[0m | \u001b[0m 4.928   \u001b[0m | \u001b[0m 2.118   \u001b[0m | \u001b[0m 99.7    \u001b[0m |\n"
     ]
    },
    {
     "name": "stderr",
     "output_type": "stream",
     "text": [
      "/var/folders/n5/q17mp4yj0fg4l0nnzg4h71_c0000gn/T/ipykernel_43888/699742015.py:41: DataConversionWarning:\n",
      "\n",
      "A column-vector y was passed when a 1d array was expected. Please change the shape of y to (n_samples,), for example using ravel().\n",
      "\n"
     ]
    },
    {
     "name": "stdout",
     "output_type": "stream",
     "text": [
      "| \u001b[95m 16      \u001b[0m | \u001b[95m 0.2967  \u001b[0m | \u001b[95m 2.0     \u001b[0m | \u001b[95m 5.0     \u001b[0m | \u001b[95m 2.0     \u001b[0m | \u001b[95m 26.47   \u001b[0m |\n"
     ]
    },
    {
     "name": "stderr",
     "output_type": "stream",
     "text": [
      "/var/folders/n5/q17mp4yj0fg4l0nnzg4h71_c0000gn/T/ipykernel_43888/699742015.py:41: DataConversionWarning:\n",
      "\n",
      "A column-vector y was passed when a 1d array was expected. Please change the shape of y to (n_samples,), for example using ravel().\n",
      "\n"
     ]
    },
    {
     "name": "stdout",
     "output_type": "stream",
     "text": [
      "| \u001b[0m 17      \u001b[0m | \u001b[0m 0.2967  \u001b[0m | \u001b[0m 2.0     \u001b[0m | \u001b[0m 1.0     \u001b[0m | \u001b[0m 2.0     \u001b[0m | \u001b[0m 26.32   \u001b[0m |\n"
     ]
    },
    {
     "name": "stderr",
     "output_type": "stream",
     "text": [
      "/var/folders/n5/q17mp4yj0fg4l0nnzg4h71_c0000gn/T/ipykernel_43888/699742015.py:41: DataConversionWarning:\n",
      "\n",
      "A column-vector y was passed when a 1d array was expected. Please change the shape of y to (n_samples,), for example using ravel().\n",
      "\n"
     ]
    },
    {
     "name": "stdout",
     "output_type": "stream",
     "text": [
      "| \u001b[0m 18      \u001b[0m | \u001b[0m 0.2914  \u001b[0m | \u001b[0m 3.065   \u001b[0m | \u001b[0m 2.039   \u001b[0m | \u001b[0m 9.456   \u001b[0m | \u001b[0m 90.33   \u001b[0m |\n"
     ]
    },
    {
     "name": "stderr",
     "output_type": "stream",
     "text": [
      "/var/folders/n5/q17mp4yj0fg4l0nnzg4h71_c0000gn/T/ipykernel_43888/699742015.py:41: DataConversionWarning:\n",
      "\n",
      "A column-vector y was passed when a 1d array was expected. Please change the shape of y to (n_samples,), for example using ravel().\n",
      "\n"
     ]
    },
    {
     "name": "stdout",
     "output_type": "stream",
     "text": [
      "| \u001b[0m 19      \u001b[0m | \u001b[0m 0.2785  \u001b[0m | \u001b[0m 7.967   \u001b[0m | \u001b[0m 2.614   \u001b[0m | \u001b[0m 6.18    \u001b[0m | \u001b[0m 84.49   \u001b[0m |\n"
     ]
    },
    {
     "name": "stderr",
     "output_type": "stream",
     "text": [
      "/var/folders/n5/q17mp4yj0fg4l0nnzg4h71_c0000gn/T/ipykernel_43888/699742015.py:41: DataConversionWarning:\n",
      "\n",
      "A column-vector y was passed when a 1d array was expected. Please change the shape of y to (n_samples,), for example using ravel().\n",
      "\n"
     ]
    },
    {
     "name": "stdout",
     "output_type": "stream",
     "text": [
      "| \u001b[0m 20      \u001b[0m | \u001b[0m 0.2794  \u001b[0m | \u001b[0m 6.035   \u001b[0m | \u001b[0m 3.461   \u001b[0m | \u001b[0m 2.0     \u001b[0m | \u001b[0m 24.38   \u001b[0m |\n"
     ]
    },
    {
     "name": "stderr",
     "output_type": "stream",
     "text": [
      "/var/folders/n5/q17mp4yj0fg4l0nnzg4h71_c0000gn/T/ipykernel_43888/699742015.py:41: DataConversionWarning:\n",
      "\n",
      "A column-vector y was passed when a 1d array was expected. Please change the shape of y to (n_samples,), for example using ravel().\n",
      "\n"
     ]
    },
    {
     "name": "stdout",
     "output_type": "stream",
     "text": [
      "| \u001b[0m 21      \u001b[0m | \u001b[0m 0.2915  \u001b[0m | \u001b[0m 2.0     \u001b[0m | \u001b[0m 2.563   \u001b[0m | \u001b[0m 2.0     \u001b[0m | \u001b[0m 29.68   \u001b[0m |\n"
     ]
    },
    {
     "name": "stderr",
     "output_type": "stream",
     "text": [
      "/var/folders/n5/q17mp4yj0fg4l0nnzg4h71_c0000gn/T/ipykernel_43888/699742015.py:41: DataConversionWarning:\n",
      "\n",
      "A column-vector y was passed when a 1d array was expected. Please change the shape of y to (n_samples,), for example using ravel().\n",
      "\n"
     ]
    },
    {
     "name": "stdout",
     "output_type": "stream",
     "text": [
      "| \u001b[0m 22      \u001b[0m | \u001b[0m 0.2933  \u001b[0m | \u001b[0m 2.02    \u001b[0m | \u001b[0m 2.864   \u001b[0m | \u001b[0m 5.948   \u001b[0m | \u001b[0m 27.56   \u001b[0m |\n"
     ]
    },
    {
     "name": "stderr",
     "output_type": "stream",
     "text": [
      "/var/folders/n5/q17mp4yj0fg4l0nnzg4h71_c0000gn/T/ipykernel_43888/699742015.py:41: DataConversionWarning:\n",
      "\n",
      "A column-vector y was passed when a 1d array was expected. Please change the shape of y to (n_samples,), for example using ravel().\n",
      "\n"
     ]
    },
    {
     "name": "stdout",
     "output_type": "stream",
     "text": [
      "| \u001b[0m 23      \u001b[0m | \u001b[0m 0.2872  \u001b[0m | \u001b[0m 2.0     \u001b[0m | \u001b[0m 1.384   \u001b[0m | \u001b[0m 10.0    \u001b[0m | \u001b[0m 96.97   \u001b[0m |\n"
     ]
    },
    {
     "name": "stderr",
     "output_type": "stream",
     "text": [
      "/var/folders/n5/q17mp4yj0fg4l0nnzg4h71_c0000gn/T/ipykernel_43888/699742015.py:41: DataConversionWarning:\n",
      "\n",
      "A column-vector y was passed when a 1d array was expected. Please change the shape of y to (n_samples,), for example using ravel().\n",
      "\n"
     ]
    },
    {
     "name": "stdout",
     "output_type": "stream",
     "text": [
      "| \u001b[0m 24      \u001b[0m | \u001b[0m 0.2897  \u001b[0m | \u001b[0m 2.0     \u001b[0m | \u001b[0m 1.0     \u001b[0m | \u001b[0m 2.0     \u001b[0m | \u001b[0m 93.39   \u001b[0m |\n"
     ]
    },
    {
     "name": "stderr",
     "output_type": "stream",
     "text": [
      "/var/folders/n5/q17mp4yj0fg4l0nnzg4h71_c0000gn/T/ipykernel_43888/699742015.py:41: DataConversionWarning:\n",
      "\n",
      "A column-vector y was passed when a 1d array was expected. Please change the shape of y to (n_samples,), for example using ravel().\n",
      "\n"
     ]
    },
    {
     "name": "stdout",
     "output_type": "stream",
     "text": [
      "| \u001b[0m 25      \u001b[0m | \u001b[0m 0.2848  \u001b[0m | \u001b[0m 11.89   \u001b[0m | \u001b[0m 3.868   \u001b[0m | \u001b[0m 2.227   \u001b[0m | \u001b[0m 65.0    \u001b[0m |\n"
     ]
    },
    {
     "name": "stderr",
     "output_type": "stream",
     "text": [
      "/var/folders/n5/q17mp4yj0fg4l0nnzg4h71_c0000gn/T/ipykernel_43888/699742015.py:41: DataConversionWarning:\n",
      "\n",
      "A column-vector y was passed when a 1d array was expected. Please change the shape of y to (n_samples,), for example using ravel().\n",
      "\n"
     ]
    },
    {
     "name": "stdout",
     "output_type": "stream",
     "text": [
      "| \u001b[0m 26      \u001b[0m | \u001b[0m 0.2802  \u001b[0m | \u001b[0m 8.821   \u001b[0m | \u001b[0m 4.424   \u001b[0m | \u001b[0m 9.506   \u001b[0m | \u001b[0m 94.54   \u001b[0m |\n"
     ]
    },
    {
     "name": "stderr",
     "output_type": "stream",
     "text": [
      "/var/folders/n5/q17mp4yj0fg4l0nnzg4h71_c0000gn/T/ipykernel_43888/699742015.py:41: DataConversionWarning:\n",
      "\n",
      "A column-vector y was passed when a 1d array was expected. Please change the shape of y to (n_samples,), for example using ravel().\n",
      "\n"
     ]
    },
    {
     "name": "stdout",
     "output_type": "stream",
     "text": [
      "| \u001b[0m 27      \u001b[0m | \u001b[0m 0.2917  \u001b[0m | \u001b[0m 2.445   \u001b[0m | \u001b[0m 2.773   \u001b[0m | \u001b[0m 2.114   \u001b[0m | \u001b[0m 99.37   \u001b[0m |\n"
     ]
    },
    {
     "name": "stderr",
     "output_type": "stream",
     "text": [
      "/var/folders/n5/q17mp4yj0fg4l0nnzg4h71_c0000gn/T/ipykernel_43888/699742015.py:41: DataConversionWarning:\n",
      "\n",
      "A column-vector y was passed when a 1d array was expected. Please change the shape of y to (n_samples,), for example using ravel().\n",
      "\n"
     ]
    },
    {
     "name": "stdout",
     "output_type": "stream",
     "text": [
      "| \u001b[0m 28      \u001b[0m | \u001b[0m 0.2908  \u001b[0m | \u001b[0m 2.0     \u001b[0m | \u001b[0m 2.689   \u001b[0m | \u001b[0m 10.0    \u001b[0m | \u001b[0m 63.26   \u001b[0m |\n"
     ]
    },
    {
     "name": "stderr",
     "output_type": "stream",
     "text": [
      "/var/folders/n5/q17mp4yj0fg4l0nnzg4h71_c0000gn/T/ipykernel_43888/699742015.py:41: DataConversionWarning:\n",
      "\n",
      "A column-vector y was passed when a 1d array was expected. Please change the shape of y to (n_samples,), for example using ravel().\n",
      "\n"
     ]
    },
    {
     "name": "stdout",
     "output_type": "stream",
     "text": [
      "| \u001b[0m 29      \u001b[0m | \u001b[0m 0.2767  \u001b[0m | \u001b[0m 2.247   \u001b[0m | \u001b[0m 3.995   \u001b[0m | \u001b[0m 9.616   \u001b[0m | \u001b[0m 69.57   \u001b[0m |\n"
     ]
    },
    {
     "name": "stderr",
     "output_type": "stream",
     "text": [
      "/var/folders/n5/q17mp4yj0fg4l0nnzg4h71_c0000gn/T/ipykernel_43888/699742015.py:41: DataConversionWarning:\n",
      "\n",
      "A column-vector y was passed when a 1d array was expected. Please change the shape of y to (n_samples,), for example using ravel().\n",
      "\n"
     ]
    },
    {
     "name": "stdout",
     "output_type": "stream",
     "text": [
      "| \u001b[0m 30      \u001b[0m | \u001b[0m 0.2938  \u001b[0m | \u001b[0m 2.0     \u001b[0m | \u001b[0m 1.0     \u001b[0m | \u001b[0m 9.433   \u001b[0m | \u001b[0m 58.29   \u001b[0m |\n"
     ]
    },
    {
     "name": "stderr",
     "output_type": "stream",
     "text": [
      "/var/folders/n5/q17mp4yj0fg4l0nnzg4h71_c0000gn/T/ipykernel_43888/699742015.py:41: DataConversionWarning:\n",
      "\n",
      "A column-vector y was passed when a 1d array was expected. Please change the shape of y to (n_samples,), for example using ravel().\n",
      "\n"
     ]
    },
    {
     "name": "stdout",
     "output_type": "stream",
     "text": [
      "| \u001b[0m 31      \u001b[0m | \u001b[0m 0.2847  \u001b[0m | \u001b[0m 2.603   \u001b[0m | \u001b[0m 4.331   \u001b[0m | \u001b[0m 5.862   \u001b[0m | \u001b[0m 59.36   \u001b[0m |\n"
     ]
    },
    {
     "name": "stderr",
     "output_type": "stream",
     "text": [
      "/var/folders/n5/q17mp4yj0fg4l0nnzg4h71_c0000gn/T/ipykernel_43888/699742015.py:41: DataConversionWarning:\n",
      "\n",
      "A column-vector y was passed when a 1d array was expected. Please change the shape of y to (n_samples,), for example using ravel().\n",
      "\n"
     ]
    },
    {
     "name": "stdout",
     "output_type": "stream",
     "text": [
      "| \u001b[0m 32      \u001b[0m | \u001b[0m 0.2749  \u001b[0m | \u001b[0m 6.477   \u001b[0m | \u001b[0m 1.087   \u001b[0m | \u001b[0m 9.362   \u001b[0m | \u001b[0m 57.96   \u001b[0m |\n"
     ]
    },
    {
     "name": "stderr",
     "output_type": "stream",
     "text": [
      "/var/folders/n5/q17mp4yj0fg4l0nnzg4h71_c0000gn/T/ipykernel_43888/699742015.py:41: DataConversionWarning:\n",
      "\n",
      "A column-vector y was passed when a 1d array was expected. Please change the shape of y to (n_samples,), for example using ravel().\n",
      "\n"
     ]
    },
    {
     "name": "stdout",
     "output_type": "stream",
     "text": [
      "| \u001b[0m 33      \u001b[0m | \u001b[0m 0.2917  \u001b[0m | \u001b[0m 2.417   \u001b[0m | \u001b[0m 1.344   \u001b[0m | \u001b[0m 9.833   \u001b[0m | \u001b[0m 36.66   \u001b[0m |\n"
     ]
    },
    {
     "name": "stderr",
     "output_type": "stream",
     "text": [
      "/var/folders/n5/q17mp4yj0fg4l0nnzg4h71_c0000gn/T/ipykernel_43888/699742015.py:41: DataConversionWarning:\n",
      "\n",
      "A column-vector y was passed when a 1d array was expected. Please change the shape of y to (n_samples,), for example using ravel().\n",
      "\n"
     ]
    },
    {
     "name": "stdout",
     "output_type": "stream",
     "text": [
      "| \u001b[95m 34      \u001b[0m | \u001b[95m 0.2999  \u001b[0m | \u001b[95m 2.0     \u001b[0m | \u001b[95m 5.0     \u001b[0m | \u001b[95m 4.771   \u001b[0m | \u001b[95m 25.35   \u001b[0m |\n"
     ]
    },
    {
     "name": "stderr",
     "output_type": "stream",
     "text": [
      "/var/folders/n5/q17mp4yj0fg4l0nnzg4h71_c0000gn/T/ipykernel_43888/699742015.py:41: DataConversionWarning:\n",
      "\n",
      "A column-vector y was passed when a 1d array was expected. Please change the shape of y to (n_samples,), for example using ravel().\n",
      "\n"
     ]
    },
    {
     "name": "stdout",
     "output_type": "stream",
     "text": [
      "| \u001b[95m 35      \u001b[0m | \u001b[95m 0.3003  \u001b[0m | \u001b[95m 2.242   \u001b[0m | \u001b[95m 3.258   \u001b[0m | \u001b[95m 3.229   \u001b[0m | \u001b[95m 24.12   \u001b[0m |\n"
     ]
    },
    {
     "name": "stderr",
     "output_type": "stream",
     "text": [
      "/var/folders/n5/q17mp4yj0fg4l0nnzg4h71_c0000gn/T/ipykernel_43888/699742015.py:41: DataConversionWarning:\n",
      "\n",
      "A column-vector y was passed when a 1d array was expected. Please change the shape of y to (n_samples,), for example using ravel().\n",
      "\n"
     ]
    },
    {
     "name": "stdout",
     "output_type": "stream",
     "text": [
      "| \u001b[0m 36      \u001b[0m | \u001b[0m 0.3003  \u001b[0m | \u001b[0m 2.13    \u001b[0m | \u001b[0m 1.091   \u001b[0m | \u001b[0m 3.534   \u001b[0m | \u001b[0m 24.26   \u001b[0m |\n"
     ]
    },
    {
     "name": "stderr",
     "output_type": "stream",
     "text": [
      "/var/folders/n5/q17mp4yj0fg4l0nnzg4h71_c0000gn/T/ipykernel_43888/699742015.py:41: DataConversionWarning:\n",
      "\n",
      "A column-vector y was passed when a 1d array was expected. Please change the shape of y to (n_samples,), for example using ravel().\n",
      "\n"
     ]
    },
    {
     "name": "stdout",
     "output_type": "stream",
     "text": [
      "| \u001b[95m 37      \u001b[0m | \u001b[95m 0.3057  \u001b[0m | \u001b[95m 2.0     \u001b[0m | \u001b[95m 1.0     \u001b[0m | \u001b[95m 6.62    \u001b[0m | \u001b[95m 23.3    \u001b[0m |\n"
     ]
    },
    {
     "name": "stderr",
     "output_type": "stream",
     "text": [
      "/var/folders/n5/q17mp4yj0fg4l0nnzg4h71_c0000gn/T/ipykernel_43888/699742015.py:41: DataConversionWarning:\n",
      "\n",
      "A column-vector y was passed when a 1d array was expected. Please change the shape of y to (n_samples,), for example using ravel().\n",
      "\n"
     ]
    },
    {
     "name": "stdout",
     "output_type": "stream",
     "text": [
      "| \u001b[0m 38      \u001b[0m | \u001b[0m 0.2835  \u001b[0m | \u001b[0m 2.578   \u001b[0m | \u001b[0m 1.192   \u001b[0m | \u001b[0m 9.454   \u001b[0m | \u001b[0m 21.56   \u001b[0m |\n"
     ]
    },
    {
     "name": "stderr",
     "output_type": "stream",
     "text": [
      "/var/folders/n5/q17mp4yj0fg4l0nnzg4h71_c0000gn/T/ipykernel_43888/699742015.py:41: DataConversionWarning:\n",
      "\n",
      "A column-vector y was passed when a 1d array was expected. Please change the shape of y to (n_samples,), for example using ravel().\n",
      "\n"
     ]
    },
    {
     "name": "stdout",
     "output_type": "stream",
     "text": [
      "| \u001b[0m 39      \u001b[0m | \u001b[0m 0.2906  \u001b[0m | \u001b[0m 2.717   \u001b[0m | \u001b[0m 2.214   \u001b[0m | \u001b[0m 6.082   \u001b[0m | \u001b[0m 23.72   \u001b[0m |\n"
     ]
    },
    {
     "name": "stderr",
     "output_type": "stream",
     "text": [
      "/var/folders/n5/q17mp4yj0fg4l0nnzg4h71_c0000gn/T/ipykernel_43888/699742015.py:41: DataConversionWarning:\n",
      "\n",
      "A column-vector y was passed when a 1d array was expected. Please change the shape of y to (n_samples,), for example using ravel().\n",
      "\n"
     ]
    },
    {
     "name": "stdout",
     "output_type": "stream",
     "text": [
      "| \u001b[0m 40      \u001b[0m | \u001b[0m 0.3011  \u001b[0m | \u001b[0m 2.0     \u001b[0m | \u001b[0m 1.0     \u001b[0m | \u001b[0m 5.482   \u001b[0m | \u001b[0m 22.33   \u001b[0m |\n"
     ]
    },
    {
     "name": "stderr",
     "output_type": "stream",
     "text": [
      "/var/folders/n5/q17mp4yj0fg4l0nnzg4h71_c0000gn/T/ipykernel_43888/699742015.py:41: DataConversionWarning:\n",
      "\n",
      "A column-vector y was passed when a 1d array was expected. Please change the shape of y to (n_samples,), for example using ravel().\n",
      "\n"
     ]
    },
    {
     "name": "stdout",
     "output_type": "stream",
     "text": [
      "| \u001b[0m 41      \u001b[0m | \u001b[0m 0.3057  \u001b[0m | \u001b[0m 2.0     \u001b[0m | \u001b[0m 1.752   \u001b[0m | \u001b[0m 2.0     \u001b[0m | \u001b[0m 23.15   \u001b[0m |\n"
     ]
    },
    {
     "name": "stderr",
     "output_type": "stream",
     "text": [
      "/var/folders/n5/q17mp4yj0fg4l0nnzg4h71_c0000gn/T/ipykernel_43888/699742015.py:41: DataConversionWarning:\n",
      "\n",
      "A column-vector y was passed when a 1d array was expected. Please change the shape of y to (n_samples,), for example using ravel().\n",
      "\n"
     ]
    },
    {
     "name": "stdout",
     "output_type": "stream",
     "text": [
      "| \u001b[0m 42      \u001b[0m | \u001b[0m 0.3011  \u001b[0m | \u001b[0m 2.0     \u001b[0m | \u001b[0m 1.0     \u001b[0m | \u001b[0m 2.506   \u001b[0m | \u001b[0m 21.66   \u001b[0m |\n"
     ]
    },
    {
     "name": "stderr",
     "output_type": "stream",
     "text": [
      "/var/folders/n5/q17mp4yj0fg4l0nnzg4h71_c0000gn/T/ipykernel_43888/699742015.py:41: DataConversionWarning:\n",
      "\n",
      "A column-vector y was passed when a 1d array was expected. Please change the shape of y to (n_samples,), for example using ravel().\n",
      "\n"
     ]
    },
    {
     "name": "stdout",
     "output_type": "stream",
     "text": [
      "| \u001b[0m 43      \u001b[0m | \u001b[0m 0.3011  \u001b[0m | \u001b[0m 2.149   \u001b[0m | \u001b[0m 3.261   \u001b[0m | \u001b[0m 2.627   \u001b[0m | \u001b[0m 21.66   \u001b[0m |\n"
     ]
    },
    {
     "name": "stderr",
     "output_type": "stream",
     "text": [
      "/var/folders/n5/q17mp4yj0fg4l0nnzg4h71_c0000gn/T/ipykernel_43888/699742015.py:41: DataConversionWarning:\n",
      "\n",
      "A column-vector y was passed when a 1d array was expected. Please change the shape of y to (n_samples,), for example using ravel().\n",
      "\n"
     ]
    },
    {
     "name": "stdout",
     "output_type": "stream",
     "text": [
      "| \u001b[0m 44      \u001b[0m | \u001b[0m 0.2999  \u001b[0m | \u001b[0m 2.385   \u001b[0m | \u001b[0m 1.015   \u001b[0m | \u001b[0m 8.093   \u001b[0m | \u001b[0m 25.07   \u001b[0m |\n"
     ]
    },
    {
     "name": "stderr",
     "output_type": "stream",
     "text": [
      "/var/folders/n5/q17mp4yj0fg4l0nnzg4h71_c0000gn/T/ipykernel_43888/699742015.py:41: DataConversionWarning:\n",
      "\n",
      "A column-vector y was passed when a 1d array was expected. Please change the shape of y to (n_samples,), for example using ravel().\n",
      "\n"
     ]
    },
    {
     "name": "stdout",
     "output_type": "stream",
     "text": [
      "| \u001b[0m 45      \u001b[0m | \u001b[0m 0.2955  \u001b[0m | \u001b[0m 2.0     \u001b[0m | \u001b[0m 2.311   \u001b[0m | \u001b[0m 2.0     \u001b[0m | \u001b[0m 18.67   \u001b[0m |\n"
     ]
    },
    {
     "name": "stderr",
     "output_type": "stream",
     "text": [
      "/var/folders/n5/q17mp4yj0fg4l0nnzg4h71_c0000gn/T/ipykernel_43888/699742015.py:41: DataConversionWarning:\n",
      "\n",
      "A column-vector y was passed when a 1d array was expected. Please change the shape of y to (n_samples,), for example using ravel().\n",
      "\n"
     ]
    },
    {
     "name": "stdout",
     "output_type": "stream",
     "text": [
      "| \u001b[0m 46      \u001b[0m | \u001b[0m 0.2845  \u001b[0m | \u001b[0m 11.78   \u001b[0m | \u001b[0m 1.504   \u001b[0m | \u001b[0m 9.9     \u001b[0m | \u001b[0m 12.22   \u001b[0m |\n"
     ]
    },
    {
     "name": "stderr",
     "output_type": "stream",
     "text": [
      "/var/folders/n5/q17mp4yj0fg4l0nnzg4h71_c0000gn/T/ipykernel_43888/699742015.py:41: DataConversionWarning:\n",
      "\n",
      "A column-vector y was passed when a 1d array was expected. Please change the shape of y to (n_samples,), for example using ravel().\n",
      "\n"
     ]
    },
    {
     "name": "stdout",
     "output_type": "stream",
     "text": [
      "| \u001b[0m 47      \u001b[0m | \u001b[0m 0.2855  \u001b[0m | \u001b[0m 12.0    \u001b[0m | \u001b[0m 5.0     \u001b[0m | \u001b[0m 2.0     \u001b[0m | \u001b[0m 50.44   \u001b[0m |\n",
      "=========================================================================\n"
     ]
    }
   ],
   "source": [
    "# Busqueda Bayesiana de hiperparámetros\n",
    "\n",
    "# Importing the necessary libraries\n",
    "from sklearn.ensemble import RandomForestClassifier\n",
    "\n",
    "# Defining the search space\n",
    "space_rf = {\"n_estimators\": (10, 100),\n",
    "         \"max_depth\": (2, 12),\n",
    "         \"min_samples_split\": (2, 10),\n",
    "         \"min_samples_leaf\": (1, 5)}\n",
    "\n",
    "# Defining the objective function\n",
    "def objective_rf(n_estimators, max_depth, min_samples_split, min_samples_leaf):\n",
    "    \n",
    "    \"\"\"\n",
    "    Objective function to minimize for the Bayesian optimizer\n",
    "        \n",
    "    Parameters\n",
    "    ==========\n",
    "    n_estimators, max_depth, min_samples_split, min_samples_leaf\n",
    "        \n",
    "    Return\n",
    "    ======\n",
    "        \n",
    "    loss : Cost value to minimize (in this case, binary_crossentropy)\n",
    "    \n",
    "    \"\"\"\n",
    "\n",
    "    n_estimators = round(n_estimators)\n",
    "    max_depth = round(max_depth)\n",
    "    min_samples_split = round(min_samples_split)\n",
    "    min_samples_leaf = round(min_samples_leaf)\n",
    "    \n",
    "    # Creating the model\n",
    "    model = RandomForestClassifier(random_state=1,\n",
    "                                   n_estimators=n_estimators,\n",
    "                                   max_depth=max_depth,\n",
    "                                   min_samples_split=min_samples_split,\n",
    "                                   min_samples_leaf=min_samples_leaf)\n",
    "    # Fit the model\n",
    "    model.fit(X_train_balanced, y_train_balanced)  # X_train_scaled, y_train\n",
    "        \n",
    "    # Evaluating the model\n",
    "    y_val_pred = model.predict(X_val)  # Aplicar mejor cross validation?\n",
    "\n",
    "    #accuracy = accuracy_score(y_test_val, y_test_val_pred)\n",
    "    #f1 = f1_score(y_test_val, y_test_val_pred) COMO HEMOS BALANCEADO, PODEMOS CENTRARNOS EN LA PRECISION\n",
    "    \n",
    "    precision = precision_score(y_val, y_val_pred)\n",
    "    \n",
    "        \n",
    "    return precision\n",
    "\n",
    "# Create the optimizer\n",
    "optimizer_rf = BayesianOptimization(\n",
    "    f=objective_rf,\n",
    "    pbounds=space_rf,\n",
    "    random_state=1,\n",
    ")\n",
    "    \n",
    "# Running the optimizer...\n",
    "optimizer_rf.maximize(\n",
    "    init_points=2,\n",
    "    n_iter=45,\n",
    ")\n",
    "    \n",
    "# Optimal parameter values\n",
    "params = optimizer_rf.max['params']\n"
   ]
  },
  {
   "cell_type": "code",
   "execution_count": 68,
   "id": "94f30a2c",
   "metadata": {},
   "outputs": [
    {
     "name": "stderr",
     "output_type": "stream",
     "text": [
      "/var/folders/n5/q17mp4yj0fg4l0nnzg4h71_c0000gn/T/ipykernel_43888/3618026555.py:9: DataConversionWarning:\n",
      "\n",
      "A column-vector y was passed when a 1d array was expected. Please change the shape of y to (n_samples,), for example using ravel().\n",
      "\n"
     ]
    },
    {
     "name": "stdout",
     "output_type": "stream",
     "text": [
      "0.8757322437407492\n"
     ]
    }
   ],
   "source": [
    "# Creating the model\n",
    "rf_model = RandomForestClassifier(random_state=1,\n",
    "                                  n_estimators=round(params[\"n_estimators\"]),\n",
    "                                  max_depth=round(params[\"max_depth\"]),\n",
    "                                  min_samples_split=round(params[\"min_samples_split\"]),\n",
    "                                  min_samples_leaf=round(params[\"min_samples_leaf\"]))\n",
    "\n",
    "# Fit the model\n",
    "rf_model.fit(X_train_balanced, y_train_balanced) # X_train_scaled, y_train\n",
    "        \n",
    "# Evaluating the model\n",
    "y_test_pred = rf_model.predict(X_test)\n",
    "\n",
    "accuracy = accuracy_score(y_test, y_test_pred)\n",
    "\n",
    "print(accuracy)"
   ]
  },
  {
   "cell_type": "code",
   "execution_count": 85,
   "id": "51487cd9",
   "metadata": {},
   "outputs": [
    {
     "data": {
      "text/plain": [
       "array([[40601,  3180],\n",
       "       [ 2781,  1407]])"
      ]
     },
     "execution_count": 85,
     "metadata": {},
     "output_type": "execute_result"
    }
   ],
   "source": [
    "conf_matrix = confusion_matrix(y_test, y_test_pred)\n",
    "conf_matrix"
   ]
  },
  {
   "cell_type": "code",
   "execution_count": 89,
   "id": "6abf3a52",
   "metadata": {
    "scrolled": false
   },
   "outputs": [
    {
     "name": "stdout",
     "output_type": "stream",
     "text": [
      "|   iter    |  target   |    eta    |   gamma   | learni... | max_depth | min_ch... |\n",
      "-------------------------------------------------------------------------------------\n",
      "| \u001b[0m 1       \u001b[0m | \u001b[0m 0.5317  \u001b[0m | \u001b[0m 0.436   \u001b[0m | \u001b[0m 0.2593  \u001b[0m | \u001b[0m 0.05542 \u001b[0m | \u001b[0m 6.353   \u001b[0m | \u001b[0m 2.102   \u001b[0m |\n",
      "| \u001b[95m 2       \u001b[0m | \u001b[95m 0.5602  \u001b[0m | \u001b[95m 0.3303  \u001b[0m | \u001b[95m 2.046   \u001b[0m | \u001b[95m 0.06231 \u001b[0m | \u001b[95m 4.997   \u001b[0m | \u001b[95m 1.334   \u001b[0m |\n",
      "| \u001b[95m 3       \u001b[0m | \u001b[95m 0.582   \u001b[0m | \u001b[95m 0.6991  \u001b[0m | \u001b[95m 7.352   \u001b[0m | \u001b[95m 0.03796 \u001b[0m | \u001b[95m 8.598   \u001b[0m | \u001b[95m 3.914   \u001b[0m |\n",
      "| \u001b[0m 4       \u001b[0m | \u001b[0m 0.4352  \u001b[0m | \u001b[0m 0.7174  \u001b[0m | \u001b[0m 0.1452  \u001b[0m | \u001b[0m 0.07908 \u001b[0m | \u001b[0m 11.22   \u001b[0m | \u001b[0m 1.154   \u001b[0m |\n",
      "| \u001b[0m 5       \u001b[0m | \u001b[0m 0.5779  \u001b[0m | \u001b[0m 0.4113  \u001b[0m | \u001b[0m 7.101   \u001b[0m | \u001b[0m 0.02156 \u001b[0m | \u001b[0m 3.921   \u001b[0m | \u001b[0m 4.317   \u001b[0m |\n",
      "| \u001b[95m 6       \u001b[0m | \u001b[95m 0.5823  \u001b[0m | \u001b[95m 0.0     \u001b[0m | \u001b[95m 10.0    \u001b[0m | \u001b[95m 0.1     \u001b[0m | \u001b[95m 5.88    \u001b[0m | \u001b[95m 0.0     \u001b[0m |\n",
      "| \u001b[95m 7       \u001b[0m | \u001b[95m 0.5837  \u001b[0m | \u001b[95m 0.0     \u001b[0m | \u001b[95m 10.0    \u001b[0m | \u001b[95m 0.001   \u001b[0m | \u001b[95m 12.0    \u001b[0m | \u001b[95m 0.0     \u001b[0m |\n",
      "| \u001b[0m 8       \u001b[0m | \u001b[0m 0.5777  \u001b[0m | \u001b[0m 0.0     \u001b[0m | \u001b[0m 10.0    \u001b[0m | \u001b[0m 0.1     \u001b[0m | \u001b[0m 12.0    \u001b[0m | \u001b[0m 5.0     \u001b[0m |\n"
     ]
    },
    {
     "name": "stderr",
     "output_type": "stream",
     "text": [
      "/Users/alfonsoserrano-suner/opt/anaconda3/lib/python3.9/site-packages/sklearn/metrics/_classification.py:1334: UndefinedMetricWarning:\n",
      "\n",
      "Precision is ill-defined and being set to 0.0 due to no predicted samples. Use `zero_division` parameter to control this behavior.\n",
      "\n"
     ]
    },
    {
     "name": "stdout",
     "output_type": "stream",
     "text": [
      "| \u001b[0m 9       \u001b[0m | \u001b[0m 0.0     \u001b[0m | \u001b[0m 5.551e-1\u001b[0m | \u001b[0m 0.0     \u001b[0m | \u001b[0m 0.001   \u001b[0m | \u001b[0m 2.0     \u001b[0m | \u001b[0m 5.0     \u001b[0m |\n",
      "| \u001b[0m 10      \u001b[0m | \u001b[0m 0.5408  \u001b[0m | \u001b[0m 0.0     \u001b[0m | \u001b[0m 5.437   \u001b[0m | \u001b[0m 0.1     \u001b[0m | \u001b[0m 7.549   \u001b[0m | \u001b[0m 0.0     \u001b[0m |\n"
     ]
    },
    {
     "name": "stderr",
     "output_type": "stream",
     "text": [
      "/Users/alfonsoserrano-suner/opt/anaconda3/lib/python3.9/site-packages/sklearn/metrics/_classification.py:1334: UndefinedMetricWarning:\n",
      "\n",
      "Precision is ill-defined and being set to 0.0 due to no predicted samples. Use `zero_division` parameter to control this behavior.\n",
      "\n"
     ]
    },
    {
     "name": "stdout",
     "output_type": "stream",
     "text": [
      "| \u001b[0m 11      \u001b[0m | \u001b[0m 0.0     \u001b[0m | \u001b[0m 1.0     \u001b[0m | \u001b[0m 7.648   \u001b[0m | \u001b[0m 0.001   \u001b[0m | \u001b[0m 2.0     \u001b[0m | \u001b[0m 0.0     \u001b[0m |\n",
      "| \u001b[0m 12      \u001b[0m | \u001b[0m 0.5836  \u001b[0m | \u001b[0m 0.08652 \u001b[0m | \u001b[0m 9.073   \u001b[0m | \u001b[0m 0.06416 \u001b[0m | \u001b[0m 8.828   \u001b[0m | \u001b[0m 1.259   \u001b[0m |\n",
      "| \u001b[0m 13      \u001b[0m | \u001b[0m 0.5764  \u001b[0m | \u001b[0m 0.0     \u001b[0m | \u001b[0m 10.0    \u001b[0m | \u001b[0m 0.1     \u001b[0m | \u001b[0m 6.314   \u001b[0m | \u001b[0m 5.0     \u001b[0m |\n",
      "| \u001b[0m 14      \u001b[0m | \u001b[0m 0.5445  \u001b[0m | \u001b[0m 0.0     \u001b[0m | \u001b[0m 6.059   \u001b[0m | \u001b[0m 0.1     \u001b[0m | \u001b[0m 12.0    \u001b[0m | \u001b[0m 2.097   \u001b[0m |\n",
      "| \u001b[0m 15      \u001b[0m | \u001b[0m 0.5494  \u001b[0m | \u001b[0m 0.0     \u001b[0m | \u001b[0m 3.757   \u001b[0m | \u001b[0m 0.1     \u001b[0m | \u001b[0m 7.866   \u001b[0m | \u001b[0m 5.0     \u001b[0m |\n",
      "| \u001b[0m 16      \u001b[0m | \u001b[0m 0.5166  \u001b[0m | \u001b[0m 1.0     \u001b[0m | \u001b[0m 3.409   \u001b[0m | \u001b[0m 0.1     \u001b[0m | \u001b[0m 12.0    \u001b[0m | \u001b[0m 5.0     \u001b[0m |\n",
      "| \u001b[0m 17      \u001b[0m | \u001b[0m 0.5689  \u001b[0m | \u001b[0m 0.0     \u001b[0m | \u001b[0m 1.888   \u001b[0m | \u001b[0m 0.001   \u001b[0m | \u001b[0m 7.738   \u001b[0m | \u001b[0m 0.0     \u001b[0m |\n",
      "| \u001b[95m 18      \u001b[0m | \u001b[95m 0.5907  \u001b[0m | \u001b[95m 0.1135  \u001b[0m | \u001b[95m 9.906   \u001b[0m | \u001b[95m 0.05275 \u001b[0m | \u001b[95m 2.851   \u001b[0m | \u001b[95m 4.92    \u001b[0m |\n",
      "| \u001b[0m 19      \u001b[0m | \u001b[0m 0.5385  \u001b[0m | \u001b[0m 1.0     \u001b[0m | \u001b[0m 0.0     \u001b[0m | \u001b[0m 0.001   \u001b[0m | \u001b[0m 9.681   \u001b[0m | \u001b[0m 5.0     \u001b[0m |\n",
      "| \u001b[0m 20      \u001b[0m | \u001b[0m 0.5837  \u001b[0m | \u001b[0m 1.0     \u001b[0m | \u001b[0m 10.0    \u001b[0m | \u001b[0m 0.001   \u001b[0m | \u001b[0m 12.0    \u001b[0m | \u001b[0m 2.5     \u001b[0m |\n",
      "| \u001b[0m 21      \u001b[0m | \u001b[0m 0.5872  \u001b[0m | \u001b[0m 1.0     \u001b[0m | \u001b[0m 3.572   \u001b[0m | \u001b[0m 0.001   \u001b[0m | \u001b[0m 7.501   \u001b[0m | \u001b[0m 2.307   \u001b[0m |\n",
      "| \u001b[0m 22      \u001b[0m | \u001b[0m 0.5739  \u001b[0m | \u001b[0m 1.0     \u001b[0m | \u001b[0m 6.5     \u001b[0m | \u001b[0m 0.1     \u001b[0m | \u001b[0m 6.113   \u001b[0m | \u001b[0m 5.0     \u001b[0m |\n",
      "=====================================================================================\n"
     ]
    }
   ],
   "source": [
    "# Por último, xgboost para datos sin balancear\n",
    "\n",
    "# Defining the search space\n",
    "space_xgb_unbalanced = {\"eta\": (0, 1),\n",
    "                        \"gamma\":(0, 10), \n",
    "                        \"max_depth\":(2, 12),\n",
    "                        \"min_child_weight\": (0, 5),\n",
    "                        \"learning_rate\": (0.001, 0.1)}\n",
    "\n",
    "# Defining the objective function\n",
    "def objective_xgb_unbalanced(eta, gamma, max_depth, min_child_weight, learning_rate):\n",
    "    \n",
    "    \"\"\"\n",
    "    Objective function to minimize for the Bayesian optimizer\n",
    "        \n",
    "    Parameters\n",
    "    ==========\n",
    "    eta, gamma, max_depth, min_child_weight\n",
    "        \n",
    "    Return\n",
    "    ======\n",
    "        \n",
    "    loss : Cost value to minimize (in this case, binary_crossentropy)\n",
    "    \n",
    "    \"\"\"\n",
    "        \n",
    "    max_depth = round(max_depth)\n",
    "    min_child_weight = round(min_child_weight)\n",
    "    \n",
    "    \n",
    "    # Creating the model\n",
    "    model = xgb.XGBClassifier(random_state=1, \n",
    "                              learning_rate=learning_rate, \n",
    "                              n_estimators=500,\n",
    "                              eta=eta,\n",
    "                              gamma=gamma,\n",
    "                              max_depth=max_depth,\n",
    "                              min_child_weight=min_child_weight)\n",
    "    # Fit the model\n",
    "    model.fit(X_train_scaled, y_train)  # X_train_balanced, y_train_balanced\n",
    "        \n",
    "    # Evaluating the model\n",
    "    y_val_pred = model.predict(X_val)  # Aplicar mejor cross validation?\n",
    "\n",
    "    #accuracy = accuracy_score(y_test_val, y_test_val_pred)\n",
    "    #f1 = f1_score(y_test_val, y_test_val_pred) COMO HEMOS BALANCEADO, PODEMOS CENTRARNOS EN LA PRECISION\n",
    "    \n",
    "    precision = precision_score(y_val, y_val_pred)\n",
    "    \n",
    "        \n",
    "    return precision\n",
    "\n",
    "# Create the optimizer\n",
    "optimizer_xgb_unbalanced = BayesianOptimization(\n",
    "    f=objective_xgb_unbalanced,\n",
    "    pbounds=space_xgb_unbalanced,\n",
    "    random_state=2,\n",
    ")\n",
    "    \n",
    "# Running the optimizer...\n",
    "optimizer_xgb_unbalanced.maximize(\n",
    "    init_points=2,\n",
    "    n_iter=20,\n",
    ")\n",
    "    \n",
    "# Optimal parameter values\n",
    "params = optimizer_xgb_unbalanced.max['params']"
   ]
  },
  {
   "cell_type": "code",
   "execution_count": 91,
   "id": "66095dfc",
   "metadata": {},
   "outputs": [
    {
     "name": "stdout",
     "output_type": "stream",
     "text": [
      "0.914444745564844\n"
     ]
    }
   ],
   "source": [
    "# Creating the model\n",
    "unbalanced_xgb_model = xgb.XGBClassifier(use_label_encoder=False, \n",
    "                              random_state=1, \n",
    "                              learning_rate=params['learning_rate'], \n",
    "                              n_estimators=600,\n",
    "                              eta=params['eta'],\n",
    "                              gamma=params['gamma'],\n",
    "                              max_depth=round(params['max_depth']),\n",
    "                              min_child_weight=round(params['min_child_weight']))\n",
    "\n",
    "# Fit the model\n",
    "unbalanced_xgb_model.fit(X_train_scaled, y_train)  # X_train_balanced, y_train_balanced\n",
    "        \n",
    "# Evaluating the model\n",
    "y_test_pred = unbalanced_xgb_model.predict(X_test)\n",
    "\n",
    "accuracy = accuracy_score(y_test, y_test_pred)\n",
    "\n",
    "print(accuracy)"
   ]
  },
  {
   "cell_type": "code",
   "execution_count": 92,
   "id": "7b2a8077",
   "metadata": {},
   "outputs": [
    {
     "data": {
      "text/plain": [
       "array([[43578,   203],\n",
       "       [ 3901,   287]])"
      ]
     },
     "execution_count": 92,
     "metadata": {},
     "output_type": "execute_result"
    }
   ],
   "source": [
    "conf_matrix = confusion_matrix(y_test, y_test_pred)\n",
    "conf_matrix"
   ]
  },
  {
   "cell_type": "code",
   "execution_count": 93,
   "id": "0c23b9a0",
   "metadata": {},
   "outputs": [
    {
     "data": {
      "application/vnd.plotly.v1+json": {
       "config": {
        "plotlyServerURL": "https://plot.ly"
       },
       "data": [
        {
         "colorscale": [
          [
           0,
           "#440154"
          ],
          [
           0.1111111111111111,
           "#482878"
          ],
          [
           0.2222222222222222,
           "#3e4989"
          ],
          [
           0.3333333333333333,
           "#31688e"
          ],
          [
           0.4444444444444444,
           "#26828e"
          ],
          [
           0.5555555555555556,
           "#1f9e89"
          ],
          [
           0.6666666666666666,
           "#35b779"
          ],
          [
           0.7777777777777778,
           "#6ece58"
          ],
          [
           0.8888888888888888,
           "#b5de2b"
          ],
          [
           1,
           "#fde725"
          ]
         ],
         "type": "heatmap",
         "x": [
          "Predicted 0",
          "Predicted 1"
         ],
         "y": [
          "Actual 0",
          "Actual 1"
         ],
         "z": [
          [
           43578,
           203
          ],
          [
           3901,
           287
          ]
         ],
         "zmax": 43578,
         "zmin": 0
        }
       ],
       "layout": {
        "annotations": [
         {
          "font": {
           "color": "white"
          },
          "showarrow": false,
          "text": "43578",
          "x": 0,
          "y": 0
         },
         {
          "font": {
           "color": "white"
          },
          "showarrow": false,
          "text": "203",
          "x": 1,
          "y": 0
         },
         {
          "font": {
           "color": "white"
          },
          "showarrow": false,
          "text": "3901",
          "x": 0,
          "y": 1
         },
         {
          "font": {
           "color": "white"
          },
          "showarrow": false,
          "text": "287",
          "x": 1,
          "y": 1
         }
        ],
        "template": {
         "data": {
          "bar": [
           {
            "error_x": {
             "color": "#2a3f5f"
            },
            "error_y": {
             "color": "#2a3f5f"
            },
            "marker": {
             "line": {
              "color": "#E5ECF6",
              "width": 0.5
             },
             "pattern": {
              "fillmode": "overlay",
              "size": 10,
              "solidity": 0.2
             }
            },
            "type": "bar"
           }
          ],
          "barpolar": [
           {
            "marker": {
             "line": {
              "color": "#E5ECF6",
              "width": 0.5
             },
             "pattern": {
              "fillmode": "overlay",
              "size": 10,
              "solidity": 0.2
             }
            },
            "type": "barpolar"
           }
          ],
          "carpet": [
           {
            "aaxis": {
             "endlinecolor": "#2a3f5f",
             "gridcolor": "white",
             "linecolor": "white",
             "minorgridcolor": "white",
             "startlinecolor": "#2a3f5f"
            },
            "baxis": {
             "endlinecolor": "#2a3f5f",
             "gridcolor": "white",
             "linecolor": "white",
             "minorgridcolor": "white",
             "startlinecolor": "#2a3f5f"
            },
            "type": "carpet"
           }
          ],
          "choropleth": [
           {
            "colorbar": {
             "outlinewidth": 0,
             "ticks": ""
            },
            "type": "choropleth"
           }
          ],
          "contour": [
           {
            "colorbar": {
             "outlinewidth": 0,
             "ticks": ""
            },
            "colorscale": [
             [
              0,
              "#0d0887"
             ],
             [
              0.1111111111111111,
              "#46039f"
             ],
             [
              0.2222222222222222,
              "#7201a8"
             ],
             [
              0.3333333333333333,
              "#9c179e"
             ],
             [
              0.4444444444444444,
              "#bd3786"
             ],
             [
              0.5555555555555556,
              "#d8576b"
             ],
             [
              0.6666666666666666,
              "#ed7953"
             ],
             [
              0.7777777777777778,
              "#fb9f3a"
             ],
             [
              0.8888888888888888,
              "#fdca26"
             ],
             [
              1,
              "#f0f921"
             ]
            ],
            "type": "contour"
           }
          ],
          "contourcarpet": [
           {
            "colorbar": {
             "outlinewidth": 0,
             "ticks": ""
            },
            "type": "contourcarpet"
           }
          ],
          "heatmap": [
           {
            "colorbar": {
             "outlinewidth": 0,
             "ticks": ""
            },
            "colorscale": [
             [
              0,
              "#0d0887"
             ],
             [
              0.1111111111111111,
              "#46039f"
             ],
             [
              0.2222222222222222,
              "#7201a8"
             ],
             [
              0.3333333333333333,
              "#9c179e"
             ],
             [
              0.4444444444444444,
              "#bd3786"
             ],
             [
              0.5555555555555556,
              "#d8576b"
             ],
             [
              0.6666666666666666,
              "#ed7953"
             ],
             [
              0.7777777777777778,
              "#fb9f3a"
             ],
             [
              0.8888888888888888,
              "#fdca26"
             ],
             [
              1,
              "#f0f921"
             ]
            ],
            "type": "heatmap"
           }
          ],
          "heatmapgl": [
           {
            "colorbar": {
             "outlinewidth": 0,
             "ticks": ""
            },
            "colorscale": [
             [
              0,
              "#0d0887"
             ],
             [
              0.1111111111111111,
              "#46039f"
             ],
             [
              0.2222222222222222,
              "#7201a8"
             ],
             [
              0.3333333333333333,
              "#9c179e"
             ],
             [
              0.4444444444444444,
              "#bd3786"
             ],
             [
              0.5555555555555556,
              "#d8576b"
             ],
             [
              0.6666666666666666,
              "#ed7953"
             ],
             [
              0.7777777777777778,
              "#fb9f3a"
             ],
             [
              0.8888888888888888,
              "#fdca26"
             ],
             [
              1,
              "#f0f921"
             ]
            ],
            "type": "heatmapgl"
           }
          ],
          "histogram": [
           {
            "marker": {
             "pattern": {
              "fillmode": "overlay",
              "size": 10,
              "solidity": 0.2
             }
            },
            "type": "histogram"
           }
          ],
          "histogram2d": [
           {
            "colorbar": {
             "outlinewidth": 0,
             "ticks": ""
            },
            "colorscale": [
             [
              0,
              "#0d0887"
             ],
             [
              0.1111111111111111,
              "#46039f"
             ],
             [
              0.2222222222222222,
              "#7201a8"
             ],
             [
              0.3333333333333333,
              "#9c179e"
             ],
             [
              0.4444444444444444,
              "#bd3786"
             ],
             [
              0.5555555555555556,
              "#d8576b"
             ],
             [
              0.6666666666666666,
              "#ed7953"
             ],
             [
              0.7777777777777778,
              "#fb9f3a"
             ],
             [
              0.8888888888888888,
              "#fdca26"
             ],
             [
              1,
              "#f0f921"
             ]
            ],
            "type": "histogram2d"
           }
          ],
          "histogram2dcontour": [
           {
            "colorbar": {
             "outlinewidth": 0,
             "ticks": ""
            },
            "colorscale": [
             [
              0,
              "#0d0887"
             ],
             [
              0.1111111111111111,
              "#46039f"
             ],
             [
              0.2222222222222222,
              "#7201a8"
             ],
             [
              0.3333333333333333,
              "#9c179e"
             ],
             [
              0.4444444444444444,
              "#bd3786"
             ],
             [
              0.5555555555555556,
              "#d8576b"
             ],
             [
              0.6666666666666666,
              "#ed7953"
             ],
             [
              0.7777777777777778,
              "#fb9f3a"
             ],
             [
              0.8888888888888888,
              "#fdca26"
             ],
             [
              1,
              "#f0f921"
             ]
            ],
            "type": "histogram2dcontour"
           }
          ],
          "mesh3d": [
           {
            "colorbar": {
             "outlinewidth": 0,
             "ticks": ""
            },
            "type": "mesh3d"
           }
          ],
          "parcoords": [
           {
            "line": {
             "colorbar": {
              "outlinewidth": 0,
              "ticks": ""
             }
            },
            "type": "parcoords"
           }
          ],
          "pie": [
           {
            "automargin": true,
            "type": "pie"
           }
          ],
          "scatter": [
           {
            "fillpattern": {
             "fillmode": "overlay",
             "size": 10,
             "solidity": 0.2
            },
            "type": "scatter"
           }
          ],
          "scatter3d": [
           {
            "line": {
             "colorbar": {
              "outlinewidth": 0,
              "ticks": ""
             }
            },
            "marker": {
             "colorbar": {
              "outlinewidth": 0,
              "ticks": ""
             }
            },
            "type": "scatter3d"
           }
          ],
          "scattercarpet": [
           {
            "marker": {
             "colorbar": {
              "outlinewidth": 0,
              "ticks": ""
             }
            },
            "type": "scattercarpet"
           }
          ],
          "scattergeo": [
           {
            "marker": {
             "colorbar": {
              "outlinewidth": 0,
              "ticks": ""
             }
            },
            "type": "scattergeo"
           }
          ],
          "scattergl": [
           {
            "marker": {
             "colorbar": {
              "outlinewidth": 0,
              "ticks": ""
             }
            },
            "type": "scattergl"
           }
          ],
          "scattermapbox": [
           {
            "marker": {
             "colorbar": {
              "outlinewidth": 0,
              "ticks": ""
             }
            },
            "type": "scattermapbox"
           }
          ],
          "scatterpolar": [
           {
            "marker": {
             "colorbar": {
              "outlinewidth": 0,
              "ticks": ""
             }
            },
            "type": "scatterpolar"
           }
          ],
          "scatterpolargl": [
           {
            "marker": {
             "colorbar": {
              "outlinewidth": 0,
              "ticks": ""
             }
            },
            "type": "scatterpolargl"
           }
          ],
          "scatterternary": [
           {
            "marker": {
             "colorbar": {
              "outlinewidth": 0,
              "ticks": ""
             }
            },
            "type": "scatterternary"
           }
          ],
          "surface": [
           {
            "colorbar": {
             "outlinewidth": 0,
             "ticks": ""
            },
            "colorscale": [
             [
              0,
              "#0d0887"
             ],
             [
              0.1111111111111111,
              "#46039f"
             ],
             [
              0.2222222222222222,
              "#7201a8"
             ],
             [
              0.3333333333333333,
              "#9c179e"
             ],
             [
              0.4444444444444444,
              "#bd3786"
             ],
             [
              0.5555555555555556,
              "#d8576b"
             ],
             [
              0.6666666666666666,
              "#ed7953"
             ],
             [
              0.7777777777777778,
              "#fb9f3a"
             ],
             [
              0.8888888888888888,
              "#fdca26"
             ],
             [
              1,
              "#f0f921"
             ]
            ],
            "type": "surface"
           }
          ],
          "table": [
           {
            "cells": {
             "fill": {
              "color": "#EBF0F8"
             },
             "line": {
              "color": "white"
             }
            },
            "header": {
             "fill": {
              "color": "#C8D4E3"
             },
             "line": {
              "color": "white"
             }
            },
            "type": "table"
           }
          ]
         },
         "layout": {
          "annotationdefaults": {
           "arrowcolor": "#2a3f5f",
           "arrowhead": 0,
           "arrowwidth": 1
          },
          "autotypenumbers": "strict",
          "coloraxis": {
           "colorbar": {
            "outlinewidth": 0,
            "ticks": ""
           }
          },
          "colorscale": {
           "diverging": [
            [
             0,
             "#8e0152"
            ],
            [
             0.1,
             "#c51b7d"
            ],
            [
             0.2,
             "#de77ae"
            ],
            [
             0.3,
             "#f1b6da"
            ],
            [
             0.4,
             "#fde0ef"
            ],
            [
             0.5,
             "#f7f7f7"
            ],
            [
             0.6,
             "#e6f5d0"
            ],
            [
             0.7,
             "#b8e186"
            ],
            [
             0.8,
             "#7fbc41"
            ],
            [
             0.9,
             "#4d9221"
            ],
            [
             1,
             "#276419"
            ]
           ],
           "sequential": [
            [
             0,
             "#0d0887"
            ],
            [
             0.1111111111111111,
             "#46039f"
            ],
            [
             0.2222222222222222,
             "#7201a8"
            ],
            [
             0.3333333333333333,
             "#9c179e"
            ],
            [
             0.4444444444444444,
             "#bd3786"
            ],
            [
             0.5555555555555556,
             "#d8576b"
            ],
            [
             0.6666666666666666,
             "#ed7953"
            ],
            [
             0.7777777777777778,
             "#fb9f3a"
            ],
            [
             0.8888888888888888,
             "#fdca26"
            ],
            [
             1,
             "#f0f921"
            ]
           ],
           "sequentialminus": [
            [
             0,
             "#0d0887"
            ],
            [
             0.1111111111111111,
             "#46039f"
            ],
            [
             0.2222222222222222,
             "#7201a8"
            ],
            [
             0.3333333333333333,
             "#9c179e"
            ],
            [
             0.4444444444444444,
             "#bd3786"
            ],
            [
             0.5555555555555556,
             "#d8576b"
            ],
            [
             0.6666666666666666,
             "#ed7953"
            ],
            [
             0.7777777777777778,
             "#fb9f3a"
            ],
            [
             0.8888888888888888,
             "#fdca26"
            ],
            [
             1,
             "#f0f921"
            ]
           ]
          },
          "colorway": [
           "#636efa",
           "#EF553B",
           "#00cc96",
           "#ab63fa",
           "#FFA15A",
           "#19d3f3",
           "#FF6692",
           "#B6E880",
           "#FF97FF",
           "#FECB52"
          ],
          "font": {
           "color": "#2a3f5f"
          },
          "geo": {
           "bgcolor": "white",
           "lakecolor": "white",
           "landcolor": "#E5ECF6",
           "showlakes": true,
           "showland": true,
           "subunitcolor": "white"
          },
          "hoverlabel": {
           "align": "left"
          },
          "hovermode": "closest",
          "mapbox": {
           "style": "light"
          },
          "paper_bgcolor": "white",
          "plot_bgcolor": "#E5ECF6",
          "polar": {
           "angularaxis": {
            "gridcolor": "white",
            "linecolor": "white",
            "ticks": ""
           },
           "bgcolor": "#E5ECF6",
           "radialaxis": {
            "gridcolor": "white",
            "linecolor": "white",
            "ticks": ""
           }
          },
          "scene": {
           "xaxis": {
            "backgroundcolor": "#E5ECF6",
            "gridcolor": "white",
            "gridwidth": 2,
            "linecolor": "white",
            "showbackground": true,
            "ticks": "",
            "zerolinecolor": "white"
           },
           "yaxis": {
            "backgroundcolor": "#E5ECF6",
            "gridcolor": "white",
            "gridwidth": 2,
            "linecolor": "white",
            "showbackground": true,
            "ticks": "",
            "zerolinecolor": "white"
           },
           "zaxis": {
            "backgroundcolor": "#E5ECF6",
            "gridcolor": "white",
            "gridwidth": 2,
            "linecolor": "white",
            "showbackground": true,
            "ticks": "",
            "zerolinecolor": "white"
           }
          },
          "shapedefaults": {
           "line": {
            "color": "#2a3f5f"
           }
          },
          "ternary": {
           "aaxis": {
            "gridcolor": "white",
            "linecolor": "white",
            "ticks": ""
           },
           "baxis": {
            "gridcolor": "white",
            "linecolor": "white",
            "ticks": ""
           },
           "bgcolor": "#E5ECF6",
           "caxis": {
            "gridcolor": "white",
            "linecolor": "white",
            "ticks": ""
           }
          },
          "title": {
           "x": 0.05
          },
          "xaxis": {
           "automargin": true,
           "gridcolor": "white",
           "linecolor": "white",
           "ticks": "",
           "title": {
            "standoff": 15
           },
           "zerolinecolor": "white",
           "zerolinewidth": 2
          },
          "yaxis": {
           "automargin": true,
           "gridcolor": "white",
           "linecolor": "white",
           "ticks": "",
           "title": {
            "standoff": 15
           },
           "zerolinecolor": "white",
           "zerolinewidth": 2
          }
         }
        }
       }
      },
      "text/html": [
       "<div>                            <div id=\"5ae602f6-03c1-425d-9afc-1c7726ac81f8\" class=\"plotly-graph-div\" style=\"height:525px; width:100%;\"></div>            <script type=\"text/javascript\">                require([\"plotly\"], function(Plotly) {                    window.PLOTLYENV=window.PLOTLYENV || {};                                    if (document.getElementById(\"5ae602f6-03c1-425d-9afc-1c7726ac81f8\")) {                    Plotly.newPlot(                        \"5ae602f6-03c1-425d-9afc-1c7726ac81f8\",                        [{\"colorscale\":[[0.0,\"#440154\"],[0.1111111111111111,\"#482878\"],[0.2222222222222222,\"#3e4989\"],[0.3333333333333333,\"#31688e\"],[0.4444444444444444,\"#26828e\"],[0.5555555555555556,\"#1f9e89\"],[0.6666666666666666,\"#35b779\"],[0.7777777777777778,\"#6ece58\"],[0.8888888888888888,\"#b5de2b\"],[1.0,\"#fde725\"]],\"x\":[\"Predicted 0\",\"Predicted 1\"],\"y\":[\"Actual 0\",\"Actual 1\"],\"z\":[[43578,203],[3901,287]],\"zmax\":43578,\"zmin\":0,\"type\":\"heatmap\"}],                        {\"template\":{\"data\":{\"histogram2dcontour\":[{\"type\":\"histogram2dcontour\",\"colorbar\":{\"outlinewidth\":0,\"ticks\":\"\"},\"colorscale\":[[0.0,\"#0d0887\"],[0.1111111111111111,\"#46039f\"],[0.2222222222222222,\"#7201a8\"],[0.3333333333333333,\"#9c179e\"],[0.4444444444444444,\"#bd3786\"],[0.5555555555555556,\"#d8576b\"],[0.6666666666666666,\"#ed7953\"],[0.7777777777777778,\"#fb9f3a\"],[0.8888888888888888,\"#fdca26\"],[1.0,\"#f0f921\"]]}],\"choropleth\":[{\"type\":\"choropleth\",\"colorbar\":{\"outlinewidth\":0,\"ticks\":\"\"}}],\"histogram2d\":[{\"type\":\"histogram2d\",\"colorbar\":{\"outlinewidth\":0,\"ticks\":\"\"},\"colorscale\":[[0.0,\"#0d0887\"],[0.1111111111111111,\"#46039f\"],[0.2222222222222222,\"#7201a8\"],[0.3333333333333333,\"#9c179e\"],[0.4444444444444444,\"#bd3786\"],[0.5555555555555556,\"#d8576b\"],[0.6666666666666666,\"#ed7953\"],[0.7777777777777778,\"#fb9f3a\"],[0.8888888888888888,\"#fdca26\"],[1.0,\"#f0f921\"]]}],\"heatmap\":[{\"type\":\"heatmap\",\"colorbar\":{\"outlinewidth\":0,\"ticks\":\"\"},\"colorscale\":[[0.0,\"#0d0887\"],[0.1111111111111111,\"#46039f\"],[0.2222222222222222,\"#7201a8\"],[0.3333333333333333,\"#9c179e\"],[0.4444444444444444,\"#bd3786\"],[0.5555555555555556,\"#d8576b\"],[0.6666666666666666,\"#ed7953\"],[0.7777777777777778,\"#fb9f3a\"],[0.8888888888888888,\"#fdca26\"],[1.0,\"#f0f921\"]]}],\"heatmapgl\":[{\"type\":\"heatmapgl\",\"colorbar\":{\"outlinewidth\":0,\"ticks\":\"\"},\"colorscale\":[[0.0,\"#0d0887\"],[0.1111111111111111,\"#46039f\"],[0.2222222222222222,\"#7201a8\"],[0.3333333333333333,\"#9c179e\"],[0.4444444444444444,\"#bd3786\"],[0.5555555555555556,\"#d8576b\"],[0.6666666666666666,\"#ed7953\"],[0.7777777777777778,\"#fb9f3a\"],[0.8888888888888888,\"#fdca26\"],[1.0,\"#f0f921\"]]}],\"contourcarpet\":[{\"type\":\"contourcarpet\",\"colorbar\":{\"outlinewidth\":0,\"ticks\":\"\"}}],\"contour\":[{\"type\":\"contour\",\"colorbar\":{\"outlinewidth\":0,\"ticks\":\"\"},\"colorscale\":[[0.0,\"#0d0887\"],[0.1111111111111111,\"#46039f\"],[0.2222222222222222,\"#7201a8\"],[0.3333333333333333,\"#9c179e\"],[0.4444444444444444,\"#bd3786\"],[0.5555555555555556,\"#d8576b\"],[0.6666666666666666,\"#ed7953\"],[0.7777777777777778,\"#fb9f3a\"],[0.8888888888888888,\"#fdca26\"],[1.0,\"#f0f921\"]]}],\"surface\":[{\"type\":\"surface\",\"colorbar\":{\"outlinewidth\":0,\"ticks\":\"\"},\"colorscale\":[[0.0,\"#0d0887\"],[0.1111111111111111,\"#46039f\"],[0.2222222222222222,\"#7201a8\"],[0.3333333333333333,\"#9c179e\"],[0.4444444444444444,\"#bd3786\"],[0.5555555555555556,\"#d8576b\"],[0.6666666666666666,\"#ed7953\"],[0.7777777777777778,\"#fb9f3a\"],[0.8888888888888888,\"#fdca26\"],[1.0,\"#f0f921\"]]}],\"mesh3d\":[{\"type\":\"mesh3d\",\"colorbar\":{\"outlinewidth\":0,\"ticks\":\"\"}}],\"scatter\":[{\"fillpattern\":{\"fillmode\":\"overlay\",\"size\":10,\"solidity\":0.2},\"type\":\"scatter\"}],\"parcoords\":[{\"type\":\"parcoords\",\"line\":{\"colorbar\":{\"outlinewidth\":0,\"ticks\":\"\"}}}],\"scatterpolargl\":[{\"type\":\"scatterpolargl\",\"marker\":{\"colorbar\":{\"outlinewidth\":0,\"ticks\":\"\"}}}],\"bar\":[{\"error_x\":{\"color\":\"#2a3f5f\"},\"error_y\":{\"color\":\"#2a3f5f\"},\"marker\":{\"line\":{\"color\":\"#E5ECF6\",\"width\":0.5},\"pattern\":{\"fillmode\":\"overlay\",\"size\":10,\"solidity\":0.2}},\"type\":\"bar\"}],\"scattergeo\":[{\"type\":\"scattergeo\",\"marker\":{\"colorbar\":{\"outlinewidth\":0,\"ticks\":\"\"}}}],\"scatterpolar\":[{\"type\":\"scatterpolar\",\"marker\":{\"colorbar\":{\"outlinewidth\":0,\"ticks\":\"\"}}}],\"histogram\":[{\"marker\":{\"pattern\":{\"fillmode\":\"overlay\",\"size\":10,\"solidity\":0.2}},\"type\":\"histogram\"}],\"scattergl\":[{\"type\":\"scattergl\",\"marker\":{\"colorbar\":{\"outlinewidth\":0,\"ticks\":\"\"}}}],\"scatter3d\":[{\"type\":\"scatter3d\",\"line\":{\"colorbar\":{\"outlinewidth\":0,\"ticks\":\"\"}},\"marker\":{\"colorbar\":{\"outlinewidth\":0,\"ticks\":\"\"}}}],\"scattermapbox\":[{\"type\":\"scattermapbox\",\"marker\":{\"colorbar\":{\"outlinewidth\":0,\"ticks\":\"\"}}}],\"scatterternary\":[{\"type\":\"scatterternary\",\"marker\":{\"colorbar\":{\"outlinewidth\":0,\"ticks\":\"\"}}}],\"scattercarpet\":[{\"type\":\"scattercarpet\",\"marker\":{\"colorbar\":{\"outlinewidth\":0,\"ticks\":\"\"}}}],\"carpet\":[{\"aaxis\":{\"endlinecolor\":\"#2a3f5f\",\"gridcolor\":\"white\",\"linecolor\":\"white\",\"minorgridcolor\":\"white\",\"startlinecolor\":\"#2a3f5f\"},\"baxis\":{\"endlinecolor\":\"#2a3f5f\",\"gridcolor\":\"white\",\"linecolor\":\"white\",\"minorgridcolor\":\"white\",\"startlinecolor\":\"#2a3f5f\"},\"type\":\"carpet\"}],\"table\":[{\"cells\":{\"fill\":{\"color\":\"#EBF0F8\"},\"line\":{\"color\":\"white\"}},\"header\":{\"fill\":{\"color\":\"#C8D4E3\"},\"line\":{\"color\":\"white\"}},\"type\":\"table\"}],\"barpolar\":[{\"marker\":{\"line\":{\"color\":\"#E5ECF6\",\"width\":0.5},\"pattern\":{\"fillmode\":\"overlay\",\"size\":10,\"solidity\":0.2}},\"type\":\"barpolar\"}],\"pie\":[{\"automargin\":true,\"type\":\"pie\"}]},\"layout\":{\"autotypenumbers\":\"strict\",\"colorway\":[\"#636efa\",\"#EF553B\",\"#00cc96\",\"#ab63fa\",\"#FFA15A\",\"#19d3f3\",\"#FF6692\",\"#B6E880\",\"#FF97FF\",\"#FECB52\"],\"font\":{\"color\":\"#2a3f5f\"},\"hovermode\":\"closest\",\"hoverlabel\":{\"align\":\"left\"},\"paper_bgcolor\":\"white\",\"plot_bgcolor\":\"#E5ECF6\",\"polar\":{\"bgcolor\":\"#E5ECF6\",\"angularaxis\":{\"gridcolor\":\"white\",\"linecolor\":\"white\",\"ticks\":\"\"},\"radialaxis\":{\"gridcolor\":\"white\",\"linecolor\":\"white\",\"ticks\":\"\"}},\"ternary\":{\"bgcolor\":\"#E5ECF6\",\"aaxis\":{\"gridcolor\":\"white\",\"linecolor\":\"white\",\"ticks\":\"\"},\"baxis\":{\"gridcolor\":\"white\",\"linecolor\":\"white\",\"ticks\":\"\"},\"caxis\":{\"gridcolor\":\"white\",\"linecolor\":\"white\",\"ticks\":\"\"}},\"coloraxis\":{\"colorbar\":{\"outlinewidth\":0,\"ticks\":\"\"}},\"colorscale\":{\"sequential\":[[0.0,\"#0d0887\"],[0.1111111111111111,\"#46039f\"],[0.2222222222222222,\"#7201a8\"],[0.3333333333333333,\"#9c179e\"],[0.4444444444444444,\"#bd3786\"],[0.5555555555555556,\"#d8576b\"],[0.6666666666666666,\"#ed7953\"],[0.7777777777777778,\"#fb9f3a\"],[0.8888888888888888,\"#fdca26\"],[1.0,\"#f0f921\"]],\"sequentialminus\":[[0.0,\"#0d0887\"],[0.1111111111111111,\"#46039f\"],[0.2222222222222222,\"#7201a8\"],[0.3333333333333333,\"#9c179e\"],[0.4444444444444444,\"#bd3786\"],[0.5555555555555556,\"#d8576b\"],[0.6666666666666666,\"#ed7953\"],[0.7777777777777778,\"#fb9f3a\"],[0.8888888888888888,\"#fdca26\"],[1.0,\"#f0f921\"]],\"diverging\":[[0,\"#8e0152\"],[0.1,\"#c51b7d\"],[0.2,\"#de77ae\"],[0.3,\"#f1b6da\"],[0.4,\"#fde0ef\"],[0.5,\"#f7f7f7\"],[0.6,\"#e6f5d0\"],[0.7,\"#b8e186\"],[0.8,\"#7fbc41\"],[0.9,\"#4d9221\"],[1,\"#276419\"]]},\"xaxis\":{\"gridcolor\":\"white\",\"linecolor\":\"white\",\"ticks\":\"\",\"title\":{\"standoff\":15},\"zerolinecolor\":\"white\",\"automargin\":true,\"zerolinewidth\":2},\"yaxis\":{\"gridcolor\":\"white\",\"linecolor\":\"white\",\"ticks\":\"\",\"title\":{\"standoff\":15},\"zerolinecolor\":\"white\",\"automargin\":true,\"zerolinewidth\":2},\"scene\":{\"xaxis\":{\"backgroundcolor\":\"#E5ECF6\",\"gridcolor\":\"white\",\"linecolor\":\"white\",\"showbackground\":true,\"ticks\":\"\",\"zerolinecolor\":\"white\",\"gridwidth\":2},\"yaxis\":{\"backgroundcolor\":\"#E5ECF6\",\"gridcolor\":\"white\",\"linecolor\":\"white\",\"showbackground\":true,\"ticks\":\"\",\"zerolinecolor\":\"white\",\"gridwidth\":2},\"zaxis\":{\"backgroundcolor\":\"#E5ECF6\",\"gridcolor\":\"white\",\"linecolor\":\"white\",\"showbackground\":true,\"ticks\":\"\",\"zerolinecolor\":\"white\",\"gridwidth\":2}},\"shapedefaults\":{\"line\":{\"color\":\"#2a3f5f\"}},\"annotationdefaults\":{\"arrowcolor\":\"#2a3f5f\",\"arrowhead\":0,\"arrowwidth\":1},\"geo\":{\"bgcolor\":\"white\",\"landcolor\":\"#E5ECF6\",\"subunitcolor\":\"white\",\"showland\":true,\"showlakes\":true,\"lakecolor\":\"white\"},\"title\":{\"x\":0.05},\"mapbox\":{\"style\":\"light\"}}},\"annotations\":[{\"font\":{\"color\":\"white\"},\"showarrow\":false,\"text\":\"43578\",\"x\":0,\"y\":0},{\"font\":{\"color\":\"white\"},\"showarrow\":false,\"text\":\"203\",\"x\":1,\"y\":0},{\"font\":{\"color\":\"white\"},\"showarrow\":false,\"text\":\"3901\",\"x\":0,\"y\":1},{\"font\":{\"color\":\"white\"},\"showarrow\":false,\"text\":\"287\",\"x\":1,\"y\":1}]},                        {\"responsive\": true}                    ).then(function(){\n",
       "                            \n",
       "var gd = document.getElementById('5ae602f6-03c1-425d-9afc-1c7726ac81f8');\n",
       "var x = new MutationObserver(function (mutations, observer) {{\n",
       "        var display = window.getComputedStyle(gd).display;\n",
       "        if (!display || display === 'none') {{\n",
       "            console.log([gd, 'removed!']);\n",
       "            Plotly.purge(gd);\n",
       "            observer.disconnect();\n",
       "        }}\n",
       "}});\n",
       "\n",
       "// Listen for the removal of the full notebook cells\n",
       "var notebookContainer = gd.closest('#notebook-container');\n",
       "if (notebookContainer) {{\n",
       "    x.observe(notebookContainer, {childList: true});\n",
       "}}\n",
       "\n",
       "// Listen for the clearing of the current output cell\n",
       "var outputEl = gd.closest('.output');\n",
       "if (outputEl) {{\n",
       "    x.observe(outputEl, {childList: true});\n",
       "}}\n",
       "\n",
       "                        })                };                });            </script>        </div>"
      ]
     },
     "metadata": {},
     "output_type": "display_data"
    }
   ],
   "source": [
    "# create annotations for each cell in the confusion matrix\n",
    "annotations = []\n",
    "for i in range(conf_matrix.shape[0]):\n",
    "    for j in range(conf_matrix.shape[1]):\n",
    "        annotations.append(dict(\n",
    "            x=j,\n",
    "            y=i,\n",
    "            text=str(conf_matrix[i, j]),\n",
    "            showarrow=False,\n",
    "            font=dict(color='white')\n",
    "        ))\n",
    "\n",
    "# plot the confusion matrix using plotly\n",
    "fig = go.Figure(data=go.Heatmap(\n",
    "    z=conf_matrix,\n",
    "    x=['Predicted 0', 'Predicted 1'],\n",
    "    y=['Actual 0', 'Actual 1'],\n",
    "    colorscale='Viridis',\n",
    "    zmin=0,\n",
    "    zmax=conf_matrix.max()\n",
    "))\n",
    "fig.update_layout(annotations=annotations)\n",
    "fig.show()\n",
    "\n"
   ]
  },
  {
   "cell_type": "code",
   "execution_count": 123,
   "id": "37aecb1f",
   "metadata": {},
   "outputs": [
    {
     "name": "stdout",
     "output_type": "stream",
     "text": [
      "|   iter    |  target   |    w1     |    w2     |    w3     |\n",
      "-------------------------------------------------------------\n",
      "| \u001b[0m 1       \u001b[0m | \u001b[0m 0.5907  \u001b[0m | \u001b[0m 0.417   \u001b[0m | \u001b[0m 0.7203  \u001b[0m | \u001b[0m 0.000114\u001b[0m |\n",
      "| \u001b[0m 2       \u001b[0m | \u001b[0m 0.3517  \u001b[0m | \u001b[0m 0.3023  \u001b[0m | \u001b[0m 0.1468  \u001b[0m | \u001b[0m 0.09234 \u001b[0m |\n",
      "| \u001b[0m 3       \u001b[0m | \u001b[0m 0.5907  \u001b[0m | \u001b[0m 0.4358  \u001b[0m | \u001b[0m 0.7175  \u001b[0m | \u001b[0m 0.01417 \u001b[0m |\n",
      "| \u001b[0m 4       \u001b[0m | \u001b[0m 0.5907  \u001b[0m | \u001b[0m 0.941   \u001b[0m | \u001b[0m 1.0     \u001b[0m | \u001b[0m 0.0     \u001b[0m |\n",
      "| \u001b[0m 5       \u001b[0m | \u001b[0m 0.4473  \u001b[0m | \u001b[0m 0.3593  \u001b[0m | \u001b[0m 1.0     \u001b[0m | \u001b[0m 0.5674  \u001b[0m |\n",
      "| \u001b[0m 6       \u001b[0m | \u001b[0m 0.3057  \u001b[0m | \u001b[0m 0.2275  \u001b[0m | \u001b[0m 0.1556  \u001b[0m | \u001b[0m 0.9473  \u001b[0m |\n",
      "| \u001b[0m 7       \u001b[0m | \u001b[0m 0.3517  \u001b[0m | \u001b[0m 1.0     \u001b[0m | \u001b[0m 0.4845  \u001b[0m | \u001b[0m 0.0     \u001b[0m |\n",
      "| \u001b[0m 8       \u001b[0m | \u001b[0m 0.5907  \u001b[0m | \u001b[0m 0.5073  \u001b[0m | \u001b[0m 0.986   \u001b[0m | \u001b[0m 0.06044 \u001b[0m |\n",
      "| \u001b[0m 9       \u001b[0m | \u001b[0m 0.5907  \u001b[0m | \u001b[0m 0.495   \u001b[0m | \u001b[0m 0.9914  \u001b[0m | \u001b[0m 0.03731 \u001b[0m |\n",
      "| \u001b[0m 10      \u001b[0m | \u001b[0m 0.3092  \u001b[0m | \u001b[0m 1.0     \u001b[0m | \u001b[0m 1.0     \u001b[0m | \u001b[0m 1.0     \u001b[0m |\n",
      "| \u001b[0m 11      \u001b[0m | \u001b[0m 0.5907  \u001b[0m | \u001b[0m 0.0     \u001b[0m | \u001b[0m 1.0     \u001b[0m | \u001b[0m 0.0     \u001b[0m |\n",
      "| \u001b[0m 12      \u001b[0m | \u001b[0m 0.5907  \u001b[0m | \u001b[0m 0.0     \u001b[0m | \u001b[0m 0.7256  \u001b[0m | \u001b[0m 0.2331  \u001b[0m |\n",
      "| \u001b[0m 13      \u001b[0m | \u001b[0m 0.5907  \u001b[0m | \u001b[0m 0.0     \u001b[0m | \u001b[0m 1.0     \u001b[0m | \u001b[0m 0.32    \u001b[0m |\n",
      "| \u001b[0m 14      \u001b[0m | \u001b[0m 0.5907  \u001b[0m | \u001b[0m 0.2193  \u001b[0m | \u001b[0m 0.8666  \u001b[0m | \u001b[0m 0.1581  \u001b[0m |\n",
      "| \u001b[0m 15      \u001b[0m | \u001b[0m 0.5907  \u001b[0m | \u001b[0m 0.0     \u001b[0m | \u001b[0m 0.6979  \u001b[0m | \u001b[0m 0.0     \u001b[0m |\n",
      "| \u001b[0m 16      \u001b[0m | \u001b[0m 0.3057  \u001b[0m | \u001b[0m 0.0     \u001b[0m | \u001b[0m 1.0     \u001b[0m | \u001b[0m 1.0     \u001b[0m |\n",
      "| \u001b[0m 17      \u001b[0m | \u001b[0m 0.5907  \u001b[0m | \u001b[0m 0.6673  \u001b[0m | \u001b[0m 0.8833  \u001b[0m | \u001b[0m 0.01188 \u001b[0m |\n",
      "| \u001b[0m 18      \u001b[0m | \u001b[0m 0.4473  \u001b[0m | \u001b[0m 1.0     \u001b[0m | \u001b[0m 1.0     \u001b[0m | \u001b[0m 0.247   \u001b[0m |\n",
      "| \u001b[0m 19      \u001b[0m | \u001b[0m 0.5907  \u001b[0m | \u001b[0m 0.0     \u001b[0m | \u001b[0m 0.8798  \u001b[0m | \u001b[0m 0.1416  \u001b[0m |\n",
      "| \u001b[0m 20      \u001b[0m | \u001b[0m 0.3057  \u001b[0m | \u001b[0m 1.0     \u001b[0m | \u001b[0m 0.0     \u001b[0m | \u001b[0m 1.0     \u001b[0m |\n",
      "| \u001b[0m 21      \u001b[0m | \u001b[0m 0.5907  \u001b[0m | \u001b[0m 0.2315  \u001b[0m | \u001b[0m 0.6484  \u001b[0m | \u001b[0m 0.157   \u001b[0m |\n",
      "| \u001b[0m 22      \u001b[0m | \u001b[0m 0.5907  \u001b[0m | \u001b[0m 0.0     \u001b[0m | \u001b[0m 0.5055  \u001b[0m | \u001b[0m 0.1067  \u001b[0m |\n",
      "| \u001b[0m 23      \u001b[0m | \u001b[0m 0.5907  \u001b[0m | \u001b[0m 0.7464  \u001b[0m | \u001b[0m 1.0     \u001b[0m | \u001b[0m 0.0     \u001b[0m |\n",
      "| \u001b[0m 24      \u001b[0m | \u001b[0m 0.5907  \u001b[0m | \u001b[0m 0.0     \u001b[0m | \u001b[0m 0.4934  \u001b[0m | \u001b[0m 0.3467  \u001b[0m |\n",
      "| \u001b[0m 25      \u001b[0m | \u001b[0m 0.5907  \u001b[0m | \u001b[0m 0.4129  \u001b[0m | \u001b[0m 0.8186  \u001b[0m | \u001b[0m 0.1255  \u001b[0m |\n",
      "| \u001b[0m 26      \u001b[0m | \u001b[0m 0.5907  \u001b[0m | \u001b[0m 0.202   \u001b[0m | \u001b[0m 1.0     \u001b[0m | \u001b[0m 0.0     \u001b[0m |\n",
      "| \u001b[0m 27      \u001b[0m | \u001b[0m 0.5907  \u001b[0m | \u001b[0m 0.1158  \u001b[0m | \u001b[0m 1.0     \u001b[0m | \u001b[0m 0.1845  \u001b[0m |\n",
      "| \u001b[0m 28      \u001b[0m | \u001b[0m 0.5907  \u001b[0m | \u001b[0m 0.0     \u001b[0m | \u001b[0m 0.6689  \u001b[0m | \u001b[0m 0.4445  \u001b[0m |\n",
      "| \u001b[0m 29      \u001b[0m | \u001b[0m 0.5907  \u001b[0m | \u001b[0m 0.1431  \u001b[0m | \u001b[0m 0.6367  \u001b[0m | \u001b[0m 0.3535  \u001b[0m |\n",
      "| \u001b[0m 30      \u001b[0m | \u001b[0m 0.5907  \u001b[0m | \u001b[0m 0.1609  \u001b[0m | \u001b[0m 0.7926  \u001b[0m | \u001b[0m 0.0     \u001b[0m |\n",
      "| \u001b[0m 31      \u001b[0m | \u001b[0m 0.5907  \u001b[0m | \u001b[0m 0.5109  \u001b[0m | \u001b[0m 0.85    \u001b[0m | \u001b[0m 0.0     \u001b[0m |\n",
      "| \u001b[0m 32      \u001b[0m | \u001b[0m 0.5907  \u001b[0m | \u001b[0m 0.0     \u001b[0m | \u001b[0m 0.586   \u001b[0m | \u001b[0m 0.2844  \u001b[0m |\n",
      "| \u001b[0m 33      \u001b[0m | \u001b[0m 0.5907  \u001b[0m | \u001b[0m 0.1213  \u001b[0m | \u001b[0m 0.568   \u001b[0m | \u001b[0m 0.0     \u001b[0m |\n",
      "| \u001b[0m 34      \u001b[0m | \u001b[0m 0.5907  \u001b[0m | \u001b[0m 0.07517 \u001b[0m | \u001b[0m 0.8349  \u001b[0m | \u001b[0m 0.3458  \u001b[0m |\n",
      "| \u001b[0m 35      \u001b[0m | \u001b[0m 0.5907  \u001b[0m | \u001b[0m 0.01458 \u001b[0m | \u001b[0m 0.4232  \u001b[0m | \u001b[0m 0.005942\u001b[0m |\n",
      "| \u001b[0m 36      \u001b[0m | \u001b[0m 0.5907  \u001b[0m | \u001b[0m 0.0     \u001b[0m | \u001b[0m 0.5317  \u001b[0m | \u001b[0m 0.0     \u001b[0m |\n",
      "| \u001b[0m 37      \u001b[0m | \u001b[0m 0.5907  \u001b[0m | \u001b[0m 0.387   \u001b[0m | \u001b[0m 0.9948  \u001b[0m | \u001b[0m 0.1264  \u001b[0m |\n",
      "| \u001b[0m 38      \u001b[0m | \u001b[0m 0.5907  \u001b[0m | \u001b[0m 0.0     \u001b[0m | \u001b[0m 0.3555  \u001b[0m | \u001b[0m 0.1954  \u001b[0m |\n",
      "| \u001b[0m 39      \u001b[0m | \u001b[0m 0.5907  \u001b[0m | \u001b[0m 0.0     \u001b[0m | \u001b[0m 1.0     \u001b[0m | \u001b[0m 0.179   \u001b[0m |\n",
      "| \u001b[0m 40      \u001b[0m | \u001b[0m 0.5907  \u001b[0m | \u001b[0m 0.2687  \u001b[0m | \u001b[0m 0.747   \u001b[0m | \u001b[0m 0.2762  \u001b[0m |\n",
      "| \u001b[0m 41      \u001b[0m | \u001b[0m 0.5907  \u001b[0m | \u001b[0m 0.0     \u001b[0m | \u001b[0m 0.7885  \u001b[0m | \u001b[0m 0.3584  \u001b[0m |\n",
      "| \u001b[0m 42      \u001b[0m | \u001b[0m 0.5907  \u001b[0m | \u001b[0m 0.1408  \u001b[0m | \u001b[0m 0.7308  \u001b[0m | \u001b[0m 0.2409  \u001b[0m |\n",
      "| \u001b[0m 43      \u001b[0m | \u001b[0m 0.3092  \u001b[0m | \u001b[0m 0.7547  \u001b[0m | \u001b[0m 0.2364  \u001b[0m | \u001b[0m 0.8752  \u001b[0m |\n",
      "| \u001b[0m 44      \u001b[0m | \u001b[0m 0.5907  \u001b[0m | \u001b[0m 0.25    \u001b[0m | \u001b[0m 0.6552  \u001b[0m | \u001b[0m 0.0     \u001b[0m |\n",
      "| \u001b[0m 45      \u001b[0m | \u001b[0m 0.5907  \u001b[0m | \u001b[0m 0.8292  \u001b[0m | \u001b[0m 0.9254  \u001b[0m | \u001b[0m 0.000645\u001b[0m |\n",
      "| \u001b[0m 46      \u001b[0m | \u001b[0m 0.5907  \u001b[0m | \u001b[0m 0.0     \u001b[0m | \u001b[0m 0.8619  \u001b[0m | \u001b[0m 0.0     \u001b[0m |\n",
      "| \u001b[0m 47      \u001b[0m | \u001b[0m 0.5907  \u001b[0m | \u001b[0m 0.3176  \u001b[0m | \u001b[0m 0.7347  \u001b[0m | \u001b[0m 0.09752 \u001b[0m |\n",
      "=============================================================\n"
     ]
    }
   ],
   "source": [
    "# Importing the necessary libraries\n",
    "from sklearn.metrics import precision_score\n",
    "from bayes_opt import BayesianOptimization\n",
    "\n",
    "# Defining the search space\n",
    "space_ensemble = {\"w1\": (0, 1), \"w2\": (0, 1), \"w3\": (0, 1)}\n",
    "\n",
    "y_val_pred_unbalanced_xgb_model = unbalanced_xgb_model.predict(X_val)\n",
    "y_val_pred_xgb_model = xgb_model.predict(X_val)\n",
    "y_val_pred_rf = rf_model.predict(X_val)\n",
    "\n",
    "# Defining the objective function\n",
    "def objective_ensemble(w1, w2, w3):\n",
    "\n",
    "    # Ensure that the sum of the weights is equal to 1\n",
    "    w1 = w1 / (w1 + w2 + w3)\n",
    "    w2 = w2 / (w1 + w2 + w3)\n",
    "    w3 = w3 / (w1 + w2 + w3)\n",
    "\n",
    "    # Create the ensemble predictions by combining the predictions of the two models\n",
    "    # with the optimized weights\n",
    "    y_val_pred_ensemble = w1 * y_val_pred_xgb_model + w2 * y_val_pred_unbalanced_xgb_model + w3 * y_val_pred_rf\n",
    "    \n",
    "    y_val_pred_ensemble = [1 if i > 0.5 else 0 for i in y_val_pred_ensemble]\n",
    "\n",
    "    # Get the precision score\n",
    "    precision = precision_score(y_val, y_val_pred_ensemble)\n",
    "    \n",
    "    #f1 = f1_score(y_val, y_val_pred_ensemble)\n",
    "\n",
    "    # Return the precision score as the objective value to be minimized by the Bayesian optimizer\n",
    "    #return f1\n",
    "    return precision\n",
    "\n",
    "# Create the Bayesian optimizer\n",
    "optimizer_ensemble = BayesianOptimization(\n",
    "    f=objective_ensemble,\n",
    "    pbounds=space_ensemble,\n",
    "    random_state=1,\n",
    ")\n",
    "\n",
    "# Running the optimizer...\n",
    "optimizer_ensemble.maximize(\n",
    "    init_points=2,\n",
    "    n_iter=45,\n",
    ")\n",
    "\n",
    "# Optimal parameter values\n",
    "params = optimizer_ensemble.max[\"params\"]\n",
    "\n",
    "# Get the optimal weights of the predictions of the two models\n",
    "w1 = params[\"w1\"] / (params[\"w1\"] + params[\"w2\"] + params[\"w3\"])\n",
    "w2 = params[\"w2\"] / (params[\"w1\"] + params[\"w2\"] + params[\"w3\"])\n",
    "w3 = params[\"w3\"] / (params[\"w1\"] + params[\"w2\"] + params[\"w3\"])\n"
   ]
  },
  {
   "cell_type": "code",
   "execution_count": 124,
   "id": "30a1ae90",
   "metadata": {},
   "outputs": [
    {
     "data": {
      "text/plain": [
       "0.36662536234464177"
      ]
     },
     "execution_count": 124,
     "metadata": {},
     "output_type": "execute_result"
    }
   ],
   "source": [
    "w1"
   ]
  },
  {
   "cell_type": "code",
   "execution_count": 125,
   "id": "4e40d82d",
   "metadata": {},
   "outputs": [
    {
     "data": {
      "text/plain": [
       "0.633274084906632"
      ]
     },
     "execution_count": 125,
     "metadata": {},
     "output_type": "execute_result"
    }
   ],
   "source": [
    "w2"
   ]
  },
  {
   "cell_type": "code",
   "execution_count": 126,
   "id": "78d2360f",
   "metadata": {},
   "outputs": [
    {
     "data": {
      "text/plain": [
       "0.00010055274872624116"
      ]
     },
     "execution_count": 126,
     "metadata": {},
     "output_type": "execute_result"
    }
   ],
   "source": [
    "w3"
   ]
  },
  {
   "cell_type": "code",
   "execution_count": 127,
   "id": "4e6199d2",
   "metadata": {},
   "outputs": [
    {
     "name": "stdout",
     "output_type": "stream",
     "text": [
      "0.914444745564844\n"
     ]
    }
   ],
   "source": [
    "y_test_pred_unbalanced_xgb_model = unbalanced_xgb_model.predict(X_test)\n",
    "y_test_pred_xgb_model = xgb_model.predict(X_test)\n",
    "\n",
    "y_test_pred_ensemble = w1 * y_test_pred_xgb_model + w2 * y_test_pred_unbalanced_xgb_model\n",
    "y_test_pred_ensemble = [1 if i > 0.5 else 0 for i in y_test_pred_ensemble]\n",
    "\n",
    "accuracy = accuracy_score(y_test, y_test_pred_ensemble)\n",
    "\n",
    "print(accuracy)"
   ]
  },
  {
   "cell_type": "code",
   "execution_count": 128,
   "id": "a61341e3",
   "metadata": {},
   "outputs": [
    {
     "data": {
      "text/plain": [
       "array([[43578,   203],\n",
       "       [ 3901,   287]])"
      ]
     },
     "execution_count": 128,
     "metadata": {},
     "output_type": "execute_result"
    }
   ],
   "source": [
    "conf_matrix = confusion_matrix(y_test, y_test_pred_ensemble)\n",
    "conf_matrix"
   ]
  },
  {
   "cell_type": "code",
   "execution_count": 129,
   "id": "b9a975d9",
   "metadata": {},
   "outputs": [
    {
     "data": {
      "application/vnd.plotly.v1+json": {
       "config": {
        "plotlyServerURL": "https://plot.ly"
       },
       "data": [
        {
         "colorscale": [
          [
           0,
           "#440154"
          ],
          [
           0.1111111111111111,
           "#482878"
          ],
          [
           0.2222222222222222,
           "#3e4989"
          ],
          [
           0.3333333333333333,
           "#31688e"
          ],
          [
           0.4444444444444444,
           "#26828e"
          ],
          [
           0.5555555555555556,
           "#1f9e89"
          ],
          [
           0.6666666666666666,
           "#35b779"
          ],
          [
           0.7777777777777778,
           "#6ece58"
          ],
          [
           0.8888888888888888,
           "#b5de2b"
          ],
          [
           1,
           "#fde725"
          ]
         ],
         "type": "heatmap",
         "x": [
          "Predicted 0",
          "Predicted 1"
         ],
         "y": [
          "Actual 0",
          "Actual 1"
         ],
         "z": [
          [
           43578,
           203
          ],
          [
           3901,
           287
          ]
         ],
         "zmax": 43578,
         "zmin": 0
        }
       ],
       "layout": {
        "annotations": [
         {
          "font": {
           "color": "white"
          },
          "showarrow": false,
          "text": "43578",
          "x": 0,
          "y": 0
         },
         {
          "font": {
           "color": "white"
          },
          "showarrow": false,
          "text": "203",
          "x": 1,
          "y": 0
         },
         {
          "font": {
           "color": "white"
          },
          "showarrow": false,
          "text": "3901",
          "x": 0,
          "y": 1
         },
         {
          "font": {
           "color": "white"
          },
          "showarrow": false,
          "text": "287",
          "x": 1,
          "y": 1
         }
        ],
        "template": {
         "data": {
          "bar": [
           {
            "error_x": {
             "color": "#2a3f5f"
            },
            "error_y": {
             "color": "#2a3f5f"
            },
            "marker": {
             "line": {
              "color": "#E5ECF6",
              "width": 0.5
             },
             "pattern": {
              "fillmode": "overlay",
              "size": 10,
              "solidity": 0.2
             }
            },
            "type": "bar"
           }
          ],
          "barpolar": [
           {
            "marker": {
             "line": {
              "color": "#E5ECF6",
              "width": 0.5
             },
             "pattern": {
              "fillmode": "overlay",
              "size": 10,
              "solidity": 0.2
             }
            },
            "type": "barpolar"
           }
          ],
          "carpet": [
           {
            "aaxis": {
             "endlinecolor": "#2a3f5f",
             "gridcolor": "white",
             "linecolor": "white",
             "minorgridcolor": "white",
             "startlinecolor": "#2a3f5f"
            },
            "baxis": {
             "endlinecolor": "#2a3f5f",
             "gridcolor": "white",
             "linecolor": "white",
             "minorgridcolor": "white",
             "startlinecolor": "#2a3f5f"
            },
            "type": "carpet"
           }
          ],
          "choropleth": [
           {
            "colorbar": {
             "outlinewidth": 0,
             "ticks": ""
            },
            "type": "choropleth"
           }
          ],
          "contour": [
           {
            "colorbar": {
             "outlinewidth": 0,
             "ticks": ""
            },
            "colorscale": [
             [
              0,
              "#0d0887"
             ],
             [
              0.1111111111111111,
              "#46039f"
             ],
             [
              0.2222222222222222,
              "#7201a8"
             ],
             [
              0.3333333333333333,
              "#9c179e"
             ],
             [
              0.4444444444444444,
              "#bd3786"
             ],
             [
              0.5555555555555556,
              "#d8576b"
             ],
             [
              0.6666666666666666,
              "#ed7953"
             ],
             [
              0.7777777777777778,
              "#fb9f3a"
             ],
             [
              0.8888888888888888,
              "#fdca26"
             ],
             [
              1,
              "#f0f921"
             ]
            ],
            "type": "contour"
           }
          ],
          "contourcarpet": [
           {
            "colorbar": {
             "outlinewidth": 0,
             "ticks": ""
            },
            "type": "contourcarpet"
           }
          ],
          "heatmap": [
           {
            "colorbar": {
             "outlinewidth": 0,
             "ticks": ""
            },
            "colorscale": [
             [
              0,
              "#0d0887"
             ],
             [
              0.1111111111111111,
              "#46039f"
             ],
             [
              0.2222222222222222,
              "#7201a8"
             ],
             [
              0.3333333333333333,
              "#9c179e"
             ],
             [
              0.4444444444444444,
              "#bd3786"
             ],
             [
              0.5555555555555556,
              "#d8576b"
             ],
             [
              0.6666666666666666,
              "#ed7953"
             ],
             [
              0.7777777777777778,
              "#fb9f3a"
             ],
             [
              0.8888888888888888,
              "#fdca26"
             ],
             [
              1,
              "#f0f921"
             ]
            ],
            "type": "heatmap"
           }
          ],
          "heatmapgl": [
           {
            "colorbar": {
             "outlinewidth": 0,
             "ticks": ""
            },
            "colorscale": [
             [
              0,
              "#0d0887"
             ],
             [
              0.1111111111111111,
              "#46039f"
             ],
             [
              0.2222222222222222,
              "#7201a8"
             ],
             [
              0.3333333333333333,
              "#9c179e"
             ],
             [
              0.4444444444444444,
              "#bd3786"
             ],
             [
              0.5555555555555556,
              "#d8576b"
             ],
             [
              0.6666666666666666,
              "#ed7953"
             ],
             [
              0.7777777777777778,
              "#fb9f3a"
             ],
             [
              0.8888888888888888,
              "#fdca26"
             ],
             [
              1,
              "#f0f921"
             ]
            ],
            "type": "heatmapgl"
           }
          ],
          "histogram": [
           {
            "marker": {
             "pattern": {
              "fillmode": "overlay",
              "size": 10,
              "solidity": 0.2
             }
            },
            "type": "histogram"
           }
          ],
          "histogram2d": [
           {
            "colorbar": {
             "outlinewidth": 0,
             "ticks": ""
            },
            "colorscale": [
             [
              0,
              "#0d0887"
             ],
             [
              0.1111111111111111,
              "#46039f"
             ],
             [
              0.2222222222222222,
              "#7201a8"
             ],
             [
              0.3333333333333333,
              "#9c179e"
             ],
             [
              0.4444444444444444,
              "#bd3786"
             ],
             [
              0.5555555555555556,
              "#d8576b"
             ],
             [
              0.6666666666666666,
              "#ed7953"
             ],
             [
              0.7777777777777778,
              "#fb9f3a"
             ],
             [
              0.8888888888888888,
              "#fdca26"
             ],
             [
              1,
              "#f0f921"
             ]
            ],
            "type": "histogram2d"
           }
          ],
          "histogram2dcontour": [
           {
            "colorbar": {
             "outlinewidth": 0,
             "ticks": ""
            },
            "colorscale": [
             [
              0,
              "#0d0887"
             ],
             [
              0.1111111111111111,
              "#46039f"
             ],
             [
              0.2222222222222222,
              "#7201a8"
             ],
             [
              0.3333333333333333,
              "#9c179e"
             ],
             [
              0.4444444444444444,
              "#bd3786"
             ],
             [
              0.5555555555555556,
              "#d8576b"
             ],
             [
              0.6666666666666666,
              "#ed7953"
             ],
             [
              0.7777777777777778,
              "#fb9f3a"
             ],
             [
              0.8888888888888888,
              "#fdca26"
             ],
             [
              1,
              "#f0f921"
             ]
            ],
            "type": "histogram2dcontour"
           }
          ],
          "mesh3d": [
           {
            "colorbar": {
             "outlinewidth": 0,
             "ticks": ""
            },
            "type": "mesh3d"
           }
          ],
          "parcoords": [
           {
            "line": {
             "colorbar": {
              "outlinewidth": 0,
              "ticks": ""
             }
            },
            "type": "parcoords"
           }
          ],
          "pie": [
           {
            "automargin": true,
            "type": "pie"
           }
          ],
          "scatter": [
           {
            "fillpattern": {
             "fillmode": "overlay",
             "size": 10,
             "solidity": 0.2
            },
            "type": "scatter"
           }
          ],
          "scatter3d": [
           {
            "line": {
             "colorbar": {
              "outlinewidth": 0,
              "ticks": ""
             }
            },
            "marker": {
             "colorbar": {
              "outlinewidth": 0,
              "ticks": ""
             }
            },
            "type": "scatter3d"
           }
          ],
          "scattercarpet": [
           {
            "marker": {
             "colorbar": {
              "outlinewidth": 0,
              "ticks": ""
             }
            },
            "type": "scattercarpet"
           }
          ],
          "scattergeo": [
           {
            "marker": {
             "colorbar": {
              "outlinewidth": 0,
              "ticks": ""
             }
            },
            "type": "scattergeo"
           }
          ],
          "scattergl": [
           {
            "marker": {
             "colorbar": {
              "outlinewidth": 0,
              "ticks": ""
             }
            },
            "type": "scattergl"
           }
          ],
          "scattermapbox": [
           {
            "marker": {
             "colorbar": {
              "outlinewidth": 0,
              "ticks": ""
             }
            },
            "type": "scattermapbox"
           }
          ],
          "scatterpolar": [
           {
            "marker": {
             "colorbar": {
              "outlinewidth": 0,
              "ticks": ""
             }
            },
            "type": "scatterpolar"
           }
          ],
          "scatterpolargl": [
           {
            "marker": {
             "colorbar": {
              "outlinewidth": 0,
              "ticks": ""
             }
            },
            "type": "scatterpolargl"
           }
          ],
          "scatterternary": [
           {
            "marker": {
             "colorbar": {
              "outlinewidth": 0,
              "ticks": ""
             }
            },
            "type": "scatterternary"
           }
          ],
          "surface": [
           {
            "colorbar": {
             "outlinewidth": 0,
             "ticks": ""
            },
            "colorscale": [
             [
              0,
              "#0d0887"
             ],
             [
              0.1111111111111111,
              "#46039f"
             ],
             [
              0.2222222222222222,
              "#7201a8"
             ],
             [
              0.3333333333333333,
              "#9c179e"
             ],
             [
              0.4444444444444444,
              "#bd3786"
             ],
             [
              0.5555555555555556,
              "#d8576b"
             ],
             [
              0.6666666666666666,
              "#ed7953"
             ],
             [
              0.7777777777777778,
              "#fb9f3a"
             ],
             [
              0.8888888888888888,
              "#fdca26"
             ],
             [
              1,
              "#f0f921"
             ]
            ],
            "type": "surface"
           }
          ],
          "table": [
           {
            "cells": {
             "fill": {
              "color": "#EBF0F8"
             },
             "line": {
              "color": "white"
             }
            },
            "header": {
             "fill": {
              "color": "#C8D4E3"
             },
             "line": {
              "color": "white"
             }
            },
            "type": "table"
           }
          ]
         },
         "layout": {
          "annotationdefaults": {
           "arrowcolor": "#2a3f5f",
           "arrowhead": 0,
           "arrowwidth": 1
          },
          "autotypenumbers": "strict",
          "coloraxis": {
           "colorbar": {
            "outlinewidth": 0,
            "ticks": ""
           }
          },
          "colorscale": {
           "diverging": [
            [
             0,
             "#8e0152"
            ],
            [
             0.1,
             "#c51b7d"
            ],
            [
             0.2,
             "#de77ae"
            ],
            [
             0.3,
             "#f1b6da"
            ],
            [
             0.4,
             "#fde0ef"
            ],
            [
             0.5,
             "#f7f7f7"
            ],
            [
             0.6,
             "#e6f5d0"
            ],
            [
             0.7,
             "#b8e186"
            ],
            [
             0.8,
             "#7fbc41"
            ],
            [
             0.9,
             "#4d9221"
            ],
            [
             1,
             "#276419"
            ]
           ],
           "sequential": [
            [
             0,
             "#0d0887"
            ],
            [
             0.1111111111111111,
             "#46039f"
            ],
            [
             0.2222222222222222,
             "#7201a8"
            ],
            [
             0.3333333333333333,
             "#9c179e"
            ],
            [
             0.4444444444444444,
             "#bd3786"
            ],
            [
             0.5555555555555556,
             "#d8576b"
            ],
            [
             0.6666666666666666,
             "#ed7953"
            ],
            [
             0.7777777777777778,
             "#fb9f3a"
            ],
            [
             0.8888888888888888,
             "#fdca26"
            ],
            [
             1,
             "#f0f921"
            ]
           ],
           "sequentialminus": [
            [
             0,
             "#0d0887"
            ],
            [
             0.1111111111111111,
             "#46039f"
            ],
            [
             0.2222222222222222,
             "#7201a8"
            ],
            [
             0.3333333333333333,
             "#9c179e"
            ],
            [
             0.4444444444444444,
             "#bd3786"
            ],
            [
             0.5555555555555556,
             "#d8576b"
            ],
            [
             0.6666666666666666,
             "#ed7953"
            ],
            [
             0.7777777777777778,
             "#fb9f3a"
            ],
            [
             0.8888888888888888,
             "#fdca26"
            ],
            [
             1,
             "#f0f921"
            ]
           ]
          },
          "colorway": [
           "#636efa",
           "#EF553B",
           "#00cc96",
           "#ab63fa",
           "#FFA15A",
           "#19d3f3",
           "#FF6692",
           "#B6E880",
           "#FF97FF",
           "#FECB52"
          ],
          "font": {
           "color": "#2a3f5f"
          },
          "geo": {
           "bgcolor": "white",
           "lakecolor": "white",
           "landcolor": "#E5ECF6",
           "showlakes": true,
           "showland": true,
           "subunitcolor": "white"
          },
          "hoverlabel": {
           "align": "left"
          },
          "hovermode": "closest",
          "mapbox": {
           "style": "light"
          },
          "paper_bgcolor": "white",
          "plot_bgcolor": "#E5ECF6",
          "polar": {
           "angularaxis": {
            "gridcolor": "white",
            "linecolor": "white",
            "ticks": ""
           },
           "bgcolor": "#E5ECF6",
           "radialaxis": {
            "gridcolor": "white",
            "linecolor": "white",
            "ticks": ""
           }
          },
          "scene": {
           "xaxis": {
            "backgroundcolor": "#E5ECF6",
            "gridcolor": "white",
            "gridwidth": 2,
            "linecolor": "white",
            "showbackground": true,
            "ticks": "",
            "zerolinecolor": "white"
           },
           "yaxis": {
            "backgroundcolor": "#E5ECF6",
            "gridcolor": "white",
            "gridwidth": 2,
            "linecolor": "white",
            "showbackground": true,
            "ticks": "",
            "zerolinecolor": "white"
           },
           "zaxis": {
            "backgroundcolor": "#E5ECF6",
            "gridcolor": "white",
            "gridwidth": 2,
            "linecolor": "white",
            "showbackground": true,
            "ticks": "",
            "zerolinecolor": "white"
           }
          },
          "shapedefaults": {
           "line": {
            "color": "#2a3f5f"
           }
          },
          "ternary": {
           "aaxis": {
            "gridcolor": "white",
            "linecolor": "white",
            "ticks": ""
           },
           "baxis": {
            "gridcolor": "white",
            "linecolor": "white",
            "ticks": ""
           },
           "bgcolor": "#E5ECF6",
           "caxis": {
            "gridcolor": "white",
            "linecolor": "white",
            "ticks": ""
           }
          },
          "title": {
           "x": 0.05
          },
          "xaxis": {
           "automargin": true,
           "gridcolor": "white",
           "linecolor": "white",
           "ticks": "",
           "title": {
            "standoff": 15
           },
           "zerolinecolor": "white",
           "zerolinewidth": 2
          },
          "yaxis": {
           "automargin": true,
           "gridcolor": "white",
           "linecolor": "white",
           "ticks": "",
           "title": {
            "standoff": 15
           },
           "zerolinecolor": "white",
           "zerolinewidth": 2
          }
         }
        }
       }
      },
      "text/html": [
       "<div>                            <div id=\"243672e4-7018-4f51-8c62-3e664d6b9f83\" class=\"plotly-graph-div\" style=\"height:525px; width:100%;\"></div>            <script type=\"text/javascript\">                require([\"plotly\"], function(Plotly) {                    window.PLOTLYENV=window.PLOTLYENV || {};                                    if (document.getElementById(\"243672e4-7018-4f51-8c62-3e664d6b9f83\")) {                    Plotly.newPlot(                        \"243672e4-7018-4f51-8c62-3e664d6b9f83\",                        [{\"colorscale\":[[0.0,\"#440154\"],[0.1111111111111111,\"#482878\"],[0.2222222222222222,\"#3e4989\"],[0.3333333333333333,\"#31688e\"],[0.4444444444444444,\"#26828e\"],[0.5555555555555556,\"#1f9e89\"],[0.6666666666666666,\"#35b779\"],[0.7777777777777778,\"#6ece58\"],[0.8888888888888888,\"#b5de2b\"],[1.0,\"#fde725\"]],\"x\":[\"Predicted 0\",\"Predicted 1\"],\"y\":[\"Actual 0\",\"Actual 1\"],\"z\":[[43578,203],[3901,287]],\"zmax\":43578,\"zmin\":0,\"type\":\"heatmap\"}],                        {\"template\":{\"data\":{\"histogram2dcontour\":[{\"type\":\"histogram2dcontour\",\"colorbar\":{\"outlinewidth\":0,\"ticks\":\"\"},\"colorscale\":[[0.0,\"#0d0887\"],[0.1111111111111111,\"#46039f\"],[0.2222222222222222,\"#7201a8\"],[0.3333333333333333,\"#9c179e\"],[0.4444444444444444,\"#bd3786\"],[0.5555555555555556,\"#d8576b\"],[0.6666666666666666,\"#ed7953\"],[0.7777777777777778,\"#fb9f3a\"],[0.8888888888888888,\"#fdca26\"],[1.0,\"#f0f921\"]]}],\"choropleth\":[{\"type\":\"choropleth\",\"colorbar\":{\"outlinewidth\":0,\"ticks\":\"\"}}],\"histogram2d\":[{\"type\":\"histogram2d\",\"colorbar\":{\"outlinewidth\":0,\"ticks\":\"\"},\"colorscale\":[[0.0,\"#0d0887\"],[0.1111111111111111,\"#46039f\"],[0.2222222222222222,\"#7201a8\"],[0.3333333333333333,\"#9c179e\"],[0.4444444444444444,\"#bd3786\"],[0.5555555555555556,\"#d8576b\"],[0.6666666666666666,\"#ed7953\"],[0.7777777777777778,\"#fb9f3a\"],[0.8888888888888888,\"#fdca26\"],[1.0,\"#f0f921\"]]}],\"heatmap\":[{\"type\":\"heatmap\",\"colorbar\":{\"outlinewidth\":0,\"ticks\":\"\"},\"colorscale\":[[0.0,\"#0d0887\"],[0.1111111111111111,\"#46039f\"],[0.2222222222222222,\"#7201a8\"],[0.3333333333333333,\"#9c179e\"],[0.4444444444444444,\"#bd3786\"],[0.5555555555555556,\"#d8576b\"],[0.6666666666666666,\"#ed7953\"],[0.7777777777777778,\"#fb9f3a\"],[0.8888888888888888,\"#fdca26\"],[1.0,\"#f0f921\"]]}],\"heatmapgl\":[{\"type\":\"heatmapgl\",\"colorbar\":{\"outlinewidth\":0,\"ticks\":\"\"},\"colorscale\":[[0.0,\"#0d0887\"],[0.1111111111111111,\"#46039f\"],[0.2222222222222222,\"#7201a8\"],[0.3333333333333333,\"#9c179e\"],[0.4444444444444444,\"#bd3786\"],[0.5555555555555556,\"#d8576b\"],[0.6666666666666666,\"#ed7953\"],[0.7777777777777778,\"#fb9f3a\"],[0.8888888888888888,\"#fdca26\"],[1.0,\"#f0f921\"]]}],\"contourcarpet\":[{\"type\":\"contourcarpet\",\"colorbar\":{\"outlinewidth\":0,\"ticks\":\"\"}}],\"contour\":[{\"type\":\"contour\",\"colorbar\":{\"outlinewidth\":0,\"ticks\":\"\"},\"colorscale\":[[0.0,\"#0d0887\"],[0.1111111111111111,\"#46039f\"],[0.2222222222222222,\"#7201a8\"],[0.3333333333333333,\"#9c179e\"],[0.4444444444444444,\"#bd3786\"],[0.5555555555555556,\"#d8576b\"],[0.6666666666666666,\"#ed7953\"],[0.7777777777777778,\"#fb9f3a\"],[0.8888888888888888,\"#fdca26\"],[1.0,\"#f0f921\"]]}],\"surface\":[{\"type\":\"surface\",\"colorbar\":{\"outlinewidth\":0,\"ticks\":\"\"},\"colorscale\":[[0.0,\"#0d0887\"],[0.1111111111111111,\"#46039f\"],[0.2222222222222222,\"#7201a8\"],[0.3333333333333333,\"#9c179e\"],[0.4444444444444444,\"#bd3786\"],[0.5555555555555556,\"#d8576b\"],[0.6666666666666666,\"#ed7953\"],[0.7777777777777778,\"#fb9f3a\"],[0.8888888888888888,\"#fdca26\"],[1.0,\"#f0f921\"]]}],\"mesh3d\":[{\"type\":\"mesh3d\",\"colorbar\":{\"outlinewidth\":0,\"ticks\":\"\"}}],\"scatter\":[{\"fillpattern\":{\"fillmode\":\"overlay\",\"size\":10,\"solidity\":0.2},\"type\":\"scatter\"}],\"parcoords\":[{\"type\":\"parcoords\",\"line\":{\"colorbar\":{\"outlinewidth\":0,\"ticks\":\"\"}}}],\"scatterpolargl\":[{\"type\":\"scatterpolargl\",\"marker\":{\"colorbar\":{\"outlinewidth\":0,\"ticks\":\"\"}}}],\"bar\":[{\"error_x\":{\"color\":\"#2a3f5f\"},\"error_y\":{\"color\":\"#2a3f5f\"},\"marker\":{\"line\":{\"color\":\"#E5ECF6\",\"width\":0.5},\"pattern\":{\"fillmode\":\"overlay\",\"size\":10,\"solidity\":0.2}},\"type\":\"bar\"}],\"scattergeo\":[{\"type\":\"scattergeo\",\"marker\":{\"colorbar\":{\"outlinewidth\":0,\"ticks\":\"\"}}}],\"scatterpolar\":[{\"type\":\"scatterpolar\",\"marker\":{\"colorbar\":{\"outlinewidth\":0,\"ticks\":\"\"}}}],\"histogram\":[{\"marker\":{\"pattern\":{\"fillmode\":\"overlay\",\"size\":10,\"solidity\":0.2}},\"type\":\"histogram\"}],\"scattergl\":[{\"type\":\"scattergl\",\"marker\":{\"colorbar\":{\"outlinewidth\":0,\"ticks\":\"\"}}}],\"scatter3d\":[{\"type\":\"scatter3d\",\"line\":{\"colorbar\":{\"outlinewidth\":0,\"ticks\":\"\"}},\"marker\":{\"colorbar\":{\"outlinewidth\":0,\"ticks\":\"\"}}}],\"scattermapbox\":[{\"type\":\"scattermapbox\",\"marker\":{\"colorbar\":{\"outlinewidth\":0,\"ticks\":\"\"}}}],\"scatterternary\":[{\"type\":\"scatterternary\",\"marker\":{\"colorbar\":{\"outlinewidth\":0,\"ticks\":\"\"}}}],\"scattercarpet\":[{\"type\":\"scattercarpet\",\"marker\":{\"colorbar\":{\"outlinewidth\":0,\"ticks\":\"\"}}}],\"carpet\":[{\"aaxis\":{\"endlinecolor\":\"#2a3f5f\",\"gridcolor\":\"white\",\"linecolor\":\"white\",\"minorgridcolor\":\"white\",\"startlinecolor\":\"#2a3f5f\"},\"baxis\":{\"endlinecolor\":\"#2a3f5f\",\"gridcolor\":\"white\",\"linecolor\":\"white\",\"minorgridcolor\":\"white\",\"startlinecolor\":\"#2a3f5f\"},\"type\":\"carpet\"}],\"table\":[{\"cells\":{\"fill\":{\"color\":\"#EBF0F8\"},\"line\":{\"color\":\"white\"}},\"header\":{\"fill\":{\"color\":\"#C8D4E3\"},\"line\":{\"color\":\"white\"}},\"type\":\"table\"}],\"barpolar\":[{\"marker\":{\"line\":{\"color\":\"#E5ECF6\",\"width\":0.5},\"pattern\":{\"fillmode\":\"overlay\",\"size\":10,\"solidity\":0.2}},\"type\":\"barpolar\"}],\"pie\":[{\"automargin\":true,\"type\":\"pie\"}]},\"layout\":{\"autotypenumbers\":\"strict\",\"colorway\":[\"#636efa\",\"#EF553B\",\"#00cc96\",\"#ab63fa\",\"#FFA15A\",\"#19d3f3\",\"#FF6692\",\"#B6E880\",\"#FF97FF\",\"#FECB52\"],\"font\":{\"color\":\"#2a3f5f\"},\"hovermode\":\"closest\",\"hoverlabel\":{\"align\":\"left\"},\"paper_bgcolor\":\"white\",\"plot_bgcolor\":\"#E5ECF6\",\"polar\":{\"bgcolor\":\"#E5ECF6\",\"angularaxis\":{\"gridcolor\":\"white\",\"linecolor\":\"white\",\"ticks\":\"\"},\"radialaxis\":{\"gridcolor\":\"white\",\"linecolor\":\"white\",\"ticks\":\"\"}},\"ternary\":{\"bgcolor\":\"#E5ECF6\",\"aaxis\":{\"gridcolor\":\"white\",\"linecolor\":\"white\",\"ticks\":\"\"},\"baxis\":{\"gridcolor\":\"white\",\"linecolor\":\"white\",\"ticks\":\"\"},\"caxis\":{\"gridcolor\":\"white\",\"linecolor\":\"white\",\"ticks\":\"\"}},\"coloraxis\":{\"colorbar\":{\"outlinewidth\":0,\"ticks\":\"\"}},\"colorscale\":{\"sequential\":[[0.0,\"#0d0887\"],[0.1111111111111111,\"#46039f\"],[0.2222222222222222,\"#7201a8\"],[0.3333333333333333,\"#9c179e\"],[0.4444444444444444,\"#bd3786\"],[0.5555555555555556,\"#d8576b\"],[0.6666666666666666,\"#ed7953\"],[0.7777777777777778,\"#fb9f3a\"],[0.8888888888888888,\"#fdca26\"],[1.0,\"#f0f921\"]],\"sequentialminus\":[[0.0,\"#0d0887\"],[0.1111111111111111,\"#46039f\"],[0.2222222222222222,\"#7201a8\"],[0.3333333333333333,\"#9c179e\"],[0.4444444444444444,\"#bd3786\"],[0.5555555555555556,\"#d8576b\"],[0.6666666666666666,\"#ed7953\"],[0.7777777777777778,\"#fb9f3a\"],[0.8888888888888888,\"#fdca26\"],[1.0,\"#f0f921\"]],\"diverging\":[[0,\"#8e0152\"],[0.1,\"#c51b7d\"],[0.2,\"#de77ae\"],[0.3,\"#f1b6da\"],[0.4,\"#fde0ef\"],[0.5,\"#f7f7f7\"],[0.6,\"#e6f5d0\"],[0.7,\"#b8e186\"],[0.8,\"#7fbc41\"],[0.9,\"#4d9221\"],[1,\"#276419\"]]},\"xaxis\":{\"gridcolor\":\"white\",\"linecolor\":\"white\",\"ticks\":\"\",\"title\":{\"standoff\":15},\"zerolinecolor\":\"white\",\"automargin\":true,\"zerolinewidth\":2},\"yaxis\":{\"gridcolor\":\"white\",\"linecolor\":\"white\",\"ticks\":\"\",\"title\":{\"standoff\":15},\"zerolinecolor\":\"white\",\"automargin\":true,\"zerolinewidth\":2},\"scene\":{\"xaxis\":{\"backgroundcolor\":\"#E5ECF6\",\"gridcolor\":\"white\",\"linecolor\":\"white\",\"showbackground\":true,\"ticks\":\"\",\"zerolinecolor\":\"white\",\"gridwidth\":2},\"yaxis\":{\"backgroundcolor\":\"#E5ECF6\",\"gridcolor\":\"white\",\"linecolor\":\"white\",\"showbackground\":true,\"ticks\":\"\",\"zerolinecolor\":\"white\",\"gridwidth\":2},\"zaxis\":{\"backgroundcolor\":\"#E5ECF6\",\"gridcolor\":\"white\",\"linecolor\":\"white\",\"showbackground\":true,\"ticks\":\"\",\"zerolinecolor\":\"white\",\"gridwidth\":2}},\"shapedefaults\":{\"line\":{\"color\":\"#2a3f5f\"}},\"annotationdefaults\":{\"arrowcolor\":\"#2a3f5f\",\"arrowhead\":0,\"arrowwidth\":1},\"geo\":{\"bgcolor\":\"white\",\"landcolor\":\"#E5ECF6\",\"subunitcolor\":\"white\",\"showland\":true,\"showlakes\":true,\"lakecolor\":\"white\"},\"title\":{\"x\":0.05},\"mapbox\":{\"style\":\"light\"}}},\"annotations\":[{\"font\":{\"color\":\"white\"},\"showarrow\":false,\"text\":\"43578\",\"x\":0,\"y\":0},{\"font\":{\"color\":\"white\"},\"showarrow\":false,\"text\":\"203\",\"x\":1,\"y\":0},{\"font\":{\"color\":\"white\"},\"showarrow\":false,\"text\":\"3901\",\"x\":0,\"y\":1},{\"font\":{\"color\":\"white\"},\"showarrow\":false,\"text\":\"287\",\"x\":1,\"y\":1}]},                        {\"responsive\": true}                    ).then(function(){\n",
       "                            \n",
       "var gd = document.getElementById('243672e4-7018-4f51-8c62-3e664d6b9f83');\n",
       "var x = new MutationObserver(function (mutations, observer) {{\n",
       "        var display = window.getComputedStyle(gd).display;\n",
       "        if (!display || display === 'none') {{\n",
       "            console.log([gd, 'removed!']);\n",
       "            Plotly.purge(gd);\n",
       "            observer.disconnect();\n",
       "        }}\n",
       "}});\n",
       "\n",
       "// Listen for the removal of the full notebook cells\n",
       "var notebookContainer = gd.closest('#notebook-container');\n",
       "if (notebookContainer) {{\n",
       "    x.observe(notebookContainer, {childList: true});\n",
       "}}\n",
       "\n",
       "// Listen for the clearing of the current output cell\n",
       "var outputEl = gd.closest('.output');\n",
       "if (outputEl) {{\n",
       "    x.observe(outputEl, {childList: true});\n",
       "}}\n",
       "\n",
       "                        })                };                });            </script>        </div>"
      ]
     },
     "metadata": {},
     "output_type": "display_data"
    }
   ],
   "source": [
    "# create annotations for each cell in the confusion matrix\n",
    "annotations = []\n",
    "for i in range(conf_matrix.shape[0]):\n",
    "    for j in range(conf_matrix.shape[1]):\n",
    "        annotations.append(dict(\n",
    "            x=j,\n",
    "            y=i,\n",
    "            text=str(conf_matrix[i, j]),\n",
    "            showarrow=False,\n",
    "            font=dict(color='white')\n",
    "        ))\n",
    "\n",
    "# plot the confusion matrix using plotly\n",
    "fig = go.Figure(data=go.Heatmap(\n",
    "    z=conf_matrix,\n",
    "    x=['Predicted 0', 'Predicted 1'],\n",
    "    y=['Actual 0', 'Actual 1'],\n",
    "    colorscale='Viridis',\n",
    "    zmin=0,\n",
    "    zmax=conf_matrix.max()\n",
    "))\n",
    "fig.update_layout(annotations=annotations)\n",
    "fig.show()"
   ]
  },
  {
   "cell_type": "markdown",
   "id": "c57f8ba7",
   "metadata": {},
   "source": [
    "El ensemble no ha mejorado de ninguna forma significativa el modelo. Por ello, para el modelo nos decantaremos finalmente por..."
   ]
  },
  {
   "cell_type": "markdown",
   "id": "61138e54",
   "metadata": {},
   "source": [
    "## Almacenar modelo en archivo binario"
   ]
  },
  {
   "cell_type": "code",
   "execution_count": 132,
   "id": "ad6a9376",
   "metadata": {},
   "outputs": [],
   "source": [
    "# Guardar el modelo... (joblib) cluster scaler\n",
    "pk.dump(cluster, open('cluster.plk', 'wb'))\n",
    "pk.dump(scaler, open('scaler.plk', 'wb'))\n",
    "pk.dump(xgb_model, open('modelo_heart_disease.plk', 'wb'))  # cambiar 'wb' a 'rb' para leer.\n"
   ]
  },
  {
   "cell_type": "code",
   "execution_count": null,
   "id": "e776191c",
   "metadata": {},
   "outputs": [],
   "source": []
  }
 ],
 "metadata": {
  "kernelspec": {
   "display_name": "Python 3 (ipykernel)",
   "language": "python",
   "name": "python3"
  },
  "language_info": {
   "codemirror_mode": {
    "name": "ipython",
    "version": 3
   },
   "file_extension": ".py",
   "mimetype": "text/x-python",
   "name": "python",
   "nbconvert_exporter": "python",
   "pygments_lexer": "ipython3",
   "version": "3.9.12"
  }
 },
 "nbformat": 4,
 "nbformat_minor": 5
}
